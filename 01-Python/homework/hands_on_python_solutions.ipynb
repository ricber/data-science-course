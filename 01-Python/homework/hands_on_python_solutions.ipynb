{
 "cells": [
  {
   "cell_type": "markdown",
   "metadata": {},
   "source": [
    "<table width=100%>\n",
    "<tr>\n",
    "    <td><h1 style=\"text-align: left; font-size:300%;\">\n",
    "        Python - Hands On Solutions\n",
    "    </h1></td>\n",
    "    <td width=\"50%\">\n",
    "    <div style=\"text-align: right\">\n",
    "    <b> Practical Data Science Lessons</b><br><br>\n",
    "    <b> Riccardo Bertoglio</b><br>\n",
    "    <a href=\"mailto:riccardo.bertoglio@polimi.it\">riccardo.bertoglio@polimi.it</a><br>\n",
    "    </div>\n",
    "</tr>\n",
    "</table>"
   ]
  },
  {
   "cell_type": "markdown",
   "metadata": {},
   "source": [
    "Official tutorial: <a href='https://docs.python.org/3/tutorial/index.html#tutorial-index'>https://docs.python.org/3/tutorial/index.html#tutorial-index</a>"
   ]
  },
  {
   "cell_type": "code",
   "execution_count": 1,
   "metadata": {},
   "outputs": [],
   "source": [
    "# Run this code to make Jupyter print every\n",
    "# printable statement and not just the last one\n",
    "from IPython.core.interactiveshell import InteractiveShell\n",
    "InteractiveShell.ast_node_interactivity = \"all\""
   ]
  },
  {
   "cell_type": "markdown",
   "metadata": {},
   "source": [
    "## 1. Write a Python program which accepts the radius of a circle from the user and compute the area\n",
    "Note1: use the `input()` function to get data from the user\n",
    "\n",
    "Note2: the area of a circle is `pi * r^2`"
   ]
  },
  {
   "cell_type": "code",
   "execution_count": 2,
   "metadata": {},
   "outputs": [
    {
     "name": "stdout",
     "output_type": "stream",
     "text": [
      "Input the radius of the circle : 2\n",
      "The area of the circle with radius 2.0 is: 12.566370614359172\n"
     ]
    }
   ],
   "source": [
    "from math import pi\n",
    "\n",
    "r = float(input (\"Input the radius of the circle : \"))\n",
    "print (\"The area of the circle with radius \" + str(r) + \" is: \" + str(pi * r**2))"
   ]
  },
  {
   "cell_type": "markdown",
   "metadata": {},
   "source": [
    "## 2. Generate a list and tuple with comma-separated number between them\n",
    "Note1: the `input()` function returns a string\n",
    "\n",
    "Note2: look in the official Python documentation for the function `split()` (https://docs.python.org/3.10/library/stdtypes.html#str.split)"
   ]
  },
  {
   "cell_type": "code",
   "execution_count": 3,
   "metadata": {},
   "outputs": [
    {
     "name": "stdout",
     "output_type": "stream",
     "text": [
      "Input some comma seprated numbers : 1,5,3,2,7\n",
      "List :  ['1', '5', '3', '2', '7']\n",
      "Tuple :  ('1', '5', '3', '2', '7')\n"
     ]
    }
   ],
   "source": [
    "values = input(\"Input some comma seprated numbers : \")\n",
    "input_list = values.split(\",\")\n",
    "input_tuple = tuple(input_list)\n",
    "print('List : ',input_list)\n",
    "print('Tuple : ',input_tuple)"
   ]
  },
  {
   "cell_type": "markdown",
   "metadata": {},
   "source": [
    "## 3. Write a Python program to display the examination schedule (extract the date from exam_st_date)\n",
    "To format strings:\n",
    "1. On the left of the % operator, provide a format string containing one or more em\u0002bedded conversion targets, each of which starts with a % (e.g., %d).\n",
    "2. On the right of the % operator, provide the object (or objects, embedded in a tuple) that you want Python to insert into the format string on the left in place of the conversion target (or targets).\n",
    "\n",
    "Some common string formatting type codes:\n",
    "- %s - string\n",
    "- %d - decimal\n",
    "- %i - integer\n",
    "- %f - floating-point decimal\n",
    "\n",
    "For instance, in the following formatting example, the integer 1 replaces the %d in the format string on the left, and the string 'dead' replaces the %s. The result is a new string that reflects these two substitutions, which may be printed or saved for use in other roles:"
   ]
  },
  {
   "cell_type": "code",
   "execution_count": 4,
   "metadata": {},
   "outputs": [
    {
     "data": {
      "text/plain": [
       "'That is 1 dead bird!'"
      ]
     },
     "execution_count": 4,
     "metadata": {},
     "output_type": "execute_result"
    }
   ],
   "source": [
    "# Formatting example\n",
    "'That is %d %s bird!' % (1, 'dead')"
   ]
  },
  {
   "cell_type": "code",
   "execution_count": 5,
   "metadata": {},
   "outputs": [],
   "source": [
    "exam_st_date = (11,12,2014)"
   ]
  },
  {
   "cell_type": "code",
   "execution_count": 6,
   "metadata": {},
   "outputs": [
    {
     "name": "stdout",
     "output_type": "stream",
     "text": [
      "The examination will start from : 11 / 12 / 2014\n"
     ]
    }
   ],
   "source": [
    "print( \"The examination will start from : %i / %i / %i\"%exam_st_date)"
   ]
  },
  {
   "cell_type": "markdown",
   "metadata": {},
   "source": [
    "## 4. Write a Python function to calculate the sum of three given numbers, if the values are equal then return three times their sum"
   ]
  },
  {
   "cell_type": "code",
   "execution_count": 7,
   "metadata": {},
   "outputs": [],
   "source": [
    "def sum_thrice(x, y, z):\n",
    "    \n",
    "    sum = x + y + z\n",
    "        \n",
    "    if x == y == z:\n",
    "        sum = sum * 3\n",
    "    return sum"
   ]
  },
  {
   "cell_type": "code",
   "execution_count": 8,
   "metadata": {},
   "outputs": [
    {
     "name": "stdout",
     "output_type": "stream",
     "text": [
      "6\n",
      "27\n"
     ]
    }
   ],
   "source": [
    "print(sum_thrice(1, 2, 3))\n",
    "print(sum_thrice(3, 3, 3))"
   ]
  },
  {
   "cell_type": "markdown",
   "metadata": {},
   "source": [
    "## 5. Write a Python function to check whether a specified value 'n' is contained in a group of values 'group_data'"
   ]
  },
  {
   "cell_type": "code",
   "execution_count": 9,
   "metadata": {},
   "outputs": [],
   "source": [
    "def is_group_member(group_data, n):\n",
    "    for value in group_data:\n",
    "        if n == value:\n",
    "            return True\n",
    "    return False"
   ]
  },
  {
   "cell_type": "code",
   "execution_count": 10,
   "metadata": {},
   "outputs": [
    {
     "name": "stdout",
     "output_type": "stream",
     "text": [
      "True\n",
      "False\n"
     ]
    }
   ],
   "source": [
    "print(is_group_member([1, 5, 8, 3], 3))\n",
    "print(is_group_member([5, 8, 3], -1))"
   ]
  },
  {
   "cell_type": "markdown",
   "metadata": {},
   "source": [
    "## 6. Write a Python function to count the number of characters (character frequency) in a string\n",
    "Note1: use a dictionary\n",
    "\n",
    "Note2: use the `keys()` method to get the dictionary keys"
   ]
  },
  {
   "cell_type": "code",
   "execution_count": 1,
   "metadata": {},
   "outputs": [],
   "source": [
    "def char_frequency(str1):\n",
    "    dict = {}\n",
    "    for c in str1:\n",
    "        keys = dict.keys()\n",
    "        if c in keys:\n",
    "            dict[c] += 1\n",
    "        else:\n",
    "            dict[c] = 1\n",
    "    return dict"
   ]
  },
  {
   "cell_type": "code",
   "execution_count": 2,
   "metadata": {},
   "outputs": [
    {
     "name": "stdout",
     "output_type": "stream",
     "text": [
      "{'g': 2, 'o': 3, 'l': 1, 'e': 1, '.': 1, 'c': 1, 'm': 1}\n"
     ]
    }
   ],
   "source": [
    "print(char_frequency('google.com'))"
   ]
  },
  {
   "cell_type": "markdown",
   "metadata": {},
   "source": [
    "## 7. Write a Python function to count the number of even and odd numbers from a given tuple"
   ]
  },
  {
   "cell_type": "code",
   "execution_count": 13,
   "metadata": {},
   "outputs": [],
   "source": [
    "def count_even_odd(numbers):\n",
    "    count_odd = 0\n",
    "    count_even = 0\n",
    "    for x in numbers:\n",
    "        if not x % 2:\n",
    "            count_even+=1\n",
    "        else:\n",
    "            count_odd+=1\n",
    "    return (count_even, count_odd)"
   ]
  },
  {
   "cell_type": "code",
   "execution_count": 14,
   "metadata": {},
   "outputs": [
    {
     "name": "stdout",
     "output_type": "stream",
     "text": [
      "Number of even numbers : 4\n",
      "Number of odd numbers : 5\n"
     ]
    }
   ],
   "source": [
    "numbers = (1, 2, 3, 4, 5, 6, 7, 8, 9) # Declaring the tuple\n",
    "count_even, count_odd = count_even_odd(numbers)\n",
    "print(\"Number of even numbers :\",count_even)\n",
    "print(\"Number of odd numbers :\",count_odd)"
   ]
  },
  {
   "cell_type": "markdown",
   "metadata": {},
   "source": [
    "## 8. Write a Python program that accepts a word from the user and reverse it\n",
    "Note: you may need to specify the `end` parameter of the Python built-in `print()` function (https://docs.python.org/3/library/functions.html#print) "
   ]
  },
  {
   "cell_type": "code",
   "execution_count": 15,
   "metadata": {},
   "outputs": [
    {
     "name": "stdout",
     "output_type": "stream",
     "text": [
      "Input a word to reverse: python\n"
     ]
    }
   ],
   "source": [
    "word = input(\"Input a word to reverse: \")"
   ]
  },
  {
   "cell_type": "code",
   "execution_count": 16,
   "metadata": {},
   "outputs": [
    {
     "name": "stdout",
     "output_type": "stream",
     "text": [
      "nohtyp\n",
      "\n"
     ]
    }
   ],
   "source": [
    "for i in range(len(word) - 1, -1, -1):\n",
    "    print(word[i], end=\"\")\n",
    "print(\"\\n\")"
   ]
  },
  {
   "cell_type": "markdown",
   "metadata": {},
   "source": [
    "## 9. Write a Python program to test whether all numbers of a list are greater than a certain number 'n'\n",
    "Note: you may want to use the function Python built-in `all()` function. The `all()` function returns True if all items in an iterable (like a list) are true, otherwise it returns False."
   ]
  },
  {
   "cell_type": "code",
   "execution_count": 17,
   "metadata": {},
   "outputs": [],
   "source": [
    "num = [2, 3, 4, 5]\n",
    "n = 1"
   ]
  },
  {
   "cell_type": "code",
   "execution_count": 18,
   "metadata": {},
   "outputs": [
    {
     "name": "stdout",
     "output_type": "stream",
     "text": [
      "True\n"
     ]
    }
   ],
   "source": [
    "list1 = []\n",
    "for x in num:\n",
    "    list1.append(x > n)\n",
    "    \n",
    "print(all(list1))"
   ]
  },
  {
   "cell_type": "markdown",
   "metadata": {},
   "source": [
    "## 10. Write a Python program to print out all even numbers from a given list in the same order and stop printing any number that comes after 237 in the sequence\n",
    "Note: the `break` statement in Python terminates the current loop and resumes execution at the next statement "
   ]
  },
  {
   "cell_type": "code",
   "execution_count": 19,
   "metadata": {},
   "outputs": [],
   "source": [
    "numbers = [    \n",
    "    386, 462, 47, 418, 907, 344, 236, 375, 823, 566, 597, 978, 328, 615, 953, 345, \n",
    "    399, 162, 758, 219, 918, 237, 412, 566, 826, 248, 866, 950, 626, 949, 687, 217, \n",
    "    815, 67, 104, 58, 512, 24, 892, 894, 767, 553, 81, 379, 843, 831, 445, 742, 717, \n",
    "    958,743, 527\n",
    "    ]"
   ]
  },
  {
   "cell_type": "code",
   "execution_count": 20,
   "metadata": {},
   "outputs": [
    {
     "name": "stdout",
     "output_type": "stream",
     "text": [
      "386\n",
      "462\n",
      "418\n",
      "344\n",
      "236\n",
      "566\n",
      "978\n",
      "328\n",
      "162\n",
      "758\n",
      "918\n",
      "237\n"
     ]
    }
   ],
   "source": [
    "for x in numbers:\n",
    "    if x == 237:\n",
    "        print(x)\n",
    "        break\n",
    "    elif x % 2 == 0:\n",
    "        print(x)"
   ]
  }
 ],
 "metadata": {
  "kernelspec": {
   "display_name": "Python 3 (ipykernel)",
   "language": "python",
   "name": "python3"
  },
  "language_info": {
   "codemirror_mode": {
    "name": "ipython",
    "version": 3
   },
   "file_extension": ".py",
   "mimetype": "text/x-python",
   "name": "python",
   "nbconvert_exporter": "python",
   "pygments_lexer": "ipython3",
   "version": "3.11.5"
  }
 },
 "nbformat": 4,
 "nbformat_minor": 4
}
