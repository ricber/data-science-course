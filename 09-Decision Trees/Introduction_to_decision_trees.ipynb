{
 "cells": [
  {
   "cell_type": "markdown",
   "id": "ba94fdbc",
   "metadata": {},
   "source": [
    "<table width=100%>\n",
    "<tr>\n",
    "    <td><h1 style=\"text-align: left; font-size:300%;\">\n",
    "        Decision Trees\n",
    "    </h1></td>\n",
    "    <td width=\"30%\">\n",
    "    <div style=\"text-align: right\">\n",
    "    <b> Practical Data Science Lessons</b><br><br>\n",
    "    <b> Riccardo Bertoglio</b><br>\n",
    "    <a href=\"mailto:riccardo.bertoglio@polimi.it\">riccardo.bertoglio@polimi.it</a><br>\n",
    "    </div>\n",
    "</tr>\n",
    "</table>"
   ]
  },
  {
   "cell_type": "markdown",
   "id": "8c83fe71",
   "metadata": {},
   "source": [
    "## Learning outcomes 🔎\n",
    "\n",
    "\n",
    "*   [What are Decision Trees?](#what_are_dts)\n",
    "*   [How to build Decision Trees?](#how_build_dts)\n",
    "*   [Comparison with other models](#comparison)\n",
    "*   [How do decision trees work?](#how_do_dts_work)\n",
    "*   [Class-imbalanced datasets](#class_imbalance)\n",
    "*   [Ensemble methods](#ensemble)\n",
    "\n",
    "#### Resources:\n",
    "* **Theory:**\n",
    "    *   *[An Introduction to Statistical Learning](https://www.statlearning.com/)*\n",
    "* **Practice:**\n",
    "    *   *[scikit-learn User Guide](https://scikit-learn.org/stable/user_guide.html)*\n",
    "    *   *[Harvard 2021 CS109-A: Introduction to Data Science](https://harvard-iacs.github.io/2021-CS109A/)*\n",
    "    *   *[XGBoost official documentation](https://xgboost.readthedocs.io/en/stable/)*\n",
    "    *   *[scikit-learn tips on practical use](https://scikit-learn.org/stable/modules/tree.html#tips-on-practical-use)*"
   ]
  },
  {
   "cell_type": "markdown",
   "id": "b1a8cd2b",
   "metadata": {},
   "source": [
    "<a id='what_are_dts'></a>\n",
    "## What are Decision Trees?\n",
    "\n",
    "Tree-based methods involve stratifying or **segmenting the predictor space into a number of simple regions**. Decision trees can be used for **both regression and classification** tasks. In order to make a prediction for a given observation, we tipically **use the mean or the mode response value of the training observations** in the region to which it belongs. Since the set of splitting rules can be summarized in a tree, these types of approaches are known as decision trees. Tree-based methods are simple and useful for interpretation. However, they typicallly are not competitive with the best supervised learning approaches in terms of prediction accuracy. Hence, in this lesson we also introduce **bagging**, **random forests**, and **boosting**. Each of these approaches involve producing multiple trees which are then combained to yiled a single consensus prediction. We will see that combining  al large number of trees can often result in dramatic improvements in prediciton accuracy, at the expense of some interpretation."
   ]
  },
  {
   "cell_type": "markdown",
   "id": "2458165d",
   "metadata": {},
   "source": [
    "<a id='how_do_dts_work'></a>\n",
    "### How do decision trees work?\n",
    "\n",
    "#### The Idea: Decision Trees are just flowcharts and are interpretable!\n",
    "\n",
    "<img src=\"fig/flowchart.png\" alt=\"how to fix anything\" width=\"70%\"/>\n",
    "\n",
    "\n",
    "It turns out that simple flow charts can be formulated as mathematical models for classification and these models have the properties we desire:\n",
    " - interpretable by humans\n",
    " - have sufficiently complex decision boundaries\n",
    " - the decision boundaries are locally linear, each component of the decision boundary is simple to describe mathematically"
   ]
  },
  {
   "cell_type": "markdown",
   "id": "d63cb482",
   "metadata": {},
   "source": [
    "### Basic terminology associated with decision trees:\n",
    "\n",
    "1. **Nodes**: Nodes are the fundamental building blocks of decision trees. Each node represents a question or a decision based on a feature (attribute) of the dataset. There is a root node, the topmost node in the tree, and two other main types of nodes:\n",
    "   \n",
    "   - **Internal Nodes**: Nodes that are not leaf nodes. These nodes represent decisions based on features and lead to further splitting of the dataset.\n",
    "   \n",
    "   - **Leaf Nodes**: Also known as terminal nodes, these nodes represent the final outcome of the decision tree. They do not split further and contain the predicted value (in regression) or the class label (in classification).\n",
    "\n",
    "2. **Branches**: Branches are the lines connecting nodes in a decision tree. They represent the possible outcomes of a decision (based on a feature) and lead from one node to another. Each branch corresponds to a specific value of the feature being evaluated at a node."
   ]
  },
  {
   "cell_type": "markdown",
   "id": "b1c171a3",
   "metadata": {},
   "source": [
    "<a id='how_build_dts'></a>\n",
    "## How to build Decision Trees \n",
    "To learn a decision tree model, we take a greedy approach: \n",
    " 1. Start with an empty decision tree (undivided feature space) \n",
    " 2. Choose the ‘optimal’ predictor on which to split and choose the ‘optimal’ threshold value for splitting by applying a **splitting criterion (1)**\n",
    " 3. Recurse on each new node until **stopping condition (2)** is met\n",
    " \n",
    "For classification, we label each region in the model with the label of the class to which the majority of the points within the region belong. For regression, we use the mean of the points."
   ]
  },
  {
   "cell_type": "markdown",
   "id": "0274896d",
   "metadata": {},
   "source": [
    "### Decision Trees with Scikit-learn\n",
    "Creating a decision tree for classification is very simple, just instantiate a `DecisionTreeClassifier` object from the `tree` module. Then, use the `fit` method to train the tree.\n",
    "```python\n",
    "from sklearn.tree import DecisionTreeClassifier\n",
    "\n",
    "tree = DecisionTreeClassifier()\n",
    "# train_x, train_y is the training data and targets.\n",
    "tree.fit(train_x, train_y)\n",
    "```\n",
    "\n",
    "Decision trees can also be applied to regression problems, using the `DecisionTreeRegressor` class.\n",
    "As in the classification setting, the fit method will take as argument arrays $X$ and $y$, only that in this case $y$ is expected to have floating point values instead of integer values.\n",
    "```python\n",
    "from sklearn.tree import DecisionTreeRegressor\n",
    "\n",
    "tree = DecisionTreeRegressor()\n",
    "# train_x, train_y is the training data and targets.\n",
    "tree.fit(train_x, train_y)\n",
    "```\n",
    "\n",
    "You can evaluate the `tree` model with the usual regression or classification metrics, depending on the task at hand: MSE, MAE, RMSE, accuracy, F1-score, etc."
   ]
  },
  {
   "cell_type": "markdown",
   "id": "f8a932b2",
   "metadata": {},
   "source": [
    "### Splitting criterion\n",
    "\n",
    "As you can see from above, a decision tree actually is a binary tree. You start at the root node, choose the branch based on the conditions on the non-leaf nodes, and go all the way down to a leaf node. The label of a leaf node is the prediction of the sample. \n",
    "\n",
    "**How do you decide what condition is in one non-leaf node? What metric do we use to split the tree?**\n",
    "The quality of a candidate split of node is computed **using an impurity function or loss function**, the choice of which depends on the task being solved (classification or regression). The goal is to select the parameters (the feature to split on and the threshold) that minimize the impurity.\n",
    "\n",
    "- For classification tasks, we use the **Gini Index** or the **Entropy**. \n",
    "- For regression we use the **MSE**, **Half Poisson deviance**, or **MAE**. Using the poisson criterion might be a good choice if your target is a count or a frequency (count per some unit). In any case, $y >= 0$ is a necessary condition to use this criterion.\n",
    "\n",
    "Both sklearn `DecisionTreeRegressor` and `DecisionTreeClassifier` has a `criterion` parameter to set the split criterion.\n",
    "\n",
    "#### Gini Index\n",
    "The formula for the Gini Index used for splitting a node in classification decision trees is as follows:\n",
    "$$\n",
    "\\text{Gini}(p) = \\sum_{i=1}^C (p_i \\times (1 - p_i))\n",
    "$$\n",
    "In this formula, $\\text{Gini}(p)$ is the Gini impurity for a node with $C$ classes, and $p_i$ is the proportion of samples in the node that belong to class $i$. The Gini impurity measures the probability of misclassifying a sample in the node if it is randomly assigned to a class based on the class distribution in the node. A Gini impurity of 0 means that the node contains only samples from a single class, while a Gini impurity of 0.5 means that the node contains an equal proportion of samples from all classes.\n",
    "\n",
    "When building a decision tree, the algorithm evaluates the Gini impurity for each possible split and chooses the split that results in the lowest impurity.\n",
    "\n",
    "#### Entropy\n",
    "An alternative to the Gini index is entropy, given by:\n",
    "$$\n",
    "\\text{Entropy}(p) = - \\sum_{i=1}^C p_i \\log_2 p_i\n",
    "$$\n",
    "In this formula, $\\text{Entropy}(p)$ is the entropy of a node with $C$ classes, and $p_i$ is the proportion of samples in the node that belong to class $i$. The entropy measures the impurity or uncertainty of a node, where a node with a high entropy contains samples from multiple classes in similar proportions, while a node with low entropy contains samples from a single class.\n",
    "\n",
    "The entropy formula involves taking the negative sum of the products of $p_i$ and the logarithm (base 2) of $p_i$ for each class $i$. The logarithm is used to weight the contribution of each class based on its proportion, such that classes with a larger proportion have a higher weight in the calculation. The entropy is minimized when all samples in the node belong to the same class (i.e., $p_i = 1$ for one class and $p_i = 0$ for all other classes), and is maximized when the samples are evenly distributed across all classes (i.e., $p_i = 1/C$ for all classes)."
   ]
  },
  {
   "cell_type": "markdown",
   "id": "75a11182",
   "metadata": {},
   "source": [
    "#### Classification example\n",
    "<img src=\"fig/split1.png\" alt=\"split1\" width=\"70%\"/>\n",
    "<img src=\"fig/split2.png\" alt=\"split2\" width=\"70%\"/>"
   ]
  },
  {
   "cell_type": "markdown",
   "id": "b08c1979",
   "metadata": {},
   "source": [
    "<img src=\"fig/simple_tree.png\" alt=\"tree_adj\" width=\"39%\"/>\n",
    "<img src=\"fig/tree_loss.png\" alt=\"tree_adj\" width=\"39%\"/>"
   ]
  },
  {
   "cell_type": "markdown",
   "id": "d7f78436",
   "metadata": {},
   "source": [
    "### Stopping condition\n",
    "\n",
    "If we don’t terminate the decision tree learning algorithm manually, the tree will continue to grow until each region defined by the model possibly contains exactly one training point (and the model attains 100% training accuracy). **Not stopping while building a deeper and deeper tree = 100% training accuracy; What will your test accuracy be? What can we do to fix this?**\n",
    "\n",
    "Their complexity should be constrained using some techniques:\n",
    "- Setting the minimum number of samples required at a leaf node. Use the `min_samples_leaf` parameter with scikit-learn classes.\n",
    "- Setting the minimum number of samples required to split an internal node. Use the `min_samples_split` parameter.\n",
    "- Setting the maximum depth of the tree. Use the `max_depth` parameter.\n",
    "- Setting a minimum impurity decrease threshold for a split. A node will be split if this split induces a decrease of the impurity greater than or equal to the threshold. Use the `min_impurity_decrease` parameter. However, this strategy could be too short-sighted since a seemingly worthless split early on in the tree might be followed by a very good split—that is, a split that leads to a large reduction in impurity later on. Therefore, a better strategy is to grow a very large tree, and then **prune** it back in order to obtain a subtree.\n",
    "- **Pruning** consists of selecting a subtree of a more complex tree so to reduce the test error rate. However, estimating the test error for every possible subtree would be too cumbersome, since there is an extremely large number of possible subtrees. Thus, we use the **Minimal cost-complexity** pruning algorithm.\n",
    "\n",
    "#### Minimal cost-complexity\n",
    "Rather than considering every possible subtree, we consider a sequence of trees indexed by a nonnegative tuning parameter $\\alpha$. For each value of $\\alpha$ there corresponds a subtree $T ⊂ T_{0}$ such that\n",
    "\n",
    "$$\n",
    "R_{\\alpha}(T) = R(T) + \\alpha|T|\n",
    "$$\n",
    "\n",
    "is as small as possible.\n",
    "\n",
    "In this formula, $R_{\\alpha}(T)$ is the cost complexity criterion for a tree $T$ with regularization parameter $\\alpha$, $|T|$ is the number of terminal nodes (i.e., leaves) in the tree, and $R(T)$ is the total impurity of the terminal nodes.\n",
    "\n",
    "It turns out that as we increase $\\alpha$ from zero, branches get pruned from the tree in a nested and predictable fashion, so obtaining the whole sequence of subtrees as a function of $\\alpha$ is easy. We can select a value of $\\alpha$ using a validation set or using cross-validation. We then return to the full data set and obtain the subtree corresponding to $\\alpha$.\n",
    "\n",
    "In scikit-learn you can set $\\alpha$ with the `ccp_alpha` parameter."
   ]
  },
  {
   "cell_type": "markdown",
   "id": "eadde37a",
   "metadata": {},
   "source": [
    "<a id='comparison'></a>\n",
    "## Comparison with other models\n",
    "### Advantages\n",
    "- Decision Trees (DTs) are simple to understand and interpret.\n",
    "- Can handle both numerical and categorical data. However, the scikit-learn implementation does not support categorical variables for now.\n",
    "- Require little data preparation. Other techniques often require data normalization, dummy variables need to be created and blank values to be removed. \n",
    "### Disadvatages\n",
    "- DTs are easy to overfit (it can be mitigated by pruning or using ensemble methods).\n",
    "- Simple DT usually show worse perfomance than other supervised models (however, ensemble methods can increase the performance).\n",
    "- DTs can be unstable because small variations in the data might result in a completely different tree being generated. This problem is mitigated by using decision trees within an ensemble.\n",
    "- DTs create biased trees if some classes dominate. It is therefore recommended to balance the dataset prior to fitting with the decision tree."
   ]
  },
  {
   "cell_type": "markdown",
   "id": "5376f7ee",
   "metadata": {},
   "source": [
    "<a id='class_imbalance'></a>\n",
    "## Class-imbalanced datasets\n",
    "Machine learning algorithm can be biased if some classes dominate. It is therefore recommended to balance the dataset prior to fitting with the decision tree. Alternatively, class balancing can be done by associating weights to samples. The less represented samples will be weighted more. In scikit-learn, you can specify class-wise weights with the `class_weight` parameter of `DecisionTreeClassifier`, or by setting the `sample_weight` parameter of the `fit` method to specify single weights for each sample. The `class_weight` parameter can also be set to `balanced`. The “balanced” mode uses the values of $y$ to automatically adjust weights inversely proportional to class frequencies in the input data as `n_samples / (n_classes * np.bincount(y))`"
   ]
  },
  {
   "cell_type": "markdown",
   "id": "1edc0cd7",
   "metadata": {},
   "source": [
    "## Classification on the Spam Dataset"
   ]
  },
  {
   "cell_type": "code",
   "execution_count": 24,
   "id": "238c537d",
   "metadata": {},
   "outputs": [],
   "source": [
    "import numpy as np\n",
    "import pandas as pd\n",
    "import matplotlib\n",
    "import matplotlib.pyplot as plt\n",
    "import seaborn as sns\n",
    "import sklearn\n",
    "import sklearn.metrics as metrics\n",
    "from sklearn.model_selection import cross_val_score\n",
    "from sklearn.metrics import accuracy_score\n",
    "from sklearn.model_selection import KFold\n",
    "from sklearn.metrics import confusion_matrix\n",
    "from sklearn import datasets\n",
    "\n",
    "# new model objects\n",
    "from sklearn.tree import DecisionTreeClassifier\n",
    "from sklearn.ensemble import BaggingClassifier\n",
    "\n",
    "%matplotlib inline\n",
    "\n",
    "pd.set_option('display.width', 1500)\n",
    "pd.set_option('display.max_columns', 100)\n",
    "\n",
    "from sklearn.model_selection import learning_curve"
   ]
  },
  {
   "cell_type": "markdown",
   "id": "7daba91e",
   "metadata": {},
   "source": [
    "We will be working with a spam email dataset. The dataset has 57 predictors with a response variable called `Spam` that indicates whether an email is spam or not spam. The goal is to be able to **create a classifier or method that acts as a spam filter**."
   ]
  },
  {
   "cell_type": "code",
   "execution_count": 2,
   "id": "1530157e",
   "metadata": {},
   "outputs": [
    {
     "data": {
      "text/html": [
       "<div>\n",
       "<style scoped>\n",
       "    .dataframe tbody tr th:only-of-type {\n",
       "        vertical-align: middle;\n",
       "    }\n",
       "\n",
       "    .dataframe tbody tr th {\n",
       "        vertical-align: top;\n",
       "    }\n",
       "\n",
       "    .dataframe thead th {\n",
       "        text-align: right;\n",
       "    }\n",
       "</style>\n",
       "<table border=\"1\" class=\"dataframe\">\n",
       "  <thead>\n",
       "    <tr style=\"text-align: right;\">\n",
       "      <th></th>\n",
       "      <th>Feature_1</th>\n",
       "      <th>Feature_2</th>\n",
       "      <th>Feature_3</th>\n",
       "      <th>Feature_4</th>\n",
       "      <th>Feature_5</th>\n",
       "      <th>Feature_6</th>\n",
       "      <th>Feature_7</th>\n",
       "      <th>Feature_8</th>\n",
       "      <th>Feature_9</th>\n",
       "      <th>Feature_10</th>\n",
       "      <th>Feature_11</th>\n",
       "      <th>Feature_12</th>\n",
       "      <th>Feature_13</th>\n",
       "      <th>Feature_14</th>\n",
       "      <th>Feature_15</th>\n",
       "      <th>Feature_16</th>\n",
       "      <th>Feature_17</th>\n",
       "      <th>Feature_18</th>\n",
       "      <th>Feature_19</th>\n",
       "      <th>Feature_20</th>\n",
       "      <th>Feature_21</th>\n",
       "      <th>Feature_22</th>\n",
       "      <th>Feature_23</th>\n",
       "      <th>Feature_24</th>\n",
       "      <th>Feature_25</th>\n",
       "      <th>Feature_26</th>\n",
       "      <th>Feature_27</th>\n",
       "      <th>Feature_28</th>\n",
       "      <th>Feature_29</th>\n",
       "      <th>Feature_30</th>\n",
       "      <th>Feature_31</th>\n",
       "      <th>Feature_32</th>\n",
       "      <th>Feature_33</th>\n",
       "      <th>Feature_34</th>\n",
       "      <th>Feature_35</th>\n",
       "      <th>Feature_36</th>\n",
       "      <th>Feature_37</th>\n",
       "      <th>Feature_38</th>\n",
       "      <th>Feature_39</th>\n",
       "      <th>Feature_40</th>\n",
       "      <th>Feature_41</th>\n",
       "      <th>Feature_42</th>\n",
       "      <th>Feature_43</th>\n",
       "      <th>Feature_44</th>\n",
       "      <th>Feature_45</th>\n",
       "      <th>Feature_46</th>\n",
       "      <th>Feature_47</th>\n",
       "      <th>Feature_48</th>\n",
       "      <th>Feature_49</th>\n",
       "      <th>Feature_50</th>\n",
       "      <th>Feature_51</th>\n",
       "      <th>Feature_52</th>\n",
       "      <th>Feature_53</th>\n",
       "      <th>Feature_54</th>\n",
       "      <th>Feature_55</th>\n",
       "      <th>Feature_56</th>\n",
       "      <th>Feature_57</th>\n",
       "      <th>Spam</th>\n",
       "    </tr>\n",
       "  </thead>\n",
       "  <tbody>\n",
       "    <tr>\n",
       "      <th>0</th>\n",
       "      <td>0.00</td>\n",
       "      <td>0.64</td>\n",
       "      <td>0.64</td>\n",
       "      <td>0.0</td>\n",
       "      <td>0.32</td>\n",
       "      <td>0.00</td>\n",
       "      <td>0.00</td>\n",
       "      <td>0.00</td>\n",
       "      <td>0.00</td>\n",
       "      <td>0.00</td>\n",
       "      <td>0.00</td>\n",
       "      <td>0.64</td>\n",
       "      <td>0.00</td>\n",
       "      <td>0.00</td>\n",
       "      <td>0.00</td>\n",
       "      <td>0.32</td>\n",
       "      <td>0.00</td>\n",
       "      <td>1.29</td>\n",
       "      <td>1.93</td>\n",
       "      <td>0.00</td>\n",
       "      <td>0.96</td>\n",
       "      <td>0.0</td>\n",
       "      <td>0.00</td>\n",
       "      <td>0.00</td>\n",
       "      <td>0.0</td>\n",
       "      <td>0.0</td>\n",
       "      <td>0.0</td>\n",
       "      <td>0.0</td>\n",
       "      <td>0.0</td>\n",
       "      <td>0.0</td>\n",
       "      <td>0.0</td>\n",
       "      <td>0.0</td>\n",
       "      <td>0.0</td>\n",
       "      <td>0.0</td>\n",
       "      <td>0.0</td>\n",
       "      <td>0.0</td>\n",
       "      <td>0.00</td>\n",
       "      <td>0.0</td>\n",
       "      <td>0.0</td>\n",
       "      <td>0.00</td>\n",
       "      <td>0.0</td>\n",
       "      <td>0.0</td>\n",
       "      <td>0.00</td>\n",
       "      <td>0.0</td>\n",
       "      <td>0.00</td>\n",
       "      <td>0.00</td>\n",
       "      <td>0.0</td>\n",
       "      <td>0.0</td>\n",
       "      <td>0.00</td>\n",
       "      <td>0.000</td>\n",
       "      <td>0.0</td>\n",
       "      <td>0.778</td>\n",
       "      <td>0.000</td>\n",
       "      <td>0.000</td>\n",
       "      <td>3.756</td>\n",
       "      <td>61</td>\n",
       "      <td>278</td>\n",
       "      <td>1</td>\n",
       "    </tr>\n",
       "    <tr>\n",
       "      <th>1</th>\n",
       "      <td>0.21</td>\n",
       "      <td>0.28</td>\n",
       "      <td>0.50</td>\n",
       "      <td>0.0</td>\n",
       "      <td>0.14</td>\n",
       "      <td>0.28</td>\n",
       "      <td>0.21</td>\n",
       "      <td>0.07</td>\n",
       "      <td>0.00</td>\n",
       "      <td>0.94</td>\n",
       "      <td>0.21</td>\n",
       "      <td>0.79</td>\n",
       "      <td>0.65</td>\n",
       "      <td>0.21</td>\n",
       "      <td>0.14</td>\n",
       "      <td>0.14</td>\n",
       "      <td>0.07</td>\n",
       "      <td>0.28</td>\n",
       "      <td>3.47</td>\n",
       "      <td>0.00</td>\n",
       "      <td>1.59</td>\n",
       "      <td>0.0</td>\n",
       "      <td>0.43</td>\n",
       "      <td>0.43</td>\n",
       "      <td>0.0</td>\n",
       "      <td>0.0</td>\n",
       "      <td>0.0</td>\n",
       "      <td>0.0</td>\n",
       "      <td>0.0</td>\n",
       "      <td>0.0</td>\n",
       "      <td>0.0</td>\n",
       "      <td>0.0</td>\n",
       "      <td>0.0</td>\n",
       "      <td>0.0</td>\n",
       "      <td>0.0</td>\n",
       "      <td>0.0</td>\n",
       "      <td>0.07</td>\n",
       "      <td>0.0</td>\n",
       "      <td>0.0</td>\n",
       "      <td>0.00</td>\n",
       "      <td>0.0</td>\n",
       "      <td>0.0</td>\n",
       "      <td>0.00</td>\n",
       "      <td>0.0</td>\n",
       "      <td>0.00</td>\n",
       "      <td>0.00</td>\n",
       "      <td>0.0</td>\n",
       "      <td>0.0</td>\n",
       "      <td>0.00</td>\n",
       "      <td>0.132</td>\n",
       "      <td>0.0</td>\n",
       "      <td>0.372</td>\n",
       "      <td>0.180</td>\n",
       "      <td>0.048</td>\n",
       "      <td>5.114</td>\n",
       "      <td>101</td>\n",
       "      <td>1028</td>\n",
       "      <td>1</td>\n",
       "    </tr>\n",
       "    <tr>\n",
       "      <th>2</th>\n",
       "      <td>0.06</td>\n",
       "      <td>0.00</td>\n",
       "      <td>0.71</td>\n",
       "      <td>0.0</td>\n",
       "      <td>1.23</td>\n",
       "      <td>0.19</td>\n",
       "      <td>0.19</td>\n",
       "      <td>0.12</td>\n",
       "      <td>0.64</td>\n",
       "      <td>0.25</td>\n",
       "      <td>0.38</td>\n",
       "      <td>0.45</td>\n",
       "      <td>0.12</td>\n",
       "      <td>0.00</td>\n",
       "      <td>1.75</td>\n",
       "      <td>0.06</td>\n",
       "      <td>0.06</td>\n",
       "      <td>1.03</td>\n",
       "      <td>1.36</td>\n",
       "      <td>0.32</td>\n",
       "      <td>0.51</td>\n",
       "      <td>0.0</td>\n",
       "      <td>1.16</td>\n",
       "      <td>0.06</td>\n",
       "      <td>0.0</td>\n",
       "      <td>0.0</td>\n",
       "      <td>0.0</td>\n",
       "      <td>0.0</td>\n",
       "      <td>0.0</td>\n",
       "      <td>0.0</td>\n",
       "      <td>0.0</td>\n",
       "      <td>0.0</td>\n",
       "      <td>0.0</td>\n",
       "      <td>0.0</td>\n",
       "      <td>0.0</td>\n",
       "      <td>0.0</td>\n",
       "      <td>0.00</td>\n",
       "      <td>0.0</td>\n",
       "      <td>0.0</td>\n",
       "      <td>0.06</td>\n",
       "      <td>0.0</td>\n",
       "      <td>0.0</td>\n",
       "      <td>0.12</td>\n",
       "      <td>0.0</td>\n",
       "      <td>0.06</td>\n",
       "      <td>0.06</td>\n",
       "      <td>0.0</td>\n",
       "      <td>0.0</td>\n",
       "      <td>0.01</td>\n",
       "      <td>0.143</td>\n",
       "      <td>0.0</td>\n",
       "      <td>0.276</td>\n",
       "      <td>0.184</td>\n",
       "      <td>0.010</td>\n",
       "      <td>9.821</td>\n",
       "      <td>485</td>\n",
       "      <td>2259</td>\n",
       "      <td>1</td>\n",
       "    </tr>\n",
       "    <tr>\n",
       "      <th>3</th>\n",
       "      <td>0.00</td>\n",
       "      <td>0.00</td>\n",
       "      <td>0.00</td>\n",
       "      <td>0.0</td>\n",
       "      <td>0.63</td>\n",
       "      <td>0.00</td>\n",
       "      <td>0.31</td>\n",
       "      <td>0.63</td>\n",
       "      <td>0.31</td>\n",
       "      <td>0.63</td>\n",
       "      <td>0.31</td>\n",
       "      <td>0.31</td>\n",
       "      <td>0.31</td>\n",
       "      <td>0.00</td>\n",
       "      <td>0.00</td>\n",
       "      <td>0.31</td>\n",
       "      <td>0.00</td>\n",
       "      <td>0.00</td>\n",
       "      <td>3.18</td>\n",
       "      <td>0.00</td>\n",
       "      <td>0.31</td>\n",
       "      <td>0.0</td>\n",
       "      <td>0.00</td>\n",
       "      <td>0.00</td>\n",
       "      <td>0.0</td>\n",
       "      <td>0.0</td>\n",
       "      <td>0.0</td>\n",
       "      <td>0.0</td>\n",
       "      <td>0.0</td>\n",
       "      <td>0.0</td>\n",
       "      <td>0.0</td>\n",
       "      <td>0.0</td>\n",
       "      <td>0.0</td>\n",
       "      <td>0.0</td>\n",
       "      <td>0.0</td>\n",
       "      <td>0.0</td>\n",
       "      <td>0.00</td>\n",
       "      <td>0.0</td>\n",
       "      <td>0.0</td>\n",
       "      <td>0.00</td>\n",
       "      <td>0.0</td>\n",
       "      <td>0.0</td>\n",
       "      <td>0.00</td>\n",
       "      <td>0.0</td>\n",
       "      <td>0.00</td>\n",
       "      <td>0.00</td>\n",
       "      <td>0.0</td>\n",
       "      <td>0.0</td>\n",
       "      <td>0.00</td>\n",
       "      <td>0.137</td>\n",
       "      <td>0.0</td>\n",
       "      <td>0.137</td>\n",
       "      <td>0.000</td>\n",
       "      <td>0.000</td>\n",
       "      <td>3.537</td>\n",
       "      <td>40</td>\n",
       "      <td>191</td>\n",
       "      <td>1</td>\n",
       "    </tr>\n",
       "    <tr>\n",
       "      <th>4</th>\n",
       "      <td>0.00</td>\n",
       "      <td>0.00</td>\n",
       "      <td>0.00</td>\n",
       "      <td>0.0</td>\n",
       "      <td>0.63</td>\n",
       "      <td>0.00</td>\n",
       "      <td>0.31</td>\n",
       "      <td>0.63</td>\n",
       "      <td>0.31</td>\n",
       "      <td>0.63</td>\n",
       "      <td>0.31</td>\n",
       "      <td>0.31</td>\n",
       "      <td>0.31</td>\n",
       "      <td>0.00</td>\n",
       "      <td>0.00</td>\n",
       "      <td>0.31</td>\n",
       "      <td>0.00</td>\n",
       "      <td>0.00</td>\n",
       "      <td>3.18</td>\n",
       "      <td>0.00</td>\n",
       "      <td>0.31</td>\n",
       "      <td>0.0</td>\n",
       "      <td>0.00</td>\n",
       "      <td>0.00</td>\n",
       "      <td>0.0</td>\n",
       "      <td>0.0</td>\n",
       "      <td>0.0</td>\n",
       "      <td>0.0</td>\n",
       "      <td>0.0</td>\n",
       "      <td>0.0</td>\n",
       "      <td>0.0</td>\n",
       "      <td>0.0</td>\n",
       "      <td>0.0</td>\n",
       "      <td>0.0</td>\n",
       "      <td>0.0</td>\n",
       "      <td>0.0</td>\n",
       "      <td>0.00</td>\n",
       "      <td>0.0</td>\n",
       "      <td>0.0</td>\n",
       "      <td>0.00</td>\n",
       "      <td>0.0</td>\n",
       "      <td>0.0</td>\n",
       "      <td>0.00</td>\n",
       "      <td>0.0</td>\n",
       "      <td>0.00</td>\n",
       "      <td>0.00</td>\n",
       "      <td>0.0</td>\n",
       "      <td>0.0</td>\n",
       "      <td>0.00</td>\n",
       "      <td>0.135</td>\n",
       "      <td>0.0</td>\n",
       "      <td>0.135</td>\n",
       "      <td>0.000</td>\n",
       "      <td>0.000</td>\n",
       "      <td>3.537</td>\n",
       "      <td>40</td>\n",
       "      <td>191</td>\n",
       "      <td>1</td>\n",
       "    </tr>\n",
       "  </tbody>\n",
       "</table>\n",
       "</div>"
      ],
      "text/plain": [
       "   Feature_1  Feature_2  Feature_3  Feature_4  Feature_5  Feature_6  Feature_7  Feature_8  Feature_9  Feature_10  Feature_11  Feature_12  Feature_13  Feature_14  Feature_15  Feature_16  Feature_17  Feature_18  Feature_19  Feature_20  Feature_21  Feature_22  Feature_23  Feature_24  Feature_25  Feature_26  Feature_27  Feature_28  Feature_29  Feature_30  Feature_31  Feature_32  Feature_33  Feature_34  Feature_35  Feature_36  Feature_37  Feature_38  Feature_39  Feature_40  Feature_41  Feature_42  Feature_43  Feature_44  Feature_45  Feature_46  Feature_47  Feature_48  Feature_49  Feature_50  Feature_51  Feature_52  Feature_53  Feature_54  Feature_55  Feature_56  Feature_57  Spam\n",
       "0       0.00       0.64       0.64        0.0       0.32       0.00       0.00       0.00       0.00        0.00        0.00        0.64        0.00        0.00        0.00        0.32        0.00        1.29        1.93        0.00        0.96         0.0        0.00        0.00         0.0         0.0         0.0         0.0         0.0         0.0         0.0         0.0         0.0         0.0         0.0         0.0        0.00         0.0         0.0        0.00         0.0         0.0        0.00         0.0        0.00        0.00         0.0         0.0        0.00       0.000         0.0       0.778       0.000       0.000       3.756          61         278     1\n",
       "1       0.21       0.28       0.50        0.0       0.14       0.28       0.21       0.07       0.00        0.94        0.21        0.79        0.65        0.21        0.14        0.14        0.07        0.28        3.47        0.00        1.59         0.0        0.43        0.43         0.0         0.0         0.0         0.0         0.0         0.0         0.0         0.0         0.0         0.0         0.0         0.0        0.07         0.0         0.0        0.00         0.0         0.0        0.00         0.0        0.00        0.00         0.0         0.0        0.00       0.132         0.0       0.372       0.180       0.048       5.114         101        1028     1\n",
       "2       0.06       0.00       0.71        0.0       1.23       0.19       0.19       0.12       0.64        0.25        0.38        0.45        0.12        0.00        1.75        0.06        0.06        1.03        1.36        0.32        0.51         0.0        1.16        0.06         0.0         0.0         0.0         0.0         0.0         0.0         0.0         0.0         0.0         0.0         0.0         0.0        0.00         0.0         0.0        0.06         0.0         0.0        0.12         0.0        0.06        0.06         0.0         0.0        0.01       0.143         0.0       0.276       0.184       0.010       9.821         485        2259     1\n",
       "3       0.00       0.00       0.00        0.0       0.63       0.00       0.31       0.63       0.31        0.63        0.31        0.31        0.31        0.00        0.00        0.31        0.00        0.00        3.18        0.00        0.31         0.0        0.00        0.00         0.0         0.0         0.0         0.0         0.0         0.0         0.0         0.0         0.0         0.0         0.0         0.0        0.00         0.0         0.0        0.00         0.0         0.0        0.00         0.0        0.00        0.00         0.0         0.0        0.00       0.137         0.0       0.137       0.000       0.000       3.537          40         191     1\n",
       "4       0.00       0.00       0.00        0.0       0.63       0.00       0.31       0.63       0.31        0.63        0.31        0.31        0.31        0.00        0.00        0.31        0.00        0.00        3.18        0.00        0.31         0.0        0.00        0.00         0.0         0.0         0.0         0.0         0.0         0.0         0.0         0.0         0.0         0.0         0.0         0.0        0.00         0.0         0.0        0.00         0.0         0.0        0.00         0.0        0.00        0.00         0.0         0.0        0.00       0.135         0.0       0.135       0.000       0.000       3.537          40         191     1"
      ]
     },
     "metadata": {},
     "output_type": "display_data"
    },
    {
     "data": {
      "text/plain": [
       "4601"
      ]
     },
     "execution_count": 2,
     "metadata": {},
     "output_type": "execute_result"
    }
   ],
   "source": [
    "# Import Dataframe and Set Column Names\n",
    "spam_df = pd.read_csv('data/spam.csv', header=None)\n",
    "columns = [\"Feature_\"+str(i+1) for i in range(spam_df.shape[1]-1)] + ['Spam']\n",
    "spam_df.columns = columns\n",
    "display(spam_df.head())\n",
    "len(spam_df)"
   ]
  },
  {
   "cell_type": "markdown",
   "id": "d2d4a65b",
   "metadata": {},
   "source": [
    "The predictors are all continuous. They represent certain features like the frequency of the word `'discount'`. The exact specification and description of each predictor can be found online. We are not so much interested in the exact inference of each predictor so we will omit the exact names of each of the predictors. We are more interested in the predictions of the algorithm so we will not go into detail about the individual features.\n",
    "\n",
    "Link to dataset description: https://archive.ics.uci.edu/ml/datasets/spambase"
   ]
  },
  {
   "cell_type": "markdown",
   "id": "ca260224",
   "metadata": {},
   "source": [
    "### Split data into train and test\n",
    "\n",
    "**Note:** While you will use ```train_test_split``` in most cases, the code below should help you visualize splitting/masking of a dataframe which will be helpful in general.\n",
    "\n",
    "Let us split the dataset into a 70-30 split by using the following:"
   ]
  },
  {
   "cell_type": "code",
   "execution_count": 3,
   "id": "5a98b338",
   "metadata": {},
   "outputs": [],
   "source": [
    "np.random.seed(42)\n",
    "\n",
    "# draw n samples from the uniform distribution\n",
    "uniform_samples = np.random.rand(len(spam_df))\n",
    "\n",
    "# create boolean mask\n",
    "msk = uniform_samples < 0.7"
   ]
  },
  {
   "cell_type": "code",
   "execution_count": 4,
   "id": "37278bf2",
   "metadata": {},
   "outputs": [
    {
     "name": "stdout",
     "output_type": "stream",
     "text": [
      "Shape of Training Set : (3262, 58)\n",
      "Shape of Testing Set : (1339, 58)\n"
     ]
    }
   ],
   "source": [
    "# subset the combined design matrix/ response dataframe with the boolean mask\n",
    "data_train = spam_df[msk]\n",
    "data_test  = spam_df[~msk]\n",
    "\n",
    "# Split predictor and response columns\n",
    "x_train, y_train = data_train.drop(['Spam'], axis=1), data_train['Spam']\n",
    "x_test , y_test  = data_test.drop(['Spam'] , axis=1), data_test['Spam']\n",
    "\n",
    "print(\"Shape of Training Set :\", data_train.shape)\n",
    "print(\"Shape of Testing Set :\", data_test.shape)"
   ]
  },
  {
   "cell_type": "code",
   "execution_count": 5,
   "id": "5d2a9811",
   "metadata": {},
   "outputs": [
    {
     "data": {
      "text/plain": [
       "array([ True, False, False, ...,  True,  True,  True])"
      ]
     },
     "execution_count": 5,
     "metadata": {},
     "output_type": "execute_result"
    }
   ],
   "source": [
    "msk"
   ]
  },
  {
   "cell_type": "code",
   "execution_count": 6,
   "id": "a916754c",
   "metadata": {},
   "outputs": [
    {
     "data": {
      "text/html": [
       "<div>\n",
       "<style scoped>\n",
       "    .dataframe tbody tr th:only-of-type {\n",
       "        vertical-align: middle;\n",
       "    }\n",
       "\n",
       "    .dataframe tbody tr th {\n",
       "        vertical-align: top;\n",
       "    }\n",
       "\n",
       "    .dataframe thead th {\n",
       "        text-align: right;\n",
       "    }\n",
       "</style>\n",
       "<table border=\"1\" class=\"dataframe\">\n",
       "  <thead>\n",
       "    <tr style=\"text-align: right;\">\n",
       "      <th></th>\n",
       "      <th>Feature_1</th>\n",
       "      <th>Feature_2</th>\n",
       "      <th>Feature_3</th>\n",
       "      <th>Feature_4</th>\n",
       "      <th>Feature_5</th>\n",
       "      <th>Feature_6</th>\n",
       "      <th>Feature_7</th>\n",
       "      <th>Feature_8</th>\n",
       "      <th>Feature_9</th>\n",
       "      <th>Feature_10</th>\n",
       "      <th>Feature_11</th>\n",
       "      <th>Feature_12</th>\n",
       "      <th>Feature_13</th>\n",
       "      <th>Feature_14</th>\n",
       "      <th>Feature_15</th>\n",
       "      <th>Feature_16</th>\n",
       "      <th>Feature_17</th>\n",
       "      <th>Feature_18</th>\n",
       "      <th>Feature_19</th>\n",
       "      <th>Feature_20</th>\n",
       "      <th>Feature_21</th>\n",
       "      <th>Feature_22</th>\n",
       "      <th>Feature_23</th>\n",
       "      <th>Feature_24</th>\n",
       "      <th>Feature_25</th>\n",
       "      <th>Feature_26</th>\n",
       "      <th>Feature_27</th>\n",
       "      <th>Feature_28</th>\n",
       "      <th>Feature_29</th>\n",
       "      <th>Feature_30</th>\n",
       "      <th>Feature_31</th>\n",
       "      <th>Feature_32</th>\n",
       "      <th>Feature_33</th>\n",
       "      <th>Feature_34</th>\n",
       "      <th>Feature_35</th>\n",
       "      <th>Feature_36</th>\n",
       "      <th>Feature_37</th>\n",
       "      <th>Feature_38</th>\n",
       "      <th>Feature_39</th>\n",
       "      <th>Feature_40</th>\n",
       "      <th>Feature_41</th>\n",
       "      <th>Feature_42</th>\n",
       "      <th>Feature_43</th>\n",
       "      <th>Feature_44</th>\n",
       "      <th>Feature_45</th>\n",
       "      <th>Feature_46</th>\n",
       "      <th>Feature_47</th>\n",
       "      <th>Feature_48</th>\n",
       "      <th>Feature_49</th>\n",
       "      <th>Feature_50</th>\n",
       "      <th>Feature_51</th>\n",
       "      <th>Feature_52</th>\n",
       "      <th>Feature_53</th>\n",
       "      <th>Feature_54</th>\n",
       "      <th>Feature_55</th>\n",
       "      <th>Feature_56</th>\n",
       "      <th>Feature_57</th>\n",
       "    </tr>\n",
       "  </thead>\n",
       "  <tbody>\n",
       "    <tr>\n",
       "      <th>0</th>\n",
       "      <td>0.0</td>\n",
       "      <td>0.64</td>\n",
       "      <td>0.64</td>\n",
       "      <td>0.0</td>\n",
       "      <td>0.32</td>\n",
       "      <td>0.0</td>\n",
       "      <td>0.00</td>\n",
       "      <td>0.00</td>\n",
       "      <td>0.00</td>\n",
       "      <td>0.00</td>\n",
       "      <td>0.00</td>\n",
       "      <td>0.64</td>\n",
       "      <td>0.00</td>\n",
       "      <td>0.0</td>\n",
       "      <td>0.0</td>\n",
       "      <td>0.32</td>\n",
       "      <td>0.0</td>\n",
       "      <td>1.29</td>\n",
       "      <td>1.93</td>\n",
       "      <td>0.0</td>\n",
       "      <td>0.96</td>\n",
       "      <td>0.0</td>\n",
       "      <td>0.0</td>\n",
       "      <td>0.0</td>\n",
       "      <td>0.0</td>\n",
       "      <td>0.0</td>\n",
       "      <td>0.0</td>\n",
       "      <td>0.0</td>\n",
       "      <td>0.0</td>\n",
       "      <td>0.0</td>\n",
       "      <td>0.0</td>\n",
       "      <td>0.0</td>\n",
       "      <td>0.0</td>\n",
       "      <td>0.0</td>\n",
       "      <td>0.0</td>\n",
       "      <td>0.0</td>\n",
       "      <td>0.0</td>\n",
       "      <td>0.0</td>\n",
       "      <td>0.0</td>\n",
       "      <td>0.0</td>\n",
       "      <td>0.0</td>\n",
       "      <td>0.0</td>\n",
       "      <td>0.0</td>\n",
       "      <td>0.0</td>\n",
       "      <td>0.0</td>\n",
       "      <td>0.0</td>\n",
       "      <td>0.0</td>\n",
       "      <td>0.0</td>\n",
       "      <td>0.0</td>\n",
       "      <td>0.000</td>\n",
       "      <td>0.0</td>\n",
       "      <td>0.778</td>\n",
       "      <td>0.000</td>\n",
       "      <td>0.0</td>\n",
       "      <td>3.756</td>\n",
       "      <td>61</td>\n",
       "      <td>278</td>\n",
       "    </tr>\n",
       "    <tr>\n",
       "      <th>3</th>\n",
       "      <td>0.0</td>\n",
       "      <td>0.00</td>\n",
       "      <td>0.00</td>\n",
       "      <td>0.0</td>\n",
       "      <td>0.63</td>\n",
       "      <td>0.0</td>\n",
       "      <td>0.31</td>\n",
       "      <td>0.63</td>\n",
       "      <td>0.31</td>\n",
       "      <td>0.63</td>\n",
       "      <td>0.31</td>\n",
       "      <td>0.31</td>\n",
       "      <td>0.31</td>\n",
       "      <td>0.0</td>\n",
       "      <td>0.0</td>\n",
       "      <td>0.31</td>\n",
       "      <td>0.0</td>\n",
       "      <td>0.00</td>\n",
       "      <td>3.18</td>\n",
       "      <td>0.0</td>\n",
       "      <td>0.31</td>\n",
       "      <td>0.0</td>\n",
       "      <td>0.0</td>\n",
       "      <td>0.0</td>\n",
       "      <td>0.0</td>\n",
       "      <td>0.0</td>\n",
       "      <td>0.0</td>\n",
       "      <td>0.0</td>\n",
       "      <td>0.0</td>\n",
       "      <td>0.0</td>\n",
       "      <td>0.0</td>\n",
       "      <td>0.0</td>\n",
       "      <td>0.0</td>\n",
       "      <td>0.0</td>\n",
       "      <td>0.0</td>\n",
       "      <td>0.0</td>\n",
       "      <td>0.0</td>\n",
       "      <td>0.0</td>\n",
       "      <td>0.0</td>\n",
       "      <td>0.0</td>\n",
       "      <td>0.0</td>\n",
       "      <td>0.0</td>\n",
       "      <td>0.0</td>\n",
       "      <td>0.0</td>\n",
       "      <td>0.0</td>\n",
       "      <td>0.0</td>\n",
       "      <td>0.0</td>\n",
       "      <td>0.0</td>\n",
       "      <td>0.0</td>\n",
       "      <td>0.137</td>\n",
       "      <td>0.0</td>\n",
       "      <td>0.137</td>\n",
       "      <td>0.000</td>\n",
       "      <td>0.0</td>\n",
       "      <td>3.537</td>\n",
       "      <td>40</td>\n",
       "      <td>191</td>\n",
       "    </tr>\n",
       "    <tr>\n",
       "      <th>4</th>\n",
       "      <td>0.0</td>\n",
       "      <td>0.00</td>\n",
       "      <td>0.00</td>\n",
       "      <td>0.0</td>\n",
       "      <td>0.63</td>\n",
       "      <td>0.0</td>\n",
       "      <td>0.31</td>\n",
       "      <td>0.63</td>\n",
       "      <td>0.31</td>\n",
       "      <td>0.63</td>\n",
       "      <td>0.31</td>\n",
       "      <td>0.31</td>\n",
       "      <td>0.31</td>\n",
       "      <td>0.0</td>\n",
       "      <td>0.0</td>\n",
       "      <td>0.31</td>\n",
       "      <td>0.0</td>\n",
       "      <td>0.00</td>\n",
       "      <td>3.18</td>\n",
       "      <td>0.0</td>\n",
       "      <td>0.31</td>\n",
       "      <td>0.0</td>\n",
       "      <td>0.0</td>\n",
       "      <td>0.0</td>\n",
       "      <td>0.0</td>\n",
       "      <td>0.0</td>\n",
       "      <td>0.0</td>\n",
       "      <td>0.0</td>\n",
       "      <td>0.0</td>\n",
       "      <td>0.0</td>\n",
       "      <td>0.0</td>\n",
       "      <td>0.0</td>\n",
       "      <td>0.0</td>\n",
       "      <td>0.0</td>\n",
       "      <td>0.0</td>\n",
       "      <td>0.0</td>\n",
       "      <td>0.0</td>\n",
       "      <td>0.0</td>\n",
       "      <td>0.0</td>\n",
       "      <td>0.0</td>\n",
       "      <td>0.0</td>\n",
       "      <td>0.0</td>\n",
       "      <td>0.0</td>\n",
       "      <td>0.0</td>\n",
       "      <td>0.0</td>\n",
       "      <td>0.0</td>\n",
       "      <td>0.0</td>\n",
       "      <td>0.0</td>\n",
       "      <td>0.0</td>\n",
       "      <td>0.135</td>\n",
       "      <td>0.0</td>\n",
       "      <td>0.135</td>\n",
       "      <td>0.000</td>\n",
       "      <td>0.0</td>\n",
       "      <td>3.537</td>\n",
       "      <td>40</td>\n",
       "      <td>191</td>\n",
       "    </tr>\n",
       "    <tr>\n",
       "      <th>5</th>\n",
       "      <td>0.0</td>\n",
       "      <td>0.00</td>\n",
       "      <td>0.00</td>\n",
       "      <td>0.0</td>\n",
       "      <td>1.85</td>\n",
       "      <td>0.0</td>\n",
       "      <td>0.00</td>\n",
       "      <td>1.85</td>\n",
       "      <td>0.00</td>\n",
       "      <td>0.00</td>\n",
       "      <td>0.00</td>\n",
       "      <td>0.00</td>\n",
       "      <td>0.00</td>\n",
       "      <td>0.0</td>\n",
       "      <td>0.0</td>\n",
       "      <td>0.00</td>\n",
       "      <td>0.0</td>\n",
       "      <td>0.00</td>\n",
       "      <td>0.00</td>\n",
       "      <td>0.0</td>\n",
       "      <td>0.00</td>\n",
       "      <td>0.0</td>\n",
       "      <td>0.0</td>\n",
       "      <td>0.0</td>\n",
       "      <td>0.0</td>\n",
       "      <td>0.0</td>\n",
       "      <td>0.0</td>\n",
       "      <td>0.0</td>\n",
       "      <td>0.0</td>\n",
       "      <td>0.0</td>\n",
       "      <td>0.0</td>\n",
       "      <td>0.0</td>\n",
       "      <td>0.0</td>\n",
       "      <td>0.0</td>\n",
       "      <td>0.0</td>\n",
       "      <td>0.0</td>\n",
       "      <td>0.0</td>\n",
       "      <td>0.0</td>\n",
       "      <td>0.0</td>\n",
       "      <td>0.0</td>\n",
       "      <td>0.0</td>\n",
       "      <td>0.0</td>\n",
       "      <td>0.0</td>\n",
       "      <td>0.0</td>\n",
       "      <td>0.0</td>\n",
       "      <td>0.0</td>\n",
       "      <td>0.0</td>\n",
       "      <td>0.0</td>\n",
       "      <td>0.0</td>\n",
       "      <td>0.223</td>\n",
       "      <td>0.0</td>\n",
       "      <td>0.000</td>\n",
       "      <td>0.000</td>\n",
       "      <td>0.0</td>\n",
       "      <td>3.000</td>\n",
       "      <td>15</td>\n",
       "      <td>54</td>\n",
       "    </tr>\n",
       "    <tr>\n",
       "      <th>6</th>\n",
       "      <td>0.0</td>\n",
       "      <td>0.00</td>\n",
       "      <td>0.00</td>\n",
       "      <td>0.0</td>\n",
       "      <td>1.92</td>\n",
       "      <td>0.0</td>\n",
       "      <td>0.00</td>\n",
       "      <td>0.00</td>\n",
       "      <td>0.00</td>\n",
       "      <td>0.64</td>\n",
       "      <td>0.96</td>\n",
       "      <td>1.28</td>\n",
       "      <td>0.00</td>\n",
       "      <td>0.0</td>\n",
       "      <td>0.0</td>\n",
       "      <td>0.96</td>\n",
       "      <td>0.0</td>\n",
       "      <td>0.32</td>\n",
       "      <td>3.85</td>\n",
       "      <td>0.0</td>\n",
       "      <td>0.64</td>\n",
       "      <td>0.0</td>\n",
       "      <td>0.0</td>\n",
       "      <td>0.0</td>\n",
       "      <td>0.0</td>\n",
       "      <td>0.0</td>\n",
       "      <td>0.0</td>\n",
       "      <td>0.0</td>\n",
       "      <td>0.0</td>\n",
       "      <td>0.0</td>\n",
       "      <td>0.0</td>\n",
       "      <td>0.0</td>\n",
       "      <td>0.0</td>\n",
       "      <td>0.0</td>\n",
       "      <td>0.0</td>\n",
       "      <td>0.0</td>\n",
       "      <td>0.0</td>\n",
       "      <td>0.0</td>\n",
       "      <td>0.0</td>\n",
       "      <td>0.0</td>\n",
       "      <td>0.0</td>\n",
       "      <td>0.0</td>\n",
       "      <td>0.0</td>\n",
       "      <td>0.0</td>\n",
       "      <td>0.0</td>\n",
       "      <td>0.0</td>\n",
       "      <td>0.0</td>\n",
       "      <td>0.0</td>\n",
       "      <td>0.0</td>\n",
       "      <td>0.054</td>\n",
       "      <td>0.0</td>\n",
       "      <td>0.164</td>\n",
       "      <td>0.054</td>\n",
       "      <td>0.0</td>\n",
       "      <td>1.671</td>\n",
       "      <td>4</td>\n",
       "      <td>112</td>\n",
       "    </tr>\n",
       "  </tbody>\n",
       "</table>\n",
       "</div>"
      ],
      "text/plain": [
       "   Feature_1  Feature_2  Feature_3  Feature_4  Feature_5  Feature_6  Feature_7  Feature_8  Feature_9  Feature_10  Feature_11  Feature_12  Feature_13  Feature_14  Feature_15  Feature_16  Feature_17  Feature_18  Feature_19  Feature_20  Feature_21  Feature_22  Feature_23  Feature_24  Feature_25  Feature_26  Feature_27  Feature_28  Feature_29  Feature_30  Feature_31  Feature_32  Feature_33  Feature_34  Feature_35  Feature_36  Feature_37  Feature_38  Feature_39  Feature_40  Feature_41  Feature_42  Feature_43  Feature_44  Feature_45  Feature_46  Feature_47  Feature_48  Feature_49  Feature_50  Feature_51  Feature_52  Feature_53  Feature_54  Feature_55  Feature_56  Feature_57\n",
       "0        0.0       0.64       0.64        0.0       0.32        0.0       0.00       0.00       0.00        0.00        0.00        0.64        0.00         0.0         0.0        0.32         0.0        1.29        1.93         0.0        0.96         0.0         0.0         0.0         0.0         0.0         0.0         0.0         0.0         0.0         0.0         0.0         0.0         0.0         0.0         0.0         0.0         0.0         0.0         0.0         0.0         0.0         0.0         0.0         0.0         0.0         0.0         0.0         0.0       0.000         0.0       0.778       0.000         0.0       3.756          61         278\n",
       "3        0.0       0.00       0.00        0.0       0.63        0.0       0.31       0.63       0.31        0.63        0.31        0.31        0.31         0.0         0.0        0.31         0.0        0.00        3.18         0.0        0.31         0.0         0.0         0.0         0.0         0.0         0.0         0.0         0.0         0.0         0.0         0.0         0.0         0.0         0.0         0.0         0.0         0.0         0.0         0.0         0.0         0.0         0.0         0.0         0.0         0.0         0.0         0.0         0.0       0.137         0.0       0.137       0.000         0.0       3.537          40         191\n",
       "4        0.0       0.00       0.00        0.0       0.63        0.0       0.31       0.63       0.31        0.63        0.31        0.31        0.31         0.0         0.0        0.31         0.0        0.00        3.18         0.0        0.31         0.0         0.0         0.0         0.0         0.0         0.0         0.0         0.0         0.0         0.0         0.0         0.0         0.0         0.0         0.0         0.0         0.0         0.0         0.0         0.0         0.0         0.0         0.0         0.0         0.0         0.0         0.0         0.0       0.135         0.0       0.135       0.000         0.0       3.537          40         191\n",
       "5        0.0       0.00       0.00        0.0       1.85        0.0       0.00       1.85       0.00        0.00        0.00        0.00        0.00         0.0         0.0        0.00         0.0        0.00        0.00         0.0        0.00         0.0         0.0         0.0         0.0         0.0         0.0         0.0         0.0         0.0         0.0         0.0         0.0         0.0         0.0         0.0         0.0         0.0         0.0         0.0         0.0         0.0         0.0         0.0         0.0         0.0         0.0         0.0         0.0       0.223         0.0       0.000       0.000         0.0       3.000          15          54\n",
       "6        0.0       0.00       0.00        0.0       1.92        0.0       0.00       0.00       0.00        0.64        0.96        1.28        0.00         0.0         0.0        0.96         0.0        0.32        3.85         0.0        0.64         0.0         0.0         0.0         0.0         0.0         0.0         0.0         0.0         0.0         0.0         0.0         0.0         0.0         0.0         0.0         0.0         0.0         0.0         0.0         0.0         0.0         0.0         0.0         0.0         0.0         0.0         0.0         0.0       0.054         0.0       0.164       0.054         0.0       1.671           4         112"
      ]
     },
     "execution_count": 6,
     "metadata": {},
     "output_type": "execute_result"
    }
   ],
   "source": [
    "x_train.head()"
   ]
  },
  {
   "cell_type": "markdown",
   "id": "7bb386a2",
   "metadata": {},
   "source": [
    "We can check that the number of spam cases is roughly evenly represented in both the training and test set."
   ]
  },
  {
   "cell_type": "code",
   "execution_count": 7,
   "id": "92b6125b",
   "metadata": {},
   "outputs": [
    {
     "name": "stdout",
     "output_type": "stream",
     "text": [
      "Percentage of Spam in Training Set \t : 39.18%\n",
      "Percentage of Spam in Testing Set \t : 39.96%\n"
     ]
    }
   ],
   "source": [
    "# Check Percentage of Spam in Train and Test Set\n",
    "pct_spam_tr = 100*y_train.mean()\n",
    "pct_spam_te = 100*y_test.mean()\n",
    "                                                  \n",
    "print(f\"Percentage of Spam in Training Set \\t : {pct_spam_tr:0.2f}%\")\n",
    "print(f\"Percentage of Spam in Testing Set \\t : {pct_spam_te:0.2f}%\")"
   ]
  },
  {
   "cell_type": "markdown",
   "id": "4f2a77d8",
   "metadata": {},
   "source": [
    "### Fitting an Optimal Single Decision Tree (by Depth)"
   ]
  },
  {
   "cell_type": "markdown",
   "id": "83d5868d",
   "metadata": {},
   "source": [
    "We fit here a single tree to our spam dataset and perform 5-fold cross-validation on the training set. For **each** decision tree depth, we fit a tree and then compute the 5-fold CV scores. These scores are then averaged and compared across different depths. "
   ]
  },
  {
   "cell_type": "code",
   "execution_count": 8,
   "id": "2ff49cf6",
   "metadata": {},
   "outputs": [],
   "source": [
    "# Find optimal depth of trees\n",
    "mean_CV_acc = {}\n",
    "all_CV_acc = {}\n",
    "tree_depth_start, tree_depth_end, steps = 3, 31, 4\n",
    "for i in range(tree_depth_start, tree_depth_end + 1, steps):\n",
    "    \n",
    "    # declare tree model object\n",
    "    model = DecisionTreeClassifier(max_depth=i)\n",
    "    \n",
    "    # get cv scores\n",
    "    # the default score for DecisionTreeClassifier is the accuracy\n",
    "    scores = cross_val_score(estimator=model, X=x_train, y=y_train, cv=5, n_jobs=-1)\n",
    "    \n",
    "    all_CV_acc[i] = scores\n",
    "    mean_CV_acc[i] = scores.mean()"
   ]
  },
  {
   "cell_type": "code",
   "execution_count": 9,
   "id": "874771ea",
   "metadata": {},
   "outputs": [
    {
     "data": {
      "text/plain": [
       "{3: 0.8764437847029753,\n",
       " 7: 0.8960691100066706,\n",
       " 11: 0.8917760407369479,\n",
       " 15: 0.8887127838480258,\n",
       " 19: 0.8834989994269018,\n",
       " 23: 0.8838057478931596,\n",
       " 27: 0.8798203665949511,\n",
       " 31: 0.8828869117522713}"
      ]
     },
     "execution_count": 9,
     "metadata": {},
     "output_type": "execute_result"
    }
   ],
   "source": [
    "mean_CV_acc"
   ]
  },
  {
   "cell_type": "markdown",
   "id": "e41ed330",
   "metadata": {},
   "source": [
    "Some dictionary manipulations for our x,y construction for the plot below:"
   ]
  },
  {
   "cell_type": "code",
   "execution_count": 10,
   "id": "fc999875",
   "metadata": {},
   "outputs": [
    {
     "data": {
      "text/plain": [
       "([3, 7, 11, 15, 19, 23, 27, 31],\n",
       " [0.8764437847029753,\n",
       "  0.8960691100066706,\n",
       "  0.8917760407369479,\n",
       "  0.8887127838480258,\n",
       "  0.8834989994269018,\n",
       "  0.8838057478931596,\n",
       "  0.8798203665949511,\n",
       "  0.8828869117522713])"
      ]
     },
     "execution_count": 10,
     "metadata": {},
     "output_type": "execute_result"
    }
   ],
   "source": [
    "x = list(mean_CV_acc.keys())\n",
    "y = list(mean_CV_acc.values())\n",
    "x,y"
   ]
  },
  {
   "cell_type": "code",
   "execution_count": 11,
   "id": "3de8dafa",
   "metadata": {},
   "outputs": [
    {
     "data": {
      "image/png": "[encoded data removed]",
      "text/plain": [
       "<Figure size 640x480 with 1 Axes>"
      ]
     },
     "metadata": {},
     "output_type": "display_data"
    }
   ],
   "source": [
    "# Plot\n",
    "plt.ylabel(\"Cross Validation Accuracy\")\n",
    "plt.xlabel(\"Maximum Depth\")\n",
    "plt.title('Variation of Accuracy with Depth - Simple Decision Tree')\n",
    "plt.plot(x, y, 'b-', marker='o')\n",
    "plt.show()"
   ]
  },
  {
   "cell_type": "markdown",
   "id": "6d9356e6",
   "metadata": {},
   "source": [
    "As we can see, the optimal depth is found to be a depth of 7."
   ]
  },
  {
   "cell_type": "markdown",
   "id": "9da8fb40",
   "metadata": {},
   "source": [
    "If we wanted to get the Confidence Bands of these results, how would we? It's as simple as a combination of getting variance using ```scores.std()``` and ```plt.fill_between()```."
   ]
  },
  {
   "cell_type": "code",
   "execution_count": 12,
   "id": "4c4d065e",
   "metadata": {},
   "outputs": [
    {
     "data": {
      "text/plain": [
       "array([0.05181994, 0.03760337, 0.04590182, 0.04265664, 0.0418768 ,\n",
       "       0.04488513, 0.04779157, 0.04663305])"
      ]
     },
     "execution_count": 12,
     "metadata": {},
     "output_type": "execute_result"
    }
   ],
   "source": [
    "stds = np.array([ np.std(scores) for scores in all_CV_acc.values() ])\n",
    "stds"
   ]
  },
  {
   "cell_type": "code",
   "execution_count": 13,
   "id": "17e8beeb",
   "metadata": {},
   "outputs": [
    {
     "data": {
      "image/png": "[encoded data removed]",
      "text/plain": [
       "<Figure size 900x400 with 1 Axes>"
      ]
     },
     "metadata": {},
     "output_type": "display_data"
    }
   ],
   "source": [
    "plt.figure(figsize = (9,4))\n",
    "plt.fill_between(x, y + stds, y - stds, alpha=0.2)\n",
    "\n",
    "# Plot\n",
    "plt.ylabel(\"Cross Validation Accuracy\")\n",
    "plt.xlabel(\"Maximum Depth\")\n",
    "plt.title('Variation of Accuracy with Depth - Simple Decision Tree')\n",
    "plt.plot(x, y, 'b-', marker='o')\n",
    "plt.show()"
   ]
  },
  {
   "cell_type": "markdown",
   "id": "7cd1cf5f",
   "metadata": {},
   "source": [
    "If we want to display it as a boxplot we first construct a dataframe with all the scores and second we use ```sns.boxplot(...)```"
   ]
  },
  {
   "cell_type": "code",
   "execution_count": 14,
   "id": "b7929013",
   "metadata": {},
   "outputs": [
    {
     "data": {
      "text/html": [
       "<div>\n",
       "<style scoped>\n",
       "    .dataframe tbody tr th:only-of-type {\n",
       "        vertical-align: middle;\n",
       "    }\n",
       "\n",
       "    .dataframe tbody tr th {\n",
       "        vertical-align: top;\n",
       "    }\n",
       "\n",
       "    .dataframe thead th {\n",
       "        text-align: right;\n",
       "    }\n",
       "</style>\n",
       "<table border=\"1\" class=\"dataframe\">\n",
       "  <thead>\n",
       "    <tr style=\"text-align: right;\">\n",
       "      <th></th>\n",
       "      <th>3</th>\n",
       "      <th>7</th>\n",
       "      <th>11</th>\n",
       "      <th>15</th>\n",
       "      <th>19</th>\n",
       "      <th>23</th>\n",
       "      <th>27</th>\n",
       "      <th>31</th>\n",
       "    </tr>\n",
       "  </thead>\n",
       "  <tbody>\n",
       "    <tr>\n",
       "      <th>0</th>\n",
       "      <td>0.915773</td>\n",
       "      <td>0.908116</td>\n",
       "      <td>0.900459</td>\n",
       "      <td>0.891271</td>\n",
       "      <td>0.891271</td>\n",
       "      <td>0.894334</td>\n",
       "      <td>0.888208</td>\n",
       "      <td>0.888208</td>\n",
       "    </tr>\n",
       "    <tr>\n",
       "      <th>1</th>\n",
       "      <td>0.877489</td>\n",
       "      <td>0.906585</td>\n",
       "      <td>0.909648</td>\n",
       "      <td>0.905054</td>\n",
       "      <td>0.901991</td>\n",
       "      <td>0.898928</td>\n",
       "      <td>0.897397</td>\n",
       "      <td>0.900459</td>\n",
       "    </tr>\n",
       "    <tr>\n",
       "      <th>2</th>\n",
       "      <td>0.904908</td>\n",
       "      <td>0.918712</td>\n",
       "      <td>0.915644</td>\n",
       "      <td>0.912577</td>\n",
       "      <td>0.900307</td>\n",
       "      <td>0.907975</td>\n",
       "      <td>0.904908</td>\n",
       "      <td>0.906442</td>\n",
       "    </tr>\n",
       "    <tr>\n",
       "      <th>3</th>\n",
       "      <td>0.907975</td>\n",
       "      <td>0.924847</td>\n",
       "      <td>0.930982</td>\n",
       "      <td>0.927914</td>\n",
       "      <td>0.921779</td>\n",
       "      <td>0.921779</td>\n",
       "      <td>0.921779</td>\n",
       "      <td>0.926380</td>\n",
       "    </tr>\n",
       "    <tr>\n",
       "      <th>4</th>\n",
       "      <td>0.776074</td>\n",
       "      <td>0.822086</td>\n",
       "      <td>0.802147</td>\n",
       "      <td>0.806748</td>\n",
       "      <td>0.802147</td>\n",
       "      <td>0.796012</td>\n",
       "      <td>0.786810</td>\n",
       "      <td>0.792945</td>\n",
       "    </tr>\n",
       "  </tbody>\n",
       "</table>\n",
       "</div>"
      ],
      "text/plain": [
       "         3         7         11        15        19        23        27        31\n",
       "0  0.915773  0.908116  0.900459  0.891271  0.891271  0.894334  0.888208  0.888208\n",
       "1  0.877489  0.906585  0.909648  0.905054  0.901991  0.898928  0.897397  0.900459\n",
       "2  0.904908  0.918712  0.915644  0.912577  0.900307  0.907975  0.904908  0.906442\n",
       "3  0.907975  0.924847  0.930982  0.927914  0.921779  0.921779  0.921779  0.926380\n",
       "4  0.776074  0.822086  0.802147  0.806748  0.802147  0.796012  0.786810  0.792945"
      ]
     },
     "execution_count": 14,
     "metadata": {},
     "output_type": "execute_result"
    }
   ],
   "source": [
    "# Making a numpy array with all the CV acc scores\n",
    "cv_scores_df = pd.DataFrame(all_CV_acc.values(), index = all_CV_acc.keys()).T\n",
    "cv_scores_df"
   ]
  },
  {
   "cell_type": "code",
   "execution_count": 15,
   "id": "1bc55140",
   "metadata": {},
   "outputs": [
    {
     "data": {
      "text/html": [
       "<div>\n",
       "<style scoped>\n",
       "    .dataframe tbody tr th:only-of-type {\n",
       "        vertical-align: middle;\n",
       "    }\n",
       "\n",
       "    .dataframe tbody tr th {\n",
       "        vertical-align: top;\n",
       "    }\n",
       "\n",
       "    .dataframe thead th {\n",
       "        text-align: right;\n",
       "    }\n",
       "</style>\n",
       "<table border=\"1\" class=\"dataframe\">\n",
       "  <thead>\n",
       "    <tr style=\"text-align: right;\">\n",
       "      <th></th>\n",
       "      <th>Max Depth</th>\n",
       "      <th>CV Accuracy Score</th>\n",
       "    </tr>\n",
       "  </thead>\n",
       "  <tbody>\n",
       "    <tr>\n",
       "      <th>0</th>\n",
       "      <td>3</td>\n",
       "      <td>0.915773</td>\n",
       "    </tr>\n",
       "    <tr>\n",
       "      <th>1</th>\n",
       "      <td>3</td>\n",
       "      <td>0.877489</td>\n",
       "    </tr>\n",
       "    <tr>\n",
       "      <th>2</th>\n",
       "      <td>3</td>\n",
       "      <td>0.904908</td>\n",
       "    </tr>\n",
       "    <tr>\n",
       "      <th>3</th>\n",
       "      <td>3</td>\n",
       "      <td>0.907975</td>\n",
       "    </tr>\n",
       "    <tr>\n",
       "      <th>4</th>\n",
       "      <td>3</td>\n",
       "      <td>0.776074</td>\n",
       "    </tr>\n",
       "    <tr>\n",
       "      <th>5</th>\n",
       "      <td>7</td>\n",
       "      <td>0.908116</td>\n",
       "    </tr>\n",
       "    <tr>\n",
       "      <th>6</th>\n",
       "      <td>7</td>\n",
       "      <td>0.906585</td>\n",
       "    </tr>\n",
       "    <tr>\n",
       "      <th>7</th>\n",
       "      <td>7</td>\n",
       "      <td>0.918712</td>\n",
       "    </tr>\n",
       "    <tr>\n",
       "      <th>8</th>\n",
       "      <td>7</td>\n",
       "      <td>0.924847</td>\n",
       "    </tr>\n",
       "    <tr>\n",
       "      <th>9</th>\n",
       "      <td>7</td>\n",
       "      <td>0.822086</td>\n",
       "    </tr>\n",
       "  </tbody>\n",
       "</table>\n",
       "</div>"
      ],
      "text/plain": [
       "   Max Depth  CV Accuracy Score\n",
       "0          3           0.915773\n",
       "1          3           0.877489\n",
       "2          3           0.904908\n",
       "3          3           0.907975\n",
       "4          3           0.776074\n",
       "5          7           0.908116\n",
       "6          7           0.906585\n",
       "7          7           0.918712\n",
       "8          7           0.924847\n",
       "9          7           0.822086"
      ]
     },
     "execution_count": 15,
     "metadata": {},
     "output_type": "execute_result"
    }
   ],
   "source": [
    "# melt\n",
    "trees = pd.melt(cv_scores_df, var_name=\"Max Depth\", value_name='CV Accuracy Score')\n",
    "trees.head(10)\n",
    "\n",
    "# this code achieves the same thing without pd.melt:\n",
    "# Making a dataframe\n",
    "# trees = pd.DataFrame({'Max Depth':list(x)*5, 'CV Accuracy Score': list(cv_scores_df.values.T.flatten())})\n",
    "# trees.head()"
   ]
  },
  {
   "cell_type": "code",
   "execution_count": 16,
   "id": "5ba1f52c",
   "metadata": {},
   "outputs": [
    {
     "name": "stderr",
     "output_type": "stream",
     "text": [
      "c:\\Users\\Ticio\\anaconda3\\Lib\\site-packages\\seaborn\\categorical.py:1794: FutureWarning: use_inf_as_na option is deprecated and will be removed in a future version. Convert inf values to NaN before operating instead.\n",
      "  with pd.option_context('mode.use_inf_as_na', True):\n",
      "c:\\Users\\Ticio\\anaconda3\\Lib\\site-packages\\seaborn\\categorical.py:1794: FutureWarning: use_inf_as_na option is deprecated and will be removed in a future version. Convert inf values to NaN before operating instead.\n",
      "  with pd.option_context('mode.use_inf_as_na', True):\n",
      "c:\\Users\\Ticio\\anaconda3\\Lib\\site-packages\\seaborn\\categorical.py:1794: FutureWarning: use_inf_as_na option is deprecated and will be removed in a future version. Convert inf values to NaN before operating instead.\n",
      "  with pd.option_context('mode.use_inf_as_na', True):\n",
      "c:\\Users\\Ticio\\anaconda3\\Lib\\site-packages\\seaborn\\categorical.py:1794: FutureWarning: use_inf_as_na option is deprecated and will be removed in a future version. Convert inf values to NaN before operating instead.\n",
      "  with pd.option_context('mode.use_inf_as_na', True):\n",
      "c:\\Users\\Ticio\\anaconda3\\Lib\\site-packages\\seaborn\\categorical.py:1794: FutureWarning: use_inf_as_na option is deprecated and will be removed in a future version. Convert inf values to NaN before operating instead.\n",
      "  with pd.option_context('mode.use_inf_as_na', True):\n",
      "c:\\Users\\Ticio\\anaconda3\\Lib\\site-packages\\seaborn\\categorical.py:1794: FutureWarning: use_inf_as_na option is deprecated and will be removed in a future version. Convert inf values to NaN before operating instead.\n",
      "  with pd.option_context('mode.use_inf_as_na', True):\n",
      "c:\\Users\\Ticio\\anaconda3\\Lib\\site-packages\\seaborn\\categorical.py:1794: FutureWarning: use_inf_as_na option is deprecated and will be removed in a future version. Convert inf values to NaN before operating instead.\n",
      "  with pd.option_context('mode.use_inf_as_na', True):\n",
      "c:\\Users\\Ticio\\anaconda3\\Lib\\site-packages\\seaborn\\categorical.py:1794: FutureWarning: use_inf_as_na option is deprecated and will be removed in a future version. Convert inf values to NaN before operating instead.\n",
      "  with pd.option_context('mode.use_inf_as_na', True):\n"
     ]
    },
    {
     "data": {
      "image/png": "[encoded data removed]",
      "text/plain": [
       "<Figure size 1200x300 with 1 Axes>"
      ]
     },
     "metadata": {},
     "output_type": "display_data"
    }
   ],
   "source": [
    "# plotting the boxplot \n",
    "plt.figure(figsize=(12, 3))\n",
    "plt.title('Variation of Accuracy with Depth - Simple Decision Tree')\n",
    "sns.boxenplot(x=\"Max Depth\", y=\"CV Accuracy Score\", data=trees);"
   ]
  },
  {
   "cell_type": "code",
   "execution_count": 17,
   "id": "59b68d7e",
   "metadata": {},
   "outputs": [
    {
     "name": "stderr",
     "output_type": "stream",
     "text": [
      "c:\\Users\\Ticio\\anaconda3\\Lib\\site-packages\\seaborn\\categorical.py:1794: FutureWarning: use_inf_as_na option is deprecated and will be removed in a future version. Convert inf values to NaN before operating instead.\n",
      "  with pd.option_context('mode.use_inf_as_na', True):\n",
      "c:\\Users\\Ticio\\anaconda3\\Lib\\site-packages\\seaborn\\categorical.py:1794: FutureWarning: use_inf_as_na option is deprecated and will be removed in a future version. Convert inf values to NaN before operating instead.\n",
      "  with pd.option_context('mode.use_inf_as_na', True):\n",
      "c:\\Users\\Ticio\\anaconda3\\Lib\\site-packages\\seaborn\\categorical.py:1794: FutureWarning: use_inf_as_na option is deprecated and will be removed in a future version. Convert inf values to NaN before operating instead.\n",
      "  with pd.option_context('mode.use_inf_as_na', True):\n",
      "c:\\Users\\Ticio\\anaconda3\\Lib\\site-packages\\seaborn\\categorical.py:1794: FutureWarning: use_inf_as_na option is deprecated and will be removed in a future version. Convert inf values to NaN before operating instead.\n",
      "  with pd.option_context('mode.use_inf_as_na', True):\n",
      "c:\\Users\\Ticio\\anaconda3\\Lib\\site-packages\\seaborn\\categorical.py:1794: FutureWarning: use_inf_as_na option is deprecated and will be removed in a future version. Convert inf values to NaN before operating instead.\n",
      "  with pd.option_context('mode.use_inf_as_na', True):\n",
      "c:\\Users\\Ticio\\anaconda3\\Lib\\site-packages\\seaborn\\categorical.py:1794: FutureWarning: use_inf_as_na option is deprecated and will be removed in a future version. Convert inf values to NaN before operating instead.\n",
      "  with pd.option_context('mode.use_inf_as_na', True):\n",
      "c:\\Users\\Ticio\\anaconda3\\Lib\\site-packages\\seaborn\\categorical.py:1794: FutureWarning: use_inf_as_na option is deprecated and will be removed in a future version. Convert inf values to NaN before operating instead.\n",
      "  with pd.option_context('mode.use_inf_as_na', True):\n",
      "c:\\Users\\Ticio\\anaconda3\\Lib\\site-packages\\seaborn\\categorical.py:1794: FutureWarning: use_inf_as_na option is deprecated and will be removed in a future version. Convert inf values to NaN before operating instead.\n",
      "  with pd.option_context('mode.use_inf_as_na', True):\n"
     ]
    },
    {
     "data": {
      "image/png": "[encoded data removed]",
      "text/plain": [
       "<Figure size 1200x300 with 1 Axes>"
      ]
     },
     "metadata": {},
     "output_type": "display_data"
    }
   ],
   "source": [
    "# plotting the boxplot without outliers (showfliers = False)\n",
    "plt.figure(figsize=(12, 3))\n",
    "plt.title('Variation of Accuracy with Depth - Simple Decision Tree')\n",
    "sns.boxenplot(x=\"Max Depth\", y=\"CV Accuracy Score\", data=trees, showfliers=False);"
   ]
  },
  {
   "cell_type": "markdown",
   "id": "519e73ba",
   "metadata": {},
   "source": [
    "**Let's extract the best_depth value from this dictionary:** \n",
    "\n",
    "We create the new variable `best_depth`.\n",
    "\n",
    "We first sort the mean CV accuracy scores by using the `sorted()` function that accepts a \"key function\" as parameter. This is an optional parameter that specifies a function of one argument to extract a comparison key from each element in the iterable. The key function is applied to each element before sorting, and the sorted list is returned based on the comparison of the keys. \n",
    "\n",
    "`reverse` is also an optional parameter that specifies the sort order. If `reverse` is set to `True`, the sorted list is returned in descending order. If `reverse` is set to `False` or not specified, the sorted list is returned in ascending order.\n",
    "\n",
    "```sorted(iterable, key, reverse)```"
   ]
  },
  {
   "cell_type": "code",
   "execution_count": 18,
   "id": "a7c8cc84",
   "metadata": {},
   "outputs": [
    {
     "data": {
      "text/plain": [
       "[3, 7, 11, 15, 19, 23, 27, 31]"
      ]
     },
     "execution_count": 18,
     "metadata": {},
     "output_type": "execute_result"
    }
   ],
   "source": [
    "# What does this do? Is this the result we want?\n",
    "sorted(mean_CV_acc, reverse=False)"
   ]
  },
  {
   "cell_type": "code",
   "execution_count": 19,
   "id": "4625518a",
   "metadata": {},
   "outputs": [
    {
     "data": {
      "text/plain": [
       "[7, 11, 15, 23, 19, 31, 27, 3]"
      ]
     },
     "execution_count": 19,
     "metadata": {},
     "output_type": "execute_result"
    }
   ],
   "source": [
    "# What does this do?\n",
    "sorted(mean_CV_acc, key=mean_CV_acc.get, reverse=True)"
   ]
  },
  {
   "cell_type": "code",
   "execution_count": 20,
   "id": "0934c721",
   "metadata": {},
   "outputs": [
    {
     "name": "stdout",
     "output_type": "stream",
     "text": [
      "The best depth was found to be: 7\n"
     ]
    }
   ],
   "source": [
    "# Make best depth a variable\n",
    "best_depth = sorted(mean_CV_acc, key=mean_CV_acc.get, reverse=True)[0]\n",
    "print(\"The best depth was found to be:\", best_depth)"
   ]
  },
  {
   "cell_type": "code",
   "execution_count": 21,
   "id": "88c29f2d",
   "metadata": {},
   "outputs": [
    {
     "name": "stdout",
     "output_type": "stream",
     "text": [
      "Simple Decision Trees: Accuracy, Training Set \t : 94.39%\n",
      "Simple Decision Trees: Accuracy, Testing Set \t : 90.81%\n"
     ]
    }
   ],
   "source": [
    "# Evalaute the performance at the best depth\n",
    "model_tree = DecisionTreeClassifier(max_depth=best_depth)\n",
    "model_tree.fit(x_train, y_train)\n",
    "\n",
    "# Check Accuracy of Spam Detection in Train and Test Set\n",
    "acc_trees_training = accuracy_score(y_train, model_tree.predict(x_train))\n",
    "acc_trees_testing  = accuracy_score(y_test,  model_tree.predict(x_test))\n",
    "\n",
    "print(\"Simple Decision Trees: Accuracy, Training Set \\t : {:.2%}\".format(acc_trees_training))\n",
    "print(\"Simple Decision Trees: Accuracy, Testing Set \\t : {:.2%}\".format(acc_trees_testing))"
   ]
  },
  {
   "cell_type": "code",
   "execution_count": 22,
   "id": "ff66d702",
   "metadata": {},
   "outputs": [
    {
     "data": {
      "text/html": [
       "<div>\n",
       "<style scoped>\n",
       "    .dataframe tbody tr th:only-of-type {\n",
       "        vertical-align: middle;\n",
       "    }\n",
       "\n",
       "    .dataframe tbody tr th {\n",
       "        vertical-align: top;\n",
       "    }\n",
       "\n",
       "    .dataframe thead th {\n",
       "        text-align: right;\n",
       "    }\n",
       "</style>\n",
       "<table border=\"1\" class=\"dataframe\">\n",
       "  <thead>\n",
       "    <tr style=\"text-align: right;\">\n",
       "      <th>Predicted</th>\n",
       "      <th>0</th>\n",
       "      <th>1</th>\n",
       "      <th>All</th>\n",
       "    </tr>\n",
       "    <tr>\n",
       "      <th>Actual</th>\n",
       "      <th></th>\n",
       "      <th></th>\n",
       "      <th></th>\n",
       "    </tr>\n",
       "  </thead>\n",
       "  <tbody>\n",
       "    <tr>\n",
       "      <th>0</th>\n",
       "      <td>758</td>\n",
       "      <td>46</td>\n",
       "      <td>804</td>\n",
       "    </tr>\n",
       "    <tr>\n",
       "      <th>1</th>\n",
       "      <td>77</td>\n",
       "      <td>458</td>\n",
       "      <td>535</td>\n",
       "    </tr>\n",
       "    <tr>\n",
       "      <th>All</th>\n",
       "      <td>835</td>\n",
       "      <td>504</td>\n",
       "      <td>1339</td>\n",
       "    </tr>\n",
       "  </tbody>\n",
       "</table>\n",
       "</div>"
      ],
      "text/plain": [
       "Predicted    0    1   All\n",
       "Actual                   \n",
       "0          758   46   804\n",
       "1           77  458   535\n",
       "All        835  504  1339"
      ]
     },
     "execution_count": 22,
     "metadata": {},
     "output_type": "execute_result"
    }
   ],
   "source": [
    "# Get Performance by Class (Lookup Confusion Matrix)\n",
    "pd.crosstab(index    = y_test, \n",
    "            columns  = model_tree.predict(x_test), \n",
    "            rownames = ['Actual'],\n",
    "            colnames = ['Predicted'],\n",
    "            margins  = True)"
   ]
  },
  {
   "cell_type": "markdown",
   "id": "4b27c42b",
   "metadata": {},
   "source": [
    "As a tree model, this model should look like a real tree with branches and leaves. `sklearn` provides a very useful function, `plot_tree`, to plot your tree."
   ]
  },
  {
   "cell_type": "code",
   "execution_count": 26,
   "id": "2bd25ad5",
   "metadata": {},
   "outputs": [
    {
     "data": {
      "image/png": "[encoded data removed]",
      "text/plain": [
       "<Figure size 2000x1000 with 1 Axes>"
      ]
     },
     "metadata": {},
     "output_type": "display_data"
    }
   ],
   "source": [
    "# Plot of tree fit on the Iris dataset\n",
    "plt.figure(figsize=(20, 10))\n",
    "sklearn.tree.plot_tree(model_tree, max_depth=3)\n",
    "plt.show()"
   ]
  },
  {
   "cell_type": "markdown",
   "id": "e497ef1b",
   "metadata": {},
   "source": [
    "<a id='exercise_1'></a>\n",
    "## Exercise 1\n",
    "\n",
    "Let's try out decision tree models on a cancer dataset. Click <a href = \"https://towardsdatascience.com/building-a-simple-machine-learning-model-on-breast-cancer-data-eca4b3b99fa3\">here</a> for another example with this dataset and more information.\n",
    "\n",
    "This is a copy of UCI ML Breast Cancer Wisconsin (Diagnostic) datasets.\n",
    "\n",
    "Features:\n",
    "- radius (mean of distances from center to points on the perimeter)\n",
    "- texture (standard deviation of gray-scale values)\n",
    "- perimeter\n",
    "- area\n",
    "- smoothness (local variation in radius lengths)\n",
    "- compactness (perimeter^2 / area - 1.0)\n",
    "- concavity (severity of concave portions of the contour)\n",
    "- concave points (number of concave portions of the contour)\n",
    "- symmetry \n",
    "- fractal dimension (\"coastline approximation\" - 1)\n",
    "\n",
    "Target:\n",
    "- Diagnosis (M = malignant, B = benign)"
   ]
  },
  {
   "cell_type": "code",
   "execution_count": 27,
   "id": "dd2c0d0d",
   "metadata": {},
   "outputs": [
    {
     "name": "stdout",
     "output_type": "stream",
     "text": [
      "Design matrix shape (569, 10)\n"
     ]
    },
    {
     "data": {
      "text/html": [
       "<div>\n",
       "<style scoped>\n",
       "    .dataframe tbody tr th:only-of-type {\n",
       "        vertical-align: middle;\n",
       "    }\n",
       "\n",
       "    .dataframe tbody tr th {\n",
       "        vertical-align: top;\n",
       "    }\n",
       "\n",
       "    .dataframe thead th {\n",
       "        text-align: right;\n",
       "    }\n",
       "</style>\n",
       "<table border=\"1\" class=\"dataframe\">\n",
       "  <thead>\n",
       "    <tr style=\"text-align: right;\">\n",
       "      <th></th>\n",
       "      <th>texture error</th>\n",
       "      <th>worst texture</th>\n",
       "      <th>worst symmetry</th>\n",
       "      <th>compactness error</th>\n",
       "      <th>worst radius</th>\n",
       "      <th>worst compactness</th>\n",
       "      <th>concave points error</th>\n",
       "      <th>worst fractal dimension</th>\n",
       "      <th>fractal dimension error</th>\n",
       "      <th>mean radius</th>\n",
       "    </tr>\n",
       "  </thead>\n",
       "  <tbody>\n",
       "    <tr>\n",
       "      <th>0</th>\n",
       "      <td>-0.565265</td>\n",
       "      <td>-1.359293</td>\n",
       "      <td>2.750622</td>\n",
       "      <td>1.316862</td>\n",
       "      <td>1.886690</td>\n",
       "      <td>2.616665</td>\n",
       "      <td>0.660820</td>\n",
       "      <td>1.937015</td>\n",
       "      <td>0.907083</td>\n",
       "      <td>1.097064</td>\n",
       "    </tr>\n",
       "    <tr>\n",
       "      <th>1</th>\n",
       "      <td>-0.876244</td>\n",
       "      <td>-0.369203</td>\n",
       "      <td>-0.243890</td>\n",
       "      <td>-0.692926</td>\n",
       "      <td>1.805927</td>\n",
       "      <td>-0.430444</td>\n",
       "      <td>0.260162</td>\n",
       "      <td>0.281190</td>\n",
       "      <td>-0.099444</td>\n",
       "      <td>1.829821</td>\n",
       "    </tr>\n",
       "    <tr>\n",
       "      <th>2</th>\n",
       "      <td>-0.780083</td>\n",
       "      <td>-0.023974</td>\n",
       "      <td>1.152255</td>\n",
       "      <td>0.814974</td>\n",
       "      <td>1.511870</td>\n",
       "      <td>1.082932</td>\n",
       "      <td>1.424827</td>\n",
       "      <td>0.201391</td>\n",
       "      <td>0.293559</td>\n",
       "      <td>1.579888</td>\n",
       "    </tr>\n",
       "    <tr>\n",
       "      <th>3</th>\n",
       "      <td>-0.110409</td>\n",
       "      <td>0.133984</td>\n",
       "      <td>6.046041</td>\n",
       "      <td>2.744280</td>\n",
       "      <td>-0.281464</td>\n",
       "      <td>3.893397</td>\n",
       "      <td>1.115007</td>\n",
       "      <td>4.935010</td>\n",
       "      <td>2.047511</td>\n",
       "      <td>-0.768909</td>\n",
       "    </tr>\n",
       "  </tbody>\n",
       "</table>\n",
       "</div>"
      ],
      "text/plain": [
       "   texture error  worst texture  worst symmetry  compactness error  worst radius  worst compactness  concave points error  worst fractal dimension  fractal dimension error  mean radius\n",
       "0      -0.565265      -1.359293        2.750622           1.316862      1.886690           2.616665              0.660820                 1.937015                 0.907083     1.097064\n",
       "1      -0.876244      -0.369203       -0.243890          -0.692926      1.805927          -0.430444              0.260162                 0.281190                -0.099444     1.829821\n",
       "2      -0.780083      -0.023974        1.152255           0.814974      1.511870           1.082932              1.424827                 0.201391                 0.293559     1.579888\n",
       "3      -0.110409       0.133984        6.046041           2.744280     -0.281464           3.893397              1.115007                 4.935010                 2.047511    -0.768909"
      ]
     },
     "metadata": {},
     "output_type": "display_data"
    },
    {
     "name": "stdout",
     "output_type": "stream",
     "text": [
      "target classes    {1: 'Benign', 0: 'Malignant'}\n",
      "There are 357 Benign cases and 212 Malignant cases in the target\n"
     ]
    }
   ],
   "source": [
    "from functions import tree_pd\n",
    "import numpy as np\n",
    "\n",
    "import numpy as np\n",
    "import pandas as pd\n",
    "import matplotlib\n",
    "import matplotlib.pyplot as plt\n",
    "import seaborn as sns\n",
    "import sklearn.metrics as metrics\n",
    "from sklearn.model_selection import cross_val_score\n",
    "from sklearn.metrics import accuracy_score\n",
    "from sklearn import tree\n",
    "from sklearn.tree import DecisionTreeClassifier\n",
    "from sklearn.ensemble import RandomForestClassifier\n",
    "from sklearn.ensemble import AdaBoostClassifier\n",
    "from sklearn.linear_model import LogisticRegressionCV\n",
    "from sklearn.model_selection import KFold\n",
    "from sklearn.metrics import confusion_matrix\n",
    "from sklearn import datasets\n",
    "\n",
    "%matplotlib inline\n",
    "\n",
    "pd.set_option('display.width', 1500)\n",
    "pd.set_option('display.max_columns', 100)\n",
    "\n",
    "from sklearn.model_selection import learning_curve\n",
    "\n",
    "get_tree_scores = tree_pd.get_tree_scores\n",
    "cancer_scaled, target = tree_pd.load_cancer_dataset(10, 4)"
   ]
  },
  {
   "cell_type": "markdown",
   "id": "0d5a08dc",
   "metadata": {},
   "source": [
    "## Your tasks are as follows:\n",
    "\n",
    "0) Perform a manual 80-20 train-test split"
   ]
  },
  {
   "cell_type": "code",
   "execution_count": null,
   "id": "cee075b4",
   "metadata": {},
   "outputs": [],
   "source": [
    "################################### Train Test split\n",
    "np.random.seed(40)\n",
    "\n",
    "# test_proportion\n",
    "test_prop = 0.2\n",
    "\n",
    "# sample from a random uniform distribution\n",
    "uniform_samples = np.random.uniform(0, 1, ...)\n",
    "# create a boolean vector mask\n",
    "msk = ...\n",
    " \n",
    "# Split predictor and response columns\n",
    "x_train, y_train = ...\n",
    "x_test , y_test  = ...\n",
    "\n",
    "print(\"Shape of Training Set :\", x_train.shape)\n",
    "print(\"Shape of Testing Set :\" , x_test.shape)"
   ]
  },
  {
   "cell_type": "markdown",
   "id": "c442bbae",
   "metadata": {},
   "source": [
    "1) Use the `get_tree_scores` function to assign a dataframe of cross-validation scores for different depths of a `DecisionTreeClassifier`. Specifically feed the function a class instance with `random_state=42`.  This function takes four arguments (x_train, y_train, model, tree_depth_range). This function returns a dictionary of scores.\n",
    "\n",
    "2) Use `pd.DataFrame` and `pd.melt` to assign a dataframe `cv_acc_df`. This dataframe should have two columns: `depth`  and `cv_acc_score`. Hint: check out the `var_name` and `value_name` arguments of `pd.melt`.\n",
    "\n",
    "3) Visualize the mean cross validation accuracy scores using `sns.boxenplot` or another function of your choice similar to `sns.catplot`\n",
    "\n",
    "4) Use pandas `groupby` function to to get the mean cross-validation accuracy for specific depths. Assign to a new dataframe `cv_acc_mean`.\n",
    "\n",
    "5) Visualize the mean cross validation accuracy scores using `sns.lineplot` in combination with `cv_acc_mean`. Discuss what you see with your group."
   ]
  },
  {
   "cell_type": "code",
   "execution_count": null,
   "id": "a77bff63",
   "metadata": {},
   "outputs": [],
   "source": [
    "# Your code here\n"
   ]
  },
  {
   "cell_type": "markdown",
   "id": "4c9ea931",
   "metadata": {},
   "source": [
    "Once you have successfully completed the code above, this code should run without a problem"
   ]
  },
  {
   "cell_type": "code",
   "execution_count": null,
   "id": "67a6e1dd",
   "metadata": {},
   "outputs": [],
   "source": [
    "max_idx = cv_acc_mean[\"cv_acc_score\"].idxmax()\n",
    "best_depth = cv_acc_mean[\"depth\"][max_idx]\n",
    "print(\"best depth {:}\".format(best_depth))\n",
    "\n",
    "model = DecisionTreeClassifier(max_depth=best_depth)\n",
    "model.fit(x_train, y_train)\n",
    "\n",
    "cancer_tree_accuracy = model.score(x_test, y_test)\n",
    "\n",
    "print(\"Testing set accuracy {:.4f}\".format(cancer_tree_accuracy))"
   ]
  },
  {
   "cell_type": "markdown",
   "id": "b1694316",
   "metadata": {},
   "source": [
    "Now answer the following questions:\n",
    "- Why is the best depth the value that it is?\n",
    "- Why might the deeper trees be over or under fitting on this particular dataset?"
   ]
  },
  {
   "cell_type": "code",
   "execution_count": null,
   "id": "ad3ebfba",
   "metadata": {},
   "outputs": [],
   "source": [
    "# let's visualize the tree\n",
    "file_name = \"results/small_tree.dot\"\n",
    "tree.export_graphviz(model, out_file=file_name) \n",
    "(graph,) = pydot.graph_from_dot_file(file_name)\n",
    "graph.write_png('results/small_tree.png')"
   ]
  },
  {
   "cell_type": "markdown",
   "id": "290bb594",
   "metadata": {},
   "source": [
    "- Let's display the ```small_tree.png``` in markdown:\n",
    "\n",
    "Markdown: ```![title](results/small_tree.png)```. The result: \n",
    "\n",
    "![title](results/small_tree.png)\n",
    "\n",
    "*Repost Question:* Do you think this tree is interpretable?\n",
    "\n",
    "**Try feeding the get_tree_pd an additional \"bootstraps\" argument and comment on what happens to the validation accuracy.**"
   ]
  },
  {
   "cell_type": "code",
   "execution_count": null,
   "id": "e001e86d",
   "metadata": {},
   "outputs": [],
   "source": [
    "# Your code here\n"
   ]
  },
  {
   "cell_type": "markdown",
   "id": "9df89bd4",
   "metadata": {},
   "source": [
    "<a id='ensemble'></a>\n",
    "## Ensemble methods\n",
    "An ensemble method is an approach that combines many simple “building ensemble block” models in order to obtain a single and potentially very powerful model. These simple building block models are sometimes known as _weak learners_, since they may lead to mediocre predictions on their own. We will now discuss bagging, random forests, and boosting. These are ensemble methods for which the simple building block is a regression or a classification tree."
   ]
  },
  {
   "cell_type": "markdown",
   "id": "8e385a40",
   "metadata": {},
   "source": [
    "<a id='bagging'></a>\n",
    "### Bagging\n",
    "\n",
    "*QUESTION:* Where does the word \"*Bagging*\" come from?\n",
    "\n",
    " 1. **Bootstrap:** we generate multiple samples of training data, via bootstrapping (resample with replacements). We train a full decision tree on each sample of data. \n",
    " 2. **AGGregatiING** for a given input, we output the averaged outputs of all the models for that input. \n",
    " \n",
    "This method is called **Bagging: B** ootstrap + **AGG**regat**ING**. \n",
    "\n",
    "Bagging, or _Bootstrap aggregation_, is a general-purpose procedure for reducing the variance of a statistical learning method. Indeed, given a set of $n$ independent observations $Z_1,...,Z_n$, each with variance $\\sigma^2$, the variance of the mean $\\bar{Z}$ of the observations is given by $\\sigma^2/n$. In other words, averaging a set of observations reduces variance. Hence a natural way to reduce the variance and increase the test set accuracy of a statistical learning method is to take many training sets from the population, build a separate prediction model using each training set, and average the resulting predictions. In other words, we could calculate $\\hat{f}_1(x), \\hat{f}_2(x), ..., \\hat{f}_B(x)$ using $B$ separate training sets, and average them in order to obtain a single low-variance statistical learning model, given by:\n",
    "\n",
    "$$\n",
    "\\hat{f}_{\\text{avg}}(x) = \\frac{1}{B} \\sum_{b=1}^B \\hat{f}_b(x)\n",
    "$$\n",
    "\n",
    "Of course, this is not practical because we generally do not have access to multiple training sets. Instead, we can _bootstrap_ by taking repeated samples from the (single) training dataset. Bootstrapping means to create multiple training datasets from a single original dataset. Each of the bootstrapped datasets is generated by randomly sampling observations from the original dataset with replacement. In this approach, we generate $B$ different bootstrapped training datasets. We then train our method on the $b$-th bootstrapped training set in order to get $\\hat{f}^*_b(x)$, and finally average all the predictions to obtain:\n",
    "\n",
    "$$\n",
    "\\hat{f}_{\\text{bag}}(x) = \\frac{1}{B} \\sum_{b=1}^B \\hat{f}^*_b(x)\n",
    "$$\n",
    "\n",
    "This technique is called bagging. The number of trees $B$ is not a critical parameter with bagging; using a very large value of $B$ will not lead to overfitting. In practice we use a value of $B$ sufficiently large that the error has settled down.\n",
    "\n",
    "Bagging can be used with a variety of different statistical learning methods, both for regression and classification tasks, but in this notebook we will see it applied to decision trees.\n",
    "\n",
    "In scikit-learn, bagging methods are offered as a unified `BaggingClassifier` meta-estimator (resp. `BaggingRegressor`), taking as input a user-specified estimator along with parameters specifying the strategy to draw random subsets. In particular, `max_samples` control the size of the subsets, while `bootstrap` control whether samples are drawn with or without replacement.\n",
    "\n",
    "#### Predicting with Bagging\n",
    "A bagging ensemble makes predictions by combining the predictions of the multiple base models. For regression problems, the individual predictions are typically averaged to produce the final prediction of the ensemble. For classification problems, the individual predictions can be combined using a majority voting scheme (for binary classification) or a weighted voting scheme (for multi-class classification), where the weight of each vote is proportional to the confidence or probability of the corresponding base model."
   ]
  },
  {
   "cell_type": "code",
   "execution_count": 7,
   "id": "16f1dd96",
   "metadata": {},
   "outputs": [],
   "source": [
    "from sklearn.ensemble import BaggingClassifier\n",
    "from sklearn.tree import DecisionTreeClassifier\n",
    "bagging = BaggingClassifier(DecisionTreeClassifier,\n",
    "                            max_samples=0.5, bootstrap=True)"
   ]
  },
  {
   "cell_type": "markdown",
   "id": "9eaaf1b2",
   "metadata": {},
   "source": [
    "#### Variable Importance Measures\n",
    "As we have discussed, bagging typically results in improved accuracy over prediction using a single tree. Unfortunately, however, it can be difficult to interpret the resulting model. Recall that one of the advantages of decision trees is the attractive and easily interpreted diagram that results. However, when we bag a large number of trees, it is no longer possible to represent the resulting statistical learning procedure using a single tree, and it is no longer clear which variables are most important to the procedure. Thus, bagging improves prediction accuracy at the expense of interpretability. Although the collection of bagged trees is much more difficult to interpret than a single tree, one can obtain an overall summary of the importance of each predictor using the impurity measures. In the case of bagging regression trees, we can record the total amount that the MSE is decreased due to splits over a given predictor, averaged over all $B$ trees. A large value indicates an important predictor. Similarly, in the context of bagging classification trees, we can add up the total amount that the Gini index is decreased by splits over a given predictor, averaged over all $B$ trees.\n",
    "\n",
    "scikit-learn does not offer methods to return the features importance resulting from an ensemble model but we can compute it ourselves with those of the individual models. It is just an average of `tree.feature_importances_` over all trees in `bagging.estimators_` as follows:"
   ]
  },
  {
   "cell_type": "code",
   "execution_count": 8,
   "id": "e45d54c0",
   "metadata": {},
   "outputs": [],
   "source": [
    "import numpy as np\n",
    "from sklearn.ensemble import BaggingClassifier\n",
    "from sklearn.tree import DecisionTreeClassifier\n",
    "from sklearn.datasets import load_iris\n",
    "\n",
    "X, y = load_iris(return_X_y=True)\n",
    "clf = BaggingClassifier(DecisionTreeClassifier())\n",
    "clf.fit(X, y)\n",
    "\n",
    "feature_importances = np.mean([\n",
    "    tree.feature_importances_ for tree in clf.estimators_\n",
    "], axis=0)"
   ]
  },
  {
   "cell_type": "code",
   "execution_count": 9,
   "id": "16a8b56f",
   "metadata": {},
   "outputs": [
    {
     "data": {
      "text/plain": [
       "array([0.01691629, 0.01285019, 0.45651207, 0.51372145])"
      ]
     },
     "execution_count": 9,
     "metadata": {},
     "output_type": "execute_result"
    }
   ],
   "source": [
    "feature_importances"
   ]
  },
  {
   "cell_type": "markdown",
   "id": "3f9494cf",
   "metadata": {},
   "source": [
    "## Bagging with the Spam dataset\n",
    "\n",
    "Let's bootstrap our training dataset to create multiple datasets and fit Decision Tree models to each.\n",
    "\n",
    "<img src=\"fig/bagging_array.png\" alt=\"tree_adj\" width=\"80%\"/>"
   ]
  },
  {
   "cell_type": "code",
   "execution_count": null,
   "id": "f8715295",
   "metadata": {},
   "outputs": [
    {
     "data": {
      "text/html": [
       "<div>\n",
       "<style scoped>\n",
       "    .dataframe tbody tr th:only-of-type {\n",
       "        vertical-align: middle;\n",
       "    }\n",
       "\n",
       "    .dataframe tbody tr th {\n",
       "        vertical-align: top;\n",
       "    }\n",
       "\n",
       "    .dataframe thead th {\n",
       "        text-align: right;\n",
       "    }\n",
       "</style>\n",
       "<table border=\"1\" class=\"dataframe\">\n",
       "  <thead>\n",
       "    <tr style=\"text-align: right;\">\n",
       "      <th></th>\n",
       "      <th>Feature_1</th>\n",
       "      <th>Feature_2</th>\n",
       "      <th>Feature_3</th>\n",
       "      <th>Feature_4</th>\n",
       "      <th>Feature_5</th>\n",
       "      <th>Feature_6</th>\n",
       "      <th>Feature_7</th>\n",
       "      <th>Feature_8</th>\n",
       "      <th>Feature_9</th>\n",
       "      <th>Feature_10</th>\n",
       "      <th>Feature_11</th>\n",
       "      <th>Feature_12</th>\n",
       "      <th>Feature_13</th>\n",
       "      <th>Feature_14</th>\n",
       "      <th>Feature_15</th>\n",
       "      <th>Feature_16</th>\n",
       "      <th>Feature_17</th>\n",
       "      <th>Feature_18</th>\n",
       "      <th>Feature_19</th>\n",
       "      <th>Feature_20</th>\n",
       "      <th>Feature_21</th>\n",
       "      <th>Feature_22</th>\n",
       "      <th>Feature_23</th>\n",
       "      <th>Feature_24</th>\n",
       "      <th>Feature_25</th>\n",
       "      <th>Feature_26</th>\n",
       "      <th>Feature_27</th>\n",
       "      <th>Feature_28</th>\n",
       "      <th>Feature_29</th>\n",
       "      <th>Feature_30</th>\n",
       "      <th>Feature_31</th>\n",
       "      <th>Feature_32</th>\n",
       "      <th>Feature_33</th>\n",
       "      <th>Feature_34</th>\n",
       "      <th>Feature_35</th>\n",
       "      <th>Feature_36</th>\n",
       "      <th>Feature_37</th>\n",
       "      <th>Feature_38</th>\n",
       "      <th>Feature_39</th>\n",
       "      <th>Feature_40</th>\n",
       "      <th>Feature_41</th>\n",
       "      <th>Feature_42</th>\n",
       "      <th>Feature_43</th>\n",
       "      <th>Feature_44</th>\n",
       "      <th>Feature_45</th>\n",
       "      <th>Feature_46</th>\n",
       "      <th>Feature_47</th>\n",
       "      <th>Feature_48</th>\n",
       "      <th>Feature_49</th>\n",
       "      <th>Feature_50</th>\n",
       "      <th>Feature_51</th>\n",
       "      <th>Feature_52</th>\n",
       "      <th>Feature_53</th>\n",
       "      <th>Feature_54</th>\n",
       "      <th>Feature_55</th>\n",
       "      <th>Feature_56</th>\n",
       "      <th>Feature_57</th>\n",
       "      <th>Spam</th>\n",
       "    </tr>\n",
       "  </thead>\n",
       "  <tbody>\n",
       "    <tr>\n",
       "      <th>mean</th>\n",
       "      <td>0.105984</td>\n",
       "      <td>0.206603</td>\n",
       "      <td>0.284908</td>\n",
       "      <td>0.06607</td>\n",
       "      <td>0.309537</td>\n",
       "      <td>0.096462</td>\n",
       "      <td>0.11218</td>\n",
       "      <td>0.110368</td>\n",
       "      <td>0.088734</td>\n",
       "      <td>0.243182</td>\n",
       "      <td>0.062624</td>\n",
       "      <td>0.537961</td>\n",
       "      <td>0.096045</td>\n",
       "      <td>0.056395</td>\n",
       "      <td>0.049942</td>\n",
       "      <td>0.265929</td>\n",
       "      <td>0.139779</td>\n",
       "      <td>0.188832</td>\n",
       "      <td>1.691186</td>\n",
       "      <td>0.097235</td>\n",
       "      <td>0.81599</td>\n",
       "      <td>0.120224</td>\n",
       "      <td>0.097961</td>\n",
       "      <td>0.088694</td>\n",
       "      <td>0.528384</td>\n",
       "      <td>0.256327</td>\n",
       "      <td>0.776444</td>\n",
       "      <td>0.128697</td>\n",
       "      <td>0.097863</td>\n",
       "      <td>0.110806</td>\n",
       "      <td>0.064712</td>\n",
       "      <td>0.050377</td>\n",
       "      <td>0.102446</td>\n",
       "      <td>0.050635</td>\n",
       "      <td>0.112554</td>\n",
       "      <td>0.102541</td>\n",
       "      <td>0.135935</td>\n",
       "      <td>0.014834</td>\n",
       "      <td>0.081824</td>\n",
       "      <td>0.06897</td>\n",
       "      <td>0.039641</td>\n",
       "      <td>0.123467</td>\n",
       "      <td>0.045371</td>\n",
       "      <td>0.072471</td>\n",
       "      <td>0.308231</td>\n",
       "      <td>0.182955</td>\n",
       "      <td>0.005607</td>\n",
       "      <td>0.03191</td>\n",
       "      <td>0.036318</td>\n",
       "      <td>0.141634</td>\n",
       "      <td>0.018758</td>\n",
       "      <td>0.277636</td>\n",
       "      <td>0.071341</td>\n",
       "      <td>0.051376</td>\n",
       "      <td>5.300716</td>\n",
       "      <td>52.760883</td>\n",
       "      <td>278.253525</td>\n",
       "      <td>0.391784</td>\n",
       "    </tr>\n",
       "  </tbody>\n",
       "</table>\n",
       "</div>"
      ],
      "text/plain": [
       "      Feature_1  Feature_2  Feature_3  Feature_4  Feature_5  Feature_6  Feature_7  Feature_8  Feature_9  Feature_10  Feature_11  Feature_12  Feature_13  Feature_14  Feature_15  Feature_16  Feature_17  Feature_18  Feature_19  Feature_20  Feature_21  Feature_22  Feature_23  Feature_24  Feature_25  Feature_26  Feature_27  Feature_28  Feature_29  Feature_30  Feature_31  Feature_32  Feature_33  Feature_34  Feature_35  Feature_36  Feature_37  Feature_38  Feature_39  Feature_40  Feature_41  Feature_42  Feature_43  Feature_44  Feature_45  Feature_46  Feature_47  Feature_48  Feature_49  Feature_50  Feature_51  Feature_52  Feature_53  Feature_54  Feature_55  Feature_56  Feature_57      Spam\n",
       "mean   0.105984   0.206603   0.284908    0.06607   0.309537   0.096462    0.11218   0.110368   0.088734    0.243182    0.062624    0.537961    0.096045    0.056395    0.049942    0.265929    0.139779    0.188832    1.691186    0.097235     0.81599    0.120224    0.097961    0.088694    0.528384    0.256327    0.776444    0.128697    0.097863    0.110806    0.064712    0.050377    0.102446    0.050635    0.112554    0.102541    0.135935    0.014834    0.081824     0.06897    0.039641    0.123467    0.045371    0.072471    0.308231    0.182955    0.005607     0.03191    0.036318    0.141634    0.018758    0.277636    0.071341    0.051376    5.300716   52.760883  278.253525  0.391784"
      ]
     },
     "metadata": {},
     "output_type": "display_data"
    }
   ],
   "source": [
    "# Stat on all data\n",
    "data_train.mean(axis=0).to_frame('mean').T"
   ]
  },
  {
   "cell_type": "code",
   "execution_count": null,
   "id": "71ab399e",
   "metadata": {},
   "outputs": [],
   "source": [
    "x_train, y_train = data_train.drop(['Spam'], axis=1), data_train['Spam']\n",
    "x_test , y_test  = data_test.drop(['Spam'] , axis=1), data_test['Spam']"
   ]
  },
  {
   "cell_type": "code",
   "execution_count": null,
   "id": "1dbc5c17",
   "metadata": {},
   "outputs": [
    {
     "data": {
      "text/html": [
       "<div>\n",
       "<style scoped>\n",
       "    .dataframe tbody tr th:only-of-type {\n",
       "        vertical-align: middle;\n",
       "    }\n",
       "\n",
       "    .dataframe tbody tr th {\n",
       "        vertical-align: top;\n",
       "    }\n",
       "\n",
       "    .dataframe thead th {\n",
       "        text-align: right;\n",
       "    }\n",
       "</style>\n",
       "<table border=\"1\" class=\"dataframe\">\n",
       "  <thead>\n",
       "    <tr style=\"text-align: right;\">\n",
       "      <th></th>\n",
       "      <th>Feature_1</th>\n",
       "      <th>Feature_2</th>\n",
       "      <th>Feature_3</th>\n",
       "      <th>Feature_4</th>\n",
       "      <th>Feature_5</th>\n",
       "      <th>Feature_6</th>\n",
       "      <th>Feature_7</th>\n",
       "      <th>Feature_8</th>\n",
       "      <th>Feature_9</th>\n",
       "      <th>Feature_10</th>\n",
       "      <th>Feature_11</th>\n",
       "      <th>Feature_12</th>\n",
       "      <th>Feature_13</th>\n",
       "      <th>Feature_14</th>\n",
       "      <th>Feature_15</th>\n",
       "      <th>Feature_16</th>\n",
       "      <th>Feature_17</th>\n",
       "      <th>Feature_18</th>\n",
       "      <th>Feature_19</th>\n",
       "      <th>Feature_20</th>\n",
       "      <th>Feature_21</th>\n",
       "      <th>Feature_22</th>\n",
       "      <th>Feature_23</th>\n",
       "      <th>Feature_24</th>\n",
       "      <th>Feature_25</th>\n",
       "      <th>Feature_26</th>\n",
       "      <th>Feature_27</th>\n",
       "      <th>Feature_28</th>\n",
       "      <th>Feature_29</th>\n",
       "      <th>Feature_30</th>\n",
       "      <th>Feature_31</th>\n",
       "      <th>Feature_32</th>\n",
       "      <th>Feature_33</th>\n",
       "      <th>Feature_34</th>\n",
       "      <th>Feature_35</th>\n",
       "      <th>Feature_36</th>\n",
       "      <th>Feature_37</th>\n",
       "      <th>Feature_38</th>\n",
       "      <th>Feature_39</th>\n",
       "      <th>Feature_40</th>\n",
       "      <th>Feature_41</th>\n",
       "      <th>Feature_42</th>\n",
       "      <th>Feature_43</th>\n",
       "      <th>Feature_44</th>\n",
       "      <th>Feature_45</th>\n",
       "      <th>Feature_46</th>\n",
       "      <th>Feature_47</th>\n",
       "      <th>Feature_48</th>\n",
       "      <th>Feature_49</th>\n",
       "      <th>Feature_50</th>\n",
       "      <th>Feature_51</th>\n",
       "      <th>Feature_52</th>\n",
       "      <th>Feature_53</th>\n",
       "      <th>Feature_54</th>\n",
       "      <th>Feature_55</th>\n",
       "      <th>Feature_56</th>\n",
       "      <th>Feature_57</th>\n",
       "      <th>Spam</th>\n",
       "    </tr>\n",
       "  </thead>\n",
       "  <tbody>\n",
       "    <tr>\n",
       "      <th>mean</th>\n",
       "      <td>0.104448</td>\n",
       "      <td>0.161355</td>\n",
       "      <td>0.294344</td>\n",
       "      <td>0.067456</td>\n",
       "      <td>0.32092</td>\n",
       "      <td>0.096987</td>\n",
       "      <td>0.105046</td>\n",
       "      <td>0.105944</td>\n",
       "      <td>0.084644</td>\n",
       "      <td>0.228013</td>\n",
       "      <td>0.059608</td>\n",
       "      <td>0.516885</td>\n",
       "      <td>0.102486</td>\n",
       "      <td>0.057069</td>\n",
       "      <td>0.05095</td>\n",
       "      <td>0.263734</td>\n",
       "      <td>0.132005</td>\n",
       "      <td>0.19595</td>\n",
       "      <td>1.675405</td>\n",
       "      <td>0.089513</td>\n",
       "      <td>0.833863</td>\n",
       "      <td>0.135383</td>\n",
       "      <td>0.090399</td>\n",
       "      <td>0.087262</td>\n",
       "      <td>0.541787</td>\n",
       "      <td>0.247376</td>\n",
       "      <td>0.865622</td>\n",
       "      <td>0.126174</td>\n",
       "      <td>0.101257</td>\n",
       "      <td>0.111714</td>\n",
       "      <td>0.073725</td>\n",
       "      <td>0.065074</td>\n",
       "      <td>0.097719</td>\n",
       "      <td>0.065071</td>\n",
       "      <td>0.123697</td>\n",
       "      <td>0.11088</td>\n",
       "      <td>0.13153</td>\n",
       "      <td>0.020055</td>\n",
       "      <td>0.074323</td>\n",
       "      <td>0.081622</td>\n",
       "      <td>0.040028</td>\n",
       "      <td>0.122039</td>\n",
       "      <td>0.045699</td>\n",
       "      <td>0.07134</td>\n",
       "      <td>0.296125</td>\n",
       "      <td>0.212872</td>\n",
       "      <td>0.004546</td>\n",
       "      <td>0.029997</td>\n",
       "      <td>0.035479</td>\n",
       "      <td>0.144666</td>\n",
       "      <td>0.018911</td>\n",
       "      <td>0.281237</td>\n",
       "      <td>0.076012</td>\n",
       "      <td>0.047938</td>\n",
       "      <td>4.76848</td>\n",
       "      <td>51.653587</td>\n",
       "      <td>278.843654</td>\n",
       "      <td>0.40466</td>\n",
       "    </tr>\n",
       "  </tbody>\n",
       "</table>\n",
       "</div>"
      ],
      "text/plain": [
       "      Feature_1  Feature_2  Feature_3  Feature_4  Feature_5  Feature_6  Feature_7  Feature_8  Feature_9  Feature_10  Feature_11  Feature_12  Feature_13  Feature_14  Feature_15  Feature_16  Feature_17  Feature_18  Feature_19  Feature_20  Feature_21  Feature_22  Feature_23  Feature_24  Feature_25  Feature_26  Feature_27  Feature_28  Feature_29  Feature_30  Feature_31  Feature_32  Feature_33  Feature_34  Feature_35  Feature_36  Feature_37  Feature_38  Feature_39  Feature_40  Feature_41  Feature_42  Feature_43  Feature_44  Feature_45  Feature_46  Feature_47  Feature_48  Feature_49  Feature_50  Feature_51  Feature_52  Feature_53  Feature_54  Feature_55  Feature_56  Feature_57     Spam\n",
       "mean   0.104448   0.161355   0.294344   0.067456    0.32092   0.096987   0.105046   0.105944   0.084644    0.228013    0.059608    0.516885    0.102486    0.057069     0.05095    0.263734    0.132005     0.19595    1.675405    0.089513    0.833863    0.135383    0.090399    0.087262    0.541787    0.247376    0.865622    0.126174    0.101257    0.111714    0.073725    0.065074    0.097719    0.065071    0.123697     0.11088     0.13153    0.020055    0.074323    0.081622    0.040028    0.122039    0.045699     0.07134    0.296125    0.212872    0.004546    0.029997    0.035479    0.144666    0.018911    0.281237    0.076012    0.047938     4.76848   51.653587  278.843654  0.40466"
      ]
     },
     "metadata": {},
     "output_type": "display_data"
    }
   ],
   "source": [
    "data_train.sample(frac=1., replace=True).mean(axis=0).to_frame('mean').T"
   ]
  },
  {
   "cell_type": "markdown",
   "id": "8464fe2f",
   "metadata": {},
   "source": [
    "Now we actually fit the samples"
   ]
  },
  {
   "cell_type": "code",
   "execution_count": null,
   "id": "a5490acf",
   "metadata": {},
   "outputs": [],
   "source": [
    "n_trees = 100 # we tried a variety of numbers here\n",
    "choosen_depth = 5"
   ]
  },
  {
   "cell_type": "code",
   "execution_count": null,
   "id": "08aec4b3",
   "metadata": {},
   "outputs": [],
   "source": [
    "# Creating model\n",
    "np.random.seed(0)\n",
    "model = DecisionTreeClassifier(max_depth=choosen_depth)\n",
    "\n",
    "# Initializing variables\n",
    "predictions_train = np.zeros( shape = (data_train.shape[0], n_trees))\n",
    "predictions_test  = np.zeros( shape = (data_test.shape[0],  n_trees))\n",
    "\n",
    "# Conduct bootstraping iterations\n",
    "for i in range(n_trees):\n",
    "    temp = data_train.sample(frac=1, replace=True)\n",
    "    boot_y = temp['Spam']\n",
    "    boot_X = temp.drop(['Spam'], axis=1)\n",
    "    \n",
    "    model.fit(boot_X, boot_y)  \n",
    "    predictions_train[:,i] = model.predict(x_train)   \n",
    "    predictions_test[:,i] = model.predict(x_test)\n",
    "    \n",
    "# Make Predictions Dataframe\n",
    "columns = [\"Bootstrap-Model_\"+str(i+1) for i in range(n_trees)]\n",
    "predictions_train = pd.DataFrame(predictions_train, columns=columns)\n",
    "predictions_test = pd.DataFrame(predictions_test, columns=columns)"
   ]
  },
  {
   "cell_type": "code",
   "execution_count": null,
   "id": "8a8927be",
   "metadata": {},
   "outputs": [],
   "source": [
    "y_train = data_train['Spam'].values\n",
    "y_test = data_test['Spam'].values"
   ]
  },
  {
   "cell_type": "code",
   "execution_count": null,
   "id": "3adac7bf",
   "metadata": {},
   "outputs": [
    {
     "data": {
      "text/plain": [
       "array([ True,  True,  True, ..., False, False, False])"
      ]
     },
     "metadata": {},
     "output_type": "display_data"
    }
   ],
   "source": [
    "# Example Bolean for locating the Non Spam\n",
    "y_train == 0\n",
    "# Example Bolean for locating the Spam\n",
    "y_train == 1"
   ]
  },
  {
   "cell_type": "code",
   "execution_count": null,
   "id": "06869dd3",
   "metadata": {},
   "outputs": [
    {
     "data": {
      "image/png": "[encoded data removed]",
      "text/plain": [
       "<Figure size 1152x504 with 2 Axes>"
      ]
     },
     "metadata": {},
     "output_type": "display_data"
    }
   ],
   "source": [
    "num_to_avg = 100\n",
    "fig, axs = plt.subplots(1, 2, figsize=(16, 7))\n",
    "for (ax, label, predictions, y) in [\n",
    "    (axs[0], 'Training Set', predictions_train, y_train), \n",
    "    (axs[1], 'Test Set' , predictions_test , y_test ) ]:\n",
    "    \n",
    "    # Take the average\n",
    "    mean_predictions = predictions.iloc[:,:num_to_avg].mean(axis=1)\n",
    "    \n",
    "    # Plot the Spam\n",
    "    mean_predictions[y == 1].hist(density=True, histtype='step', \n",
    "                                  range=[0,1], label='Spam', lw=2, ax=ax)\n",
    "    \n",
    "    # Plot the non Spam\n",
    "    mean_predictions[y == 0].hist(density=True, histtype='step', \n",
    "                                  range=[0,1], label='Not-Spam', lw=2, ax=ax)\n",
    "    ax.legend(loc='upper center');\n",
    "    ax.set_xlabel(\"Mean of ensemble predictions (0.5=50 True - 50 False)\")\n",
    "    ax.set_title(label)\n"
   ]
  },
  {
   "cell_type": "markdown",
   "id": "2efa3bb6",
   "metadata": {},
   "source": [
    "And now get final predictions: majority voting!"
   ]
  },
  {
   "cell_type": "code",
   "execution_count": null,
   "id": "01f50825",
   "metadata": {},
   "outputs": [
    {
     "name": "stdout",
     "output_type": "stream",
     "text": [
      "Bagging: \tAccuracy, Training Set \t: 94.11%\n",
      "Bagging: \tAccuracy, Testing Set \t: 92.01%\n"
     ]
    }
   ],
   "source": [
    "# Function to ensemble the prediction of each bagged decision tree model\n",
    "def get_prediction(df):\n",
    "    return np.mean(df, axis=1)>0.5\n",
    "\n",
    "# Check Accuracy of Spam Detection in Train and Test Set\n",
    "acc_bagging_training = 100*accuracy_score(y_train, get_prediction(predictions_train))\n",
    "acc_bagging_testing  = 100*accuracy_score(y_test, get_prediction(predictions_test))\n",
    "\n",
    "print(\"Bagging: \\tAccuracy, Training Set \\t: {:0.2f}%\".format(acc_bagging_training))\n",
    "print(\"Bagging: \\tAccuracy, Testing Set \\t: {:0.2f}%\".format( acc_bagging_testing))"
   ]
  },
  {
   "cell_type": "markdown",
   "id": "ef9d4d22",
   "metadata": {},
   "source": [
    "Count in the above code can be use to define the number of models the voting in the dataframe should be based on."
   ]
  },
  {
   "cell_type": "code",
   "execution_count": null,
   "id": "12ed9ff2",
   "metadata": {},
   "outputs": [
    {
     "data": {
      "text/html": [
       "<div>\n",
       "<style scoped>\n",
       "    .dataframe tbody tr th:only-of-type {\n",
       "        vertical-align: middle;\n",
       "    }\n",
       "\n",
       "    .dataframe tbody tr th {\n",
       "        vertical-align: top;\n",
       "    }\n",
       "\n",
       "    .dataframe thead th {\n",
       "        text-align: right;\n",
       "    }\n",
       "</style>\n",
       "<table border=\"1\" class=\"dataframe\">\n",
       "  <thead>\n",
       "    <tr style=\"text-align: right;\">\n",
       "      <th>Predicted</th>\n",
       "      <th>0</th>\n",
       "      <th>1</th>\n",
       "      <th>All</th>\n",
       "    </tr>\n",
       "    <tr>\n",
       "      <th>Actual</th>\n",
       "      <th></th>\n",
       "      <th></th>\n",
       "      <th></th>\n",
       "    </tr>\n",
       "  </thead>\n",
       "  <tbody>\n",
       "    <tr>\n",
       "      <th>0</th>\n",
       "      <td>766</td>\n",
       "      <td>38</td>\n",
       "      <td>804</td>\n",
       "    </tr>\n",
       "    <tr>\n",
       "      <th>1</th>\n",
       "      <td>94</td>\n",
       "      <td>441</td>\n",
       "      <td>535</td>\n",
       "    </tr>\n",
       "    <tr>\n",
       "      <th>All</th>\n",
       "      <td>860</td>\n",
       "      <td>479</td>\n",
       "      <td>1339</td>\n",
       "    </tr>\n",
       "  </tbody>\n",
       "</table>\n",
       "</div>"
      ],
      "text/plain": [
       "Predicted    0    1   All\n",
       "Actual                   \n",
       "0          766   38   804\n",
       "1           94  441   535\n",
       "All        860  479  1339"
      ]
     },
     "metadata": {},
     "output_type": "display_data"
    }
   ],
   "source": [
    "# Get Performance by Class (Lookup Confusion Matrix)\n",
    "pd.crosstab(np.array(y_test), model.predict(x_test), margins=True, rownames=['Actual'], colnames=['Predicted'])"
   ]
  },
  {
   "cell_type": "markdown",
   "id": "c444e138",
   "metadata": {},
   "source": [
    "\n",
    "**Food for Thought :** Are these bagging models independent of each other, can they be trained in a parallel fashion?"
   ]
  },
  {
   "cell_type": "markdown",
   "id": "7285e26b",
   "metadata": {},
   "source": [
    "-------------\n",
    "\n",
    "**Let's talk about decision trees and bagging in the context of bias and variance.**\n",
    "\n",
    "<img src=\"fig/bias_variance.png\" alt=\"split2\" width=\"45%\"/>\n",
    "<img src=\"fig/fitting.png\" alt=\"split2\" width=\"45%\"/>\n",
    "\n",
    "- When is a decision tree underfit? When is a decision tree overfit? Let's think about this in the concept of tree depth.\n",
    "\n",
    "**Bagging enjoys the benefits of**:\n",
    "- High expressiveness (by using larger trees it is able to approximate complex functions and decision boundaries).\n",
    "- Low _ _ _ by averaging the prediction of all the models thus reducing the _ _ _ in the final prediction.\n",
    "\n",
    "**What is the weakness of bagging?**\n",
    "- In practice, the ensemble of trees tend to be **highly _ _ _**\n",
    "- When could my bagging model be underfit? In what way does this apply to other ensemble methods?"
   ]
  },
  {
   "cell_type": "markdown",
   "id": "09eb2559",
   "metadata": {},
   "source": [
    "## Exercise 2\n",
    "\n",
    "*Let's try to improve our accuracy scores on the cancer dataset.*\n"
   ]
  },
  {
   "cell_type": "code",
   "execution_count": null,
   "id": "a712a447",
   "metadata": {},
   "outputs": [],
   "source": [
    "################################### Train Test split\n",
    "np.random.seed(40)\n",
    "\n",
    "#test_proportion\n",
    "test_prop = 0.2\n",
    "msk = np.random.uniform(0, 1, len(cancer_scaled)) > test_prop\n",
    "\n",
    "#Split predictor and response columns\n",
    "x_train, y_train = cancer_scaled[msk], target[msk]\n",
    "x_test , y_test  = cancer_scaled[~msk], target[~msk]\n",
    "\n",
    "print(\"Shape of Training Set :\", x_train.shape)\n",
    "print(\"Shape of Testing Set :\" , x_test.shape)"
   ]
  },
  {
   "cell_type": "markdown",
   "id": "17fbf0da",
   "metadata": {},
   "source": [
    "1) Complete the `get_bagging_scores` function  below.\n",
    "\n",
    "2) Using `get_bagging_scores` assign a dataframe `bagging_val_acc` using a class instance of `BaggingClassifier`. Try playing with different depths by feeding this object the argument `base_estimator = DecisionTreeClassifier(max_depth = DEPTH)` at initialization. The BaggingClassifier by default takes a `DecisionTreeClassifier`, but it can take other models as well. Try playing with different depths!\n",
    "\n",
    "3) Use pandas groupby function to to get the mean cross-validation accuracy for specific numbers of estimators. Assign to a new dataframe `bagging_mean_acc`.\n",
    "\n",
    "4) Visualize the mean cross validation accuracy scores by running the cell provided. Answer the subsequent questions."
   ]
  },
  {
   "cell_type": "code",
   "execution_count": null,
   "id": "a5c07861",
   "metadata": {},
   "outputs": [],
   "source": [
    "type(BaggingClassifier())"
   ]
  },
  {
   "cell_type": "code",
   "execution_count": null,
   "id": "1f6410d1",
   "metadata": {},
   "outputs": [],
   "source": [
    "def get_bagging_scores(x_train, y_train, model, bootstrap_range):\n",
    "    \"\"\"\n",
    "    This function will take a model and a range of values and return a dataframe with columns: [\"n_estimators\", \"cross_val_acc\"]\n",
    "    \n",
    "    Arguments:\n",
    "        model: the model to be run. Specifically this should be a class instance such as\n",
    "            DecisionTreeClassifier().\n",
    "        tree_depth_range: the range of values over which the tree depths should be saved.\n",
    "        \n",
    "    \"\"\"\n",
    "    # write an assert statement that enforces that the model entered is a BaggingClassifier\n",
    "    assert ...\n",
    "\n",
    "    # declare dictionaries\n",
    "    mean_CV_acc = {}\n",
    "    all_CV_acc = {}\n",
    "    \n",
    "    # find and store cross_validated scores\n",
    "    for n_estimators in list(bootstrap_range):\n",
    "        \n",
    "        # modify the bagging ensemble models n_estimators (the number of trees it will fit)\n",
    "        model.n_estimators = ...\n",
    "\n",
    "        score = cross_val_score(estimator= ..., \n",
    "                                X = ..., \n",
    "                                y = ..., \n",
    "                                n_jobs = -1,\n",
    "                                cv= ...)\n",
    "        mean_CV_acc[n_estimators] = score.mean() \n",
    "    \n",
    "    # make a dataframe from the dictionary:\n",
    "    cv_acc_pd = pd.melt(pd.DataFrame(all_CV_acc))\n",
    "    cv_acc_pd.columns = [\"n_estimators\", \"cv_acc_score\"]\n",
    "    return cv_acc_pd"
   ]
  },
  {
   "cell_type": "code",
   "execution_count": null,
   "id": "d3c084d6",
   "metadata": {},
   "outputs": [],
   "source": [
    "# you can adjust the ensemble depth. Try to play with different depths!\n",
    "DEPTH = 10"
   ]
  },
  {
   "cell_type": "code",
   "execution_count": null,
   "id": "aa3f0644",
   "metadata": {},
   "outputs": [],
   "source": [
    "# your code here: call the repaired get_bagging_scores function.\n",
    "bagging_val_acc = get_bagging_df(x_train, \n",
    "                                 y_train, \n",
    "                                 model = ..., \n",
    "                                 bootstrap_range = ...,\n",
    "                                 cv_samples = ...\n",
    "                                 )\n",
    "\n",
    "bagging_mean_acc  = ..."
   ]
  },
  {
   "cell_type": "markdown",
   "id": "8371f74f",
   "metadata": {},
   "source": [
    "Run this code when you are finished with the first exercise to compare bagging and the simple decision tree. Final Questions lie below"
   ]
  },
  {
   "cell_type": "code",
   "execution_count": null,
   "id": "3c96e0de",
   "metadata": {},
   "outputs": [],
   "source": [
    "### add a decision tree classifier for comparison.\n",
    "tree_val_acc = get_tree_scores(x_train, \n",
    "                           y_train, \n",
    "                           DecisionTreeClassifier(), \n",
    "                           tree_depth_range = range(1, 10))\n",
    "\n",
    "tree_val_acc = pd.melt(pd.DataFrame(tree_val_acc), var_name = \"depth\", value_name = 'cv_acc_score')\n",
    "\n",
    "tree_mean_acc  = tree_val_acc.groupby(\"depth\").mean()\n",
    "best_tree_depth  = tree_mean_acc.index[tree_mean_acc.idxmax()][0]\n",
    "\n",
    "### Make the plot\n",
    "plt.figure(figsize=(12, 3))\n",
    "plt.title('Variation of Accuracy on Validation set with n_estimators - Bagging Classifier')\n",
    "sns.lineplot(x = \"n_estimators\", y = \"cv_acc_score\", data = bagging_val_acc,  \n",
    "             label = \"Ensemble\");\n",
    "plt.axhline(tree_val_acc[\"cv_acc_score\"].mean(), linestyle = '--', color = \"red\", label = \"simple decision tree\");\n",
    "\n",
    "plt.xlabel(\"n_estimators\")\n",
    "plt.ylabel(\"validation set accuracy score\")\n",
    "\n",
    "max_idx = tree_mean_acc[\"cv_acc_score\"].idxmax()\n",
    "\n",
    "best_tree_model = DecisionTreeClassifier(max_depth=best_depth)\n",
    "best_tree_model.fit(x_train, y_train)\n",
    "tree_test_accuracy = best_tree_model.score(x_test, y_test.reshape(-1,))\n",
    "\n",
    "max_idx = bagging_mean_acc[\"cv_acc_score\"].idxmax()\n",
    "best_n_estimators = bagging_mean_acc.index[max_idx]\n",
    "\n",
    "best_ensemble_model = BaggingClassifier(n_estimators=best_n_estimators, random_state = 42)\n",
    "best_ensemble_model.fit(x_train, y_train.reshape(-1,))\n",
    "ensemble_accuracy = best_ensemble_model.score(x_test, y_test.reshape(-1,))\n",
    "\n",
    "print(\"Decision Tree max depth {:}\".format(best_depth))\n",
    "plt.legend()\n",
    "\n",
    "print(\"Best Decision Tree test set accuracy:  {:0.2f}%\".format(tree_test_accuracy*100))\n",
    "print(\"Best Ensemble test set accuracy:  {:0.2f}%\".format(ensemble_accuracy*100))"
   ]
  },
  {
   "cell_type": "markdown",
   "id": "3c5d282c",
   "metadata": {},
   "source": [
    "- Why doesn't the bagging accuracy score deteriorate in the same way that the decision tree does for deeper trees?\n",
    "- Does bagging reduce the variance or the bias of our error? How?\n",
    "- Bonus question: How do random forests differ from Bagging?"
   ]
  },
  {
   "cell_type": "markdown",
   "id": "08cb1f0d",
   "metadata": {},
   "source": [
    "#### Weaknesses of Bagging\n",
    "\n",
    "Bagging is a greedy algorithm. What does this mean?\n",
    "    We always choose the feature with the most impact: i.e. the most information gain.\n",
    "    \n",
    "In what scenarios is this likely to be a problem?\n",
    "\n",
    "    \n",
    "<img src=\"fig/dep_predictors.png\" alt=\"split2\" width=\"40%\"/>\n",
    "\n",
    "Imagine that this is the true underlying data generative process. Here predictors $x_2$ and $x_3$ influence $x_1$.\n",
    "\n",
    "- Which predictor do you think bagging is likely to select as the root node?\n",
    "- Why is this likely to be an issue?\n",
    "- Because of their greedy nature, bagging ensembles are very likely to be correlated, especially in the shallower nodes of the individual decision trees.\n",
    "\n",
    "\n",
    "**Why are decision trees greedy?**\n",
    "- Decision trees are NP-complete, there is no way to find the global minima, i.e. the best tree, unless we use brute force and try all possible combinations. In practice this is infeasible.\n",
    "- Thus decision trees are **hueristic algorithms**. Hueristic algorithms are designed to solve problems in a faster more efficient method by sacrificing optimality, accuracy or precision in favor of speed. Hueristic algorithms are often used to solve NP-complete problems."
   ]
  },
  {
   "cell_type": "markdown",
   "id": "60a89e20",
   "metadata": {},
   "source": [
    "### Random Forest\n",
    "\n",
    "Random forests provide an improvement over bagged trees by way of a small tweak that decorrelates the trees. As in bagging, we build a number of decision trees on bootstrapped training samples. But when building these decision trees, each time a split in a tree is considered, a random sample of $m$ predictors is chosen as split candidates from the full set of $p$ predictors. The split is allowed to use only one of those $m$ predictors. A fresh sample of $m$ predictors is taken at each split, and typically we choose $m \\approx \\sqrt{p}$. In other words, in building a random forest, at each split in the tree, the algorithm is not even allowed to consider a majority of the available predictors. This may sound crazy, but it has a clever rationale. Suppose that there is one very strong predictor in the data set, along with a number of other moderately strong predictors. Then in the collection of bagged trees, most or all of the trees will use this strong predictor in the top split. Consequently, all of the **bagged trees will look quite similar to each other. Hence the predictions from the bagged trees will be highly correlated.** Unfortunately, averaging many highly correlated quantities does not lead to as large of a reduction in variance as averaging many uncorrelated quantities. In particular, this means that bagging will not lead to a substantial reduction in variance over a single tree in this setting. Random forests overcome this problem by forcing each split to consider only a subset of the predictors."
   ]
  },
  {
   "cell_type": "markdown",
   "id": "f469537b",
   "metadata": {},
   "source": [
    "scikit-learn offers classes to build Random Forest models for both classification and regression (see `RandomForestClassifier` and `RandomForestRegressor` classes). The more important parameters are the number of trees (`n_estimators`) and the maximum number of features $m$ each tree is allowed to use (`max_features`). See the [parameter tuning guidelines](https://scikit-learn.org/stable/modules/ensemble.html#parameters) for more details."
   ]
  },
  {
   "cell_type": "code",
   "execution_count": 2,
   "id": "006a492b",
   "metadata": {},
   "outputs": [
    {
     "data": {
      "text/plain": [
       "RandomForestClassifier(max_features='sqrt')"
      ]
     },
     "execution_count": 2,
     "metadata": {},
     "output_type": "execute_result"
    }
   ],
   "source": [
    "from sklearn.ensemble import RandomForestClassifier\n",
    "from sklearn.datasets import load_iris\n",
    "\n",
    "X, y = load_iris(return_X_y=True)\n",
    "\n",
    "clf = RandomForestClassifier(n_estimators=100, max_features='sqrt')\n",
    "clf.fit(X, y)"
   ]
  },
  {
   "cell_type": "markdown",
   "id": "896d961f",
   "metadata": {},
   "source": [
    "## Random forest with the Spam dataset"
   ]
  },
  {
   "cell_type": "markdown",
   "id": "7ab17571",
   "metadata": {},
   "source": [
    "Now, we will fit a Random Forest model setting ```n_estimators = predictor_count/2``` and ```max_depth = best_depth```."
   ]
  },
  {
   "cell_type": "code",
   "execution_count": null,
   "id": "706cbf69",
   "metadata": {},
   "outputs": [
    {
     "name": "stdout",
     "output_type": "stream",
     "text": [
      "Random Forest: Accuracy, Training Set : 94.79%\n",
      "Random Forest: Accuracy, Testing Set :  93.43%\n"
     ]
    }
   ],
   "source": [
    "# Fit a Random Forest Model\n",
    "best_depth = 7\n",
    "# Training\n",
    "model = RandomForestClassifier(n_estimators=int(x_train.shape[1]/2), max_depth=best_depth)\n",
    "model.fit(x_train, y_train)\n",
    "\n",
    "# Predict\n",
    "y_pred_train = model.predict(x_train)\n",
    "y_pred_test = model.predict(x_test)\n",
    "\n",
    "# Performance Evaluation\n",
    "acc_random_forest_training = accuracy_score(y_train, y_pred_train)*100\n",
    "acc_random_forest_testing = accuracy_score(y_test, y_pred_test)*100\n",
    "\n",
    "print(\"Random Forest: Accuracy, Training Set : {:0.2f}%\".format(acc_random_forest_training))\n",
    "print(\"Random Forest: Accuracy, Testing Set :  {:0.2f}%\".format(acc_random_forest_testing))"
   ]
  },
  {
   "cell_type": "markdown",
   "id": "e5f91432",
   "metadata": {},
   "source": [
    "Let's compare the performance of our 3 models:"
   ]
  },
  {
   "cell_type": "code",
   "execution_count": null,
   "id": "45713ea9",
   "metadata": {},
   "outputs": [
    {
     "name": "stdout",
     "output_type": "stream",
     "text": [
      "Decision Trees:\tAccuracy, Training Set \t: 94.39%\n",
      "Decision Trees:\tAccuracy, Testing Set \t: 90.81%\n",
      "\n",
      "Bagging: \tAccuracy, Training Set \t: 97.70%\n",
      "Bagging: \tAccuracy, Testing Set \t: 93.35%\n",
      "\n",
      "Random Forest: \tAccuracy, Training Set \t: 94.79%\n",
      "Random Forest: \tAccuracy, Testing Set \t: 93.43%\n"
     ]
    }
   ],
   "source": [
    "print(\"Decision Trees:\\tAccuracy, Training Set \\t: {:.2%}\".format(acc_trees_training))\n",
    "print(\"Decision Trees:\\tAccuracy, Testing Set \\t: {:.2%}\".format(acc_trees_testing))\n",
    "\n",
    "print(\"\\nBagging: \\tAccuracy, Training Set \\t: {:0.2f}%\".format(acc_bagging_training))\n",
    "print(\"Bagging: \\tAccuracy, Testing Set \\t: {:0.2f}%\".format(acc_bagging_testing))\n",
    "\n",
    "print(\"\\nRandom Forest: \\tAccuracy, Training Set \\t: {:0.2f}%\".format(acc_random_forest_training))\n",
    "print(\"Random Forest: \\tAccuracy, Testing Set \\t: {:0.2f}%\".format(acc_random_forest_testing))"
   ]
  },
  {
   "cell_type": "markdown",
   "id": "594648b7",
   "metadata": {},
   "source": [
    "**As we see above, the performance of both Bagging and Random Forest are similar, so what is the difference? Do both overfit the data just as much?**\n",
    "\n",
    "Hint:\n",
    "\n",
    "- What is the only extra parameter we declared when defining a Random Forest Model vs Bagging? Does it have an impact on overfitting?"
   ]
  },
  {
   "cell_type": "code",
   "execution_count": null,
   "id": "5722e024",
   "metadata": {},
   "outputs": [
    {
     "name": "stdout",
     "output_type": "stream",
     "text": [
      "Random Forest: Accuracy, Training Set (Deeper): 99.82%\n",
      "Random Forest: Accuracy, Testing Set (Deeper):  94.47%\n"
     ]
    }
   ],
   "source": [
    "# Fit a Random Forest Model\n",
    "\n",
    "new_depth = best_depth + 20\n",
    "\n",
    "# Training\n",
    "model = RandomForestClassifier(n_estimators=int(x_train.shape[1]/2), max_depth=new_depth)\n",
    "model.fit(x_train, y_train)\n",
    "\n",
    "# Predict\n",
    "y_pred_train = model.predict(x_train)\n",
    "y_pred_test = model.predict(x_test)\n",
    "\n",
    "# Perfromance Evaluation\n",
    "acc_random_forest_deeper_training = accuracy_score(y_train, y_pred_train)*100\n",
    "acc_random_forest_deeper_testing = accuracy_score(y_test, y_pred_test)*100\n",
    "\n",
    "print(\"Random Forest: Accuracy, Training Set (Deeper): {:0.2f}%\".format(acc_random_forest_deeper_training))\n",
    "print(\"Random Forest: Accuracy, Testing Set (Deeper):  {:0.2f}%\".format(acc_random_forest_deeper_testing))"
   ]
  },
  {
   "cell_type": "markdown",
   "id": "785321b6",
   "metadata": {},
   "source": [
    "Training accuracies:"
   ]
  },
  {
   "cell_type": "code",
   "execution_count": null,
   "id": "95022f36",
   "metadata": {},
   "outputs": [
    {
     "name": "stdout",
     "output_type": "stream",
     "text": [
      "Training Accuracies:\n",
      "Decision Trees:\tAccuracy, Training Set \t: 94.39%\n",
      "Bagging: \tAccuracy, Training Set \t: 97.70%\n",
      "Random Forest: \tAccuracy, Training Set \t: 94.79%\n",
      "RF Deeper: \tAccuracy, Training Set \t: 99.82%\n"
     ]
    }
   ],
   "source": [
    "print(\"Training Accuracies:\")\n",
    "print(\"Decision Trees:\\tAccuracy, Training Set \\t: {:.2%}\".format(acc_trees_training))\n",
    "print(\"Bagging: \\tAccuracy, Training Set \\t: {:0.2f}%\".format(acc_bagging_training))\n",
    "print(\"Random Forest: \\tAccuracy, Training Set \\t: {:0.2f}%\".format(acc_random_forest_training))\n",
    "print(\"RF Deeper: \\tAccuracy, Training Set \\t: {:0.2f}%\".format(acc_random_forest_deeper_training))"
   ]
  },
  {
   "cell_type": "markdown",
   "id": "4952d89b",
   "metadata": {},
   "source": [
    "Testing accuracies:"
   ]
  },
  {
   "cell_type": "code",
   "execution_count": null,
   "id": "bb53d2e3",
   "metadata": {},
   "outputs": [
    {
     "name": "stdout",
     "output_type": "stream",
     "text": [
      "Testing Accuracies:\n",
      "Decision Trees:\tAccuracy, Testing Set \t: 90.81%\n",
      "Bagging: \tAccuracy, Testing Set \t: 93.35%\n",
      "Random Forest: \tAccuracy, Testing Set \t: 93.43%\n",
      "RF Deeper:  \tAccuracy, Testing Set \t: 94.47%\n"
     ]
    }
   ],
   "source": [
    "print(\"Testing Accuracies:\")\n",
    "print(\"Decision Trees:\\tAccuracy, Testing Set \\t: {:.2%}\".format(acc_trees_testing))\n",
    "print(\"Bagging: \\tAccuracy, Testing Set \\t: {:0.2f}%\".format( acc_bagging_testing))\n",
    "print(\"Random Forest: \\tAccuracy, Testing Set \\t: {:0.2f}%\".format(acc_random_forest_testing))\n",
    "print(\"RF Deeper:  \\tAccuracy, Testing Set \\t: {:0.2f}%\".format(acc_random_forest_deeper_testing))"
   ]
  },
  {
   "cell_type": "markdown",
   "id": "8ec5c180",
   "metadata": {},
   "source": [
    "**Is the Random Forest ensemble interpretable? How many nodes are in a single decision tree?**\n",
    "\n",
    "The `.estimators_` attribute of a RandomForestClassifier class instance is a list of the individual DecisionTreeClassifier class instance estimators that make up the ensemble model. Calling `.tree_` on the DecisionTreeClassifier will give you the individual tree estimator. You learn more details on the scikit-learn tree structure by reading the [documentation](https://scikit-learn.org/stable/auto_examples/tree/plot_unveil_tree_structure.html)."
   ]
  },
  {
   "cell_type": "code",
   "execution_count": null,
   "id": "ee56eddf",
   "metadata": {},
   "outputs": [],
   "source": [
    "# vars(model)"
   ]
  },
  {
   "cell_type": "code",
   "execution_count": null,
   "id": "5d8577a8",
   "metadata": {},
   "outputs": [
    {
     "name": "stdout",
     "output_type": "stream",
     "text": [
      "521\n"
     ]
    }
   ],
   "source": [
    "print(model.estimators_[0].tree_.node_count)"
   ]
  },
  {
   "cell_type": "markdown",
   "id": "e530c1fc",
   "metadata": {},
   "source": [
    "## Exercise 3\n",
    "\n",
    "Let's try to improve our accuracy scores on the cancer dataset."
   ]
  },
  {
   "cell_type": "code",
   "execution_count": null,
   "id": "160bcc57",
   "metadata": {},
   "outputs": [
    {
     "name": "stdout",
     "output_type": "stream",
     "text": [
      "Design matrix shape (569, 10)\n"
     ]
    },
    {
     "data": {
      "text/html": [
       "<div>\n",
       "<style scoped>\n",
       "    .dataframe tbody tr th:only-of-type {\n",
       "        vertical-align: middle;\n",
       "    }\n",
       "\n",
       "    .dataframe tbody tr th {\n",
       "        vertical-align: top;\n",
       "    }\n",
       "\n",
       "    .dataframe thead th {\n",
       "        text-align: right;\n",
       "    }\n",
       "</style>\n",
       "<table border=\"1\" class=\"dataframe\">\n",
       "  <thead>\n",
       "    <tr style=\"text-align: right;\">\n",
       "      <th></th>\n",
       "      <th>texture error</th>\n",
       "      <th>worst texture</th>\n",
       "      <th>worst symmetry</th>\n",
       "      <th>compactness error</th>\n",
       "      <th>worst radius</th>\n",
       "      <th>worst compactness</th>\n",
       "      <th>concave points error</th>\n",
       "      <th>worst fractal dimension</th>\n",
       "      <th>fractal dimension error</th>\n",
       "      <th>mean radius</th>\n",
       "    </tr>\n",
       "  </thead>\n",
       "  <tbody>\n",
       "    <tr>\n",
       "      <th>0</th>\n",
       "      <td>-0.565265</td>\n",
       "      <td>-1.359293</td>\n",
       "      <td>2.750622</td>\n",
       "      <td>1.316862</td>\n",
       "      <td>1.886690</td>\n",
       "      <td>2.616665</td>\n",
       "      <td>0.660820</td>\n",
       "      <td>1.937015</td>\n",
       "      <td>0.907083</td>\n",
       "      <td>1.097064</td>\n",
       "    </tr>\n",
       "    <tr>\n",
       "      <th>1</th>\n",
       "      <td>-0.876244</td>\n",
       "      <td>-0.369203</td>\n",
       "      <td>-0.243890</td>\n",
       "      <td>-0.692926</td>\n",
       "      <td>1.805927</td>\n",
       "      <td>-0.430444</td>\n",
       "      <td>0.260162</td>\n",
       "      <td>0.281190</td>\n",
       "      <td>-0.099444</td>\n",
       "      <td>1.829821</td>\n",
       "    </tr>\n",
       "    <tr>\n",
       "      <th>2</th>\n",
       "      <td>-0.780083</td>\n",
       "      <td>-0.023974</td>\n",
       "      <td>1.152255</td>\n",
       "      <td>0.814974</td>\n",
       "      <td>1.511870</td>\n",
       "      <td>1.082932</td>\n",
       "      <td>1.424827</td>\n",
       "      <td>0.201391</td>\n",
       "      <td>0.293559</td>\n",
       "      <td>1.579888</td>\n",
       "    </tr>\n",
       "    <tr>\n",
       "      <th>3</th>\n",
       "      <td>-0.110409</td>\n",
       "      <td>0.133984</td>\n",
       "      <td>6.046041</td>\n",
       "      <td>2.744280</td>\n",
       "      <td>-0.281464</td>\n",
       "      <td>3.893397</td>\n",
       "      <td>1.115007</td>\n",
       "      <td>4.935010</td>\n",
       "      <td>2.047511</td>\n",
       "      <td>-0.768909</td>\n",
       "    </tr>\n",
       "  </tbody>\n",
       "</table>\n",
       "</div>"
      ],
      "text/plain": [
       "   texture error  worst texture  worst symmetry  compactness error  worst radius  worst compactness  concave points error  worst fractal dimension  fractal dimension error  mean radius\n",
       "0      -0.565265      -1.359293        2.750622           1.316862      1.886690           2.616665              0.660820                 1.937015                 0.907083     1.097064\n",
       "1      -0.876244      -0.369203       -0.243890          -0.692926      1.805927          -0.430444              0.260162                 0.281190                -0.099444     1.829821\n",
       "2      -0.780083      -0.023974        1.152255           0.814974      1.511870           1.082932              1.424827                 0.201391                 0.293559     1.579888\n",
       "3      -0.110409       0.133984        6.046041           2.744280     -0.281464           3.893397              1.115007                 4.935010                 2.047511    -0.768909"
      ]
     },
     "metadata": {},
     "output_type": "display_data"
    },
    {
     "name": "stdout",
     "output_type": "stream",
     "text": [
      "target classes    {1: 'Benign', 0: 'Malignant'}\n",
      "There are 357 Benign cases and 212 Malignant cases in the target\n"
     ]
    }
   ],
   "source": [
    "from functions import tree_pd\n",
    "\n",
    "get_tree_scores = tree_pd.get_tree_scores\n",
    "cancer_scaled, target = tree_pd.load_cancer_dataset(10, 4)"
   ]
  },
  {
   "cell_type": "code",
   "execution_count": null,
   "id": "f8d1e034",
   "metadata": {},
   "outputs": [
    {
     "name": "stdout",
     "output_type": "stream",
     "text": [
      "Shape of Training Set : (448, 10)\n",
      "Shape of Testing Set : (121, 10)\n"
     ]
    }
   ],
   "source": [
    "# Train-Test split\n",
    "np.random.seed(40)\n",
    "\n",
    "# test_proportion\n",
    "test_prop = 0.2\n",
    "msk = np.random.uniform(0, 1, len(cancer_scaled)) > test_prop\n",
    "\n",
    "# Split predictor and response columns\n",
    "ex1_x_train, ex1_y_train =  cancer_scaled[msk], target[msk]\n",
    "ex1_x_test , ex1_y_test  = cancer_scaled[~msk], target[~msk]\n",
    "\n",
    "print(\"Shape of Training Set :\", ex1_x_train.shape)\n",
    "print(\"Shape of Testing Set :\" , ex1_x_test.shape)"
   ]
  },
  {
   "cell_type": "markdown",
   "id": "4fa7bb75",
   "metadata": {},
   "source": [
    "\n",
    "1) Use the `get_tree_scores` function to assign a dataframe `rf_val_acc` using a class instance of `RandomForestClassifier`. As a reminder, this function takes four arguments (x_train, y_train, model, tree_depth_range). This time don't feed a random state.\n",
    "\n",
    "2) Use pandas groupby function to to get the mean cross-validation accuracy for specific depths. Assign to a new dataframe `rf_mean_acc`.\n",
    "\n",
    "3) Visualize the mean cross validation accuracy scores by running the cell provided. Answer the subsequent questions.\n",
    "\n",
    "4) Plot the feature importance of the best random forest model."
   ]
  },
  {
   "cell_type": "code",
   "execution_count": null,
   "id": "f11c82d6",
   "metadata": {},
   "outputs": [
    {
     "data": {
      "text/html": [
       "<div>\n",
       "<style scoped>\n",
       "    .dataframe tbody tr th:only-of-type {\n",
       "        vertical-align: middle;\n",
       "    }\n",
       "\n",
       "    .dataframe tbody tr th {\n",
       "        vertical-align: top;\n",
       "    }\n",
       "\n",
       "    .dataframe thead th {\n",
       "        text-align: right;\n",
       "    }\n",
       "</style>\n",
       "<table border=\"1\" class=\"dataframe\">\n",
       "  <thead>\n",
       "    <tr style=\"text-align: right;\">\n",
       "      <th></th>\n",
       "      <th>cv_acc_score</th>\n",
       "      <th>depth</th>\n",
       "    </tr>\n",
       "    <tr>\n",
       "      <th>depth</th>\n",
       "      <th></th>\n",
       "      <th></th>\n",
       "    </tr>\n",
       "  </thead>\n",
       "  <tbody>\n",
       "    <tr>\n",
       "      <th>1</th>\n",
       "      <td>0.913030</td>\n",
       "      <td>1</td>\n",
       "    </tr>\n",
       "    <tr>\n",
       "      <th>3</th>\n",
       "      <td>0.948788</td>\n",
       "      <td>3</td>\n",
       "    </tr>\n",
       "    <tr>\n",
       "      <th>5</th>\n",
       "      <td>0.951010</td>\n",
       "      <td>5</td>\n",
       "    </tr>\n",
       "    <tr>\n",
       "      <th>7</th>\n",
       "      <td>0.953232</td>\n",
       "      <td>7</td>\n",
       "    </tr>\n",
       "    <tr>\n",
       "      <th>9</th>\n",
       "      <td>0.953131</td>\n",
       "      <td>9</td>\n",
       "    </tr>\n",
       "    <tr>\n",
       "      <th>11</th>\n",
       "      <td>0.955455</td>\n",
       "      <td>11</td>\n",
       "    </tr>\n",
       "    <tr>\n",
       "      <th>13</th>\n",
       "      <td>0.951010</td>\n",
       "      <td>13</td>\n",
       "    </tr>\n",
       "    <tr>\n",
       "      <th>15</th>\n",
       "      <td>0.953232</td>\n",
       "      <td>15</td>\n",
       "    </tr>\n",
       "    <tr>\n",
       "      <th>17</th>\n",
       "      <td>0.948788</td>\n",
       "      <td>17</td>\n",
       "    </tr>\n",
       "    <tr>\n",
       "      <th>19</th>\n",
       "      <td>0.948737</td>\n",
       "      <td>19</td>\n",
       "    </tr>\n",
       "    <tr>\n",
       "      <th>21</th>\n",
       "      <td>0.950960</td>\n",
       "      <td>21</td>\n",
       "    </tr>\n",
       "    <tr>\n",
       "      <th>23</th>\n",
       "      <td>0.959899</td>\n",
       "      <td>23</td>\n",
       "    </tr>\n",
       "    <tr>\n",
       "      <th>25</th>\n",
       "      <td>0.953182</td>\n",
       "      <td>25</td>\n",
       "    </tr>\n",
       "    <tr>\n",
       "      <th>27</th>\n",
       "      <td>0.953232</td>\n",
       "      <td>27</td>\n",
       "    </tr>\n",
       "    <tr>\n",
       "      <th>29</th>\n",
       "      <td>0.946566</td>\n",
       "      <td>29</td>\n",
       "    </tr>\n",
       "    <tr>\n",
       "      <th>31</th>\n",
       "      <td>0.955455</td>\n",
       "      <td>31</td>\n",
       "    </tr>\n",
       "    <tr>\n",
       "      <th>33</th>\n",
       "      <td>0.951010</td>\n",
       "      <td>33</td>\n",
       "    </tr>\n",
       "    <tr>\n",
       "      <th>35</th>\n",
       "      <td>0.955455</td>\n",
       "      <td>35</td>\n",
       "    </tr>\n",
       "    <tr>\n",
       "      <th>37</th>\n",
       "      <td>0.948788</td>\n",
       "      <td>37</td>\n",
       "    </tr>\n",
       "    <tr>\n",
       "      <th>39</th>\n",
       "      <td>0.946566</td>\n",
       "      <td>39</td>\n",
       "    </tr>\n",
       "  </tbody>\n",
       "</table>\n",
       "</div>"
      ],
      "text/plain": [
       "       cv_acc_score  depth\n",
       "depth                     \n",
       "1          0.913030      1\n",
       "3          0.948788      3\n",
       "5          0.951010      5\n",
       "7          0.953232      7\n",
       "9          0.953131      9\n",
       "11         0.955455     11\n",
       "13         0.951010     13\n",
       "15         0.953232     15\n",
       "17         0.948788     17\n",
       "19         0.948737     19\n",
       "21         0.950960     21\n",
       "23         0.959899     23\n",
       "25         0.953182     25\n",
       "27         0.953232     27\n",
       "29         0.946566     29\n",
       "31         0.955455     31\n",
       "33         0.951010     33\n",
       "35         0.955455     35\n",
       "37         0.948788     37\n",
       "39         0.946566     39"
      ]
     },
     "metadata": {},
     "output_type": "display_data"
    }
   ],
   "source": [
    "# Your code here\n",
    "\n"
   ]
  },
  {
   "cell_type": "markdown",
   "id": "a52b3812",
   "metadata": {},
   "source": [
    "Run this code when you are finished with the first exercise to compare random forests and simple decision trees. More questions and one final task lie below."
   ]
  },
  {
   "cell_type": "code",
   "execution_count": null,
   "id": "c514f7d3",
   "metadata": {},
   "outputs": [
    {
     "name": "stdout",
     "output_type": "stream",
     "text": [
      "Decision Tree best depth 7\n",
      "Random Forest best depth 23\n",
      "Best Decision Tree test set accuracy:  91.74%\n",
      "Best Random Forest test set accuracy:  95.04%\n"
     ]
    },
    {
     "data": {
      "image/png": "[encoded data removed]",
      "text/plain": [
       "<Figure size 864x216 with 1 Axes>"
      ]
     },
     "metadata": {},
     "output_type": "display_data"
    }
   ],
   "source": [
    "### add a decision tree classifier for comparison.\n",
    "tree_val_acc = get_tree_scores(ex1_x_train, \n",
    "                               ex1_y_train, \n",
    "                               DecisionTreeClassifier(), \n",
    "                               tree_depth_range)\n",
    "\n",
    "tree_mean_acc  = tree_val_acc.groupby(\"depth\").mean()\n",
    "tree_mean_acc[\"depth\"] = list(tree_depth_range)\n",
    "\n",
    "### Make the plot\n",
    "plt.figure(figsize=(12, 3))\n",
    "plt.title('Variation of Accuracy on Validation set with Depth - Simple Decision Tree')\n",
    "sns.lineplot(x = \"depth\", y = \"cv_acc_score\", data = rf_val_acc,  \n",
    "             label = \"random forest\");\n",
    "sns.lineplot(x = \"depth\", y = \"cv_acc_score\", data = tree_val_acc, \n",
    "             label = \"simple decision tree\");\n",
    "plt.xlabel(\"max_depth\")\n",
    "plt.ylabel(\"validation set accuracy score\")\n",
    "\n",
    "max_idx = tree_mean_acc[\"cv_acc_score\"].idxmax()\n",
    "best_depth_tree = tree_mean_acc[\"depth\"][max_idx]\n",
    "\n",
    "best_tree_model = DecisionTreeClassifier(max_depth=best_depth)\n",
    "best_tree_model.fit(ex1_x_train, ex1_y_train)\n",
    "tree_test_accuracy = best_tree_model.score(ex1_x_test, ex1_y_test.reshape(-1,))\n",
    "\n",
    "max_idx = rf_mean_acc[\"cv_acc_score\"].idxmax()\n",
    "best_depth_rf = rf_mean_acc[\"depth\"][max_idx]\n",
    "\n",
    "best_rf_model = RandomForestClassifier(max_depth=best_depth_rf, random_state = 42)\n",
    "best_rf_model.fit(ex1_x_train, ex1_y_train.reshape(-1,))\n",
    "tree_rf_accuracy = best_rf_model.score(ex1_x_test, ex1_y_test.reshape(-1,))\n",
    "\n",
    "print(\"Decision Tree best depth {:}\".format(best_depth))\n",
    "print(\"Random Forest best depth {:}\".format(best_depth_rf))\n",
    "\n",
    "print(\"Best Decision Tree test set accuracy:  {:0.2f}%\".format(tree_test_accuracy*100))\n",
    "print(\"Best Random Forest test set accuracy:  {:0.2f}%\".format(tree_rf_accuracy*100))"
   ]
  },
  {
   "cell_type": "markdown",
   "id": "86c97a0b",
   "metadata": {},
   "source": [
    "- Why doesn't the random forest accuracy score deteriorate in the same way that the decision tree does for deeper trees?\n",
    "- What are the two kinds of stochasticity that lead to the robustness of random forests?\n",
    "- How do random forests differ from Bagging?"
   ]
  },
  {
   "cell_type": "markdown",
   "id": "ce8f1f82",
   "metadata": {},
   "source": [
    "#### Feature Importance\n",
    "**Let's plot the feature importance of the best random forest model:**\n",
    "Random Forest gives the above values as ```feature_importance``` where it normalizes the impact of a predictor to the number of times it is useful and thus gives overvall significance for free. Explore the attributes of the Random Forest model object for the best nodes.\n",
    "\n",
    "Feature importance is calculated as the decrease in node impurity **weighted by the probability of reaching that node. The node probability can be calculated by the number of samples that reach the node**, divided by the total number of samples. The higher the value the more important the feature.\n",
    "\n",
    "source: https://towardsdatascience.com/the-mathematics-of-decision-trees-random-forest-and-feature-importance-in-scikit-learn-and-spark-f2861df67e3#:~:text=Feature%20importance%20is%20calculated%20as,the%20more%20important%20the%20feature."
   ]
  },
  {
   "cell_type": "markdown",
   "id": "bc2344cf",
   "metadata": {},
   "source": [
    "1) Extract the `.feature_importances_` attribute from your `best_rf_model`. Assign this to a variable called `feature_importance`.\n",
    "\n",
    "2) Rescale the feature importances such that the most important feature is has an importance of 100.\n",
    "\n",
    "3) Use `np.argsort` to return the indices of the sorted features.\n",
    "\n",
    "4) Finally pass the sorted index to `plt.barh` and plot the feature importances!"
   ]
  },
  {
   "cell_type": "code",
   "execution_count": null,
   "id": "dbfe4bfa",
   "metadata": {},
   "outputs": [],
   "source": [
    "feature_importance = ...\n",
    "feature_importance = ...\n",
    "sorted_idx = ...\n",
    "\n",
    "\n",
    "pos = np.arange(sorted_idx.shape[0]) + .5\n",
    "plt.figure(figsize=(10,12))\n",
    "plt.barh(pos, ..., align='center')\n",
    "plt.yticks(pos, ex1_x_train.columns[sorted_idx])\n",
    "plt.xlabel('Relative Importance')\n",
    "plt.title('Variable Importance')\n",
    "plt.show()"
   ]
  },
  {
   "cell_type": "markdown",
   "id": "3d2c68e8",
   "metadata": {},
   "source": [
    "#### Inspect the tree object\n",
    "\n",
    "For more resources on Python classes and objects (we're relying on them all the time via sklearn!) see <a href = \"https://docs.python.org/3/tutorial/classes.html#a-first-look-at-classes\">this link.</a>"
   ]
  },
  {
   "cell_type": "code",
   "execution_count": null,
   "id": "41c66431",
   "metadata": {},
   "outputs": [],
   "source": [
    "from functions import tree_pd\n",
    "import numpy as np\n",
    "\n",
    "import numpy as np\n",
    "import pandas as pd\n",
    "import matplotlib\n",
    "import matplotlib.pyplot as plt\n",
    "import seaborn as sns\n",
    "import sklearn.metrics as metrics\n",
    "from sklearn.model_selection import cross_val_score\n",
    "from sklearn.metrics import accuracy_score\n",
    "from sklearn import tree\n",
    "from sklearn.tree import DecisionTreeClassifier\n",
    "from sklearn.ensemble import RandomForestClassifier\n",
    "from sklearn.ensemble import AdaBoostClassifier\n",
    "from sklearn.linear_model import LogisticRegressionCV\n",
    "from sklearn.model_selection import KFold\n",
    "from sklearn.metrics import confusion_matrix\n",
    "from sklearn import datasets\n",
    "from sklearn.ensemble import BaggingRegressor\n",
    "\n",
    "%matplotlib inline\n",
    "\n",
    "pd.set_option('display.width', 1500)\n",
    "pd.set_option('display.max_columns', 100)\n",
    "\n",
    "from sklearn.model_selection import learning_curve\n",
    "\n",
    "get_tree_pd = tree_pd.get_tree_scores\n",
    "cancer_scaled, target = tree_pd.load_cancer_dataset(10, 4)\n",
    "\n",
    "#### Train-Test split\n",
    "np.random.seed(40)\n",
    "\n",
    "# test_proportion\n",
    "test_prop = 0.2\n",
    "msk = np.random.uniform(0, 1, len(cancer_scaled)) > test_prop\n",
    "\n",
    "# Split predictor and response columns\n",
    "X_train, y_train =  cancer_scaled[msk], target[msk]\n",
    "X_test , y_test  = cancer_scaled[~msk], target[~msk]\n",
    "\n",
    "print(\"Shape of Training Set :\", X_train.shape)\n",
    "print(\"Shape of Testing Set :\" , X_test.shape)\n",
    "\n",
    "#### Train a bagging and random forest model\n",
    "\n",
    "depth = 13\n",
    "n_estimators = 100\n",
    "best_rf_model = RandomForestClassifier(max_depth=depth, random_state=42, n_estimators=n_estimators)\n",
    "best_rf_model.fit(X_train, y_train.reshape(-1,))\n",
    "tree_rf_accuracy = best_rf_model.score(X_test, y_test.reshape(-1,))\n",
    "\n",
    "\n",
    "bagging_model = BaggingRegressor(DecisionTreeClassifier(max_depth=depth), \n",
    "                                 n_estimators = 100,\n",
    "                                 random_state = 42).fit(X_train, y_train.reshape(-1,))"
   ]
  },
  {
   "cell_type": "markdown",
   "id": "5bdc1b91",
   "metadata": {},
   "source": [
    "Run the cells below and look at the output to inspect the tree object structure. Then complete the following tasks:\n",
    "1. Complete the function by extracting the impurity and feature attributes for each decision tree estimator at a specific decision node.\n",
    "2. Fix the creation of the dictionary at the bottom of the function and return a dataframe."
   ]
  },
  {
   "cell_type": "code",
   "execution_count": null,
   "id": "e6ac2da9",
   "metadata": {},
   "outputs": [],
   "source": [
    "type(best_rf_model.estimators_[0].tree_)"
   ]
  },
  {
   "cell_type": "code",
   "execution_count": null,
   "id": "a9e6e8a9",
   "metadata": {},
   "outputs": [],
   "source": [
    "type(best_rf_model)"
   ]
  },
  {
   "cell_type": "code",
   "execution_count": null,
   "id": "4d3e9628",
   "metadata": {},
   "outputs": [],
   "source": [
    "help(best_rf_model.estimators_[0].tree_)"
   ]
  },
  {
   "cell_type": "code",
   "execution_count": null,
   "id": "991642d4",
   "metadata": {},
   "outputs": [],
   "source": [
    "# Complete the function\n",
    "\n",
    "def get_impurity_pd(model, n = 0):\n",
    "    \"\"\"\n",
    "    This function returns a pandas dataframe with all of the nth nodes feature impurities.\n",
    "    \"\"\"\n",
    "    rf_estimators = model.estimators_.copy()\n",
    "    features = np.array(X_train.columns)\n",
    "    \n",
    "    node_impurities, node_features = [], []\n",
    "\n",
    "    for i, estimator in enumerate(rf_estimators):\n",
    "        estimator_impurity = ___ # Your code here\n",
    "        estimator_feature  = ___ # Your code here\n",
    "        \n",
    "        node_impurities.append(estimator_impurity)\n",
    "        node_features.append(estimator_feature)\n",
    "        \n",
    "    node_impurity_dict = {\"feature\": ___ # Your code here\n",
    "                        \"impurity\": ___ # Your code here\n",
    "    df = ___ # Your code here\n",
    "    return(df)"
   ]
  },
  {
   "cell_type": "code",
   "execution_count": null,
   "id": "f56e6777",
   "metadata": {},
   "outputs": [],
   "source": [
    "tree_node = 0\n",
    "rf_df = get_impurity_pd(best_rf_model, tree_node)\n",
    "bagging_df = get_impurity_pd(bagging_model, tree_node)\n",
    "\n",
    "# plot\n",
    "fig, ax = plt.subplots(1,2, figsize = (20, 5))\n",
    "ax.ravel()\n",
    "\n",
    "sns.swarmplot(x = \"feature\", y = \"impurity\", data = rf_df, ax = ax[0])\n",
    "ax[0].tick_params(labelrotation=45)\n",
    "ax[0].set_title(\"Random Forest: Node 0 impurities after split\")\n",
    "\n",
    "sns.swarmplot(x = \"feature\", y = \"impurity\", data = bagging_df, ax = ax[1])\n",
    "ax[1].set_title(\"Bagging: Node 0 impurities after split\")\n",
    "plt.xticks(rotation=45);"
   ]
  },
  {
   "cell_type": "markdown",
   "id": "219694b1",
   "metadata": {},
   "source": [
    "____________\n",
    "\n",
    "#### The limitations of Random Forest\n",
    "\n",
    "**When can Random Forest overfit?**\n",
    "- Increasing the number of trees in RF generally doesn't increase the risk of overfitting, BUT if the number of trees in the ensemble is too large then the trees in the ensemble may become correlated, and therefore increase the variance.\n",
    "\n",
    "**When can Random Forest fail?**\n",
    "- When we have a lot of predictors that are completely independent of the response and one (or few) overwhelmingly influential predictor.\n",
    "\n",
    "**Why aren't random forests and bagging interpretable?  How about a very deep decision tree?**\n",
    "\n",
    "____________"
   ]
  },
  {
   "cell_type": "markdown",
   "id": "51a8f7f0",
   "metadata": {},
   "source": [
    "### Boosting"
   ]
  },
  {
   "cell_type": "markdown",
   "id": "7e060b21",
   "metadata": {},
   "source": [
    "We now discuss boosting, yet another approach for improving the predictions resulting from a decision tree. Like bagging, boosting is a general approach that can be applied to many statistical learning methods for regression or classification. \n",
    "The general idea of boosting is to combine multiple weak learners (simple models that perform slightly better than random guessing) into a strong learner (a more powerful and accurate model). Boosting is an ensemble learning technique that sequentially trains weak learners, where each subsequent learner focuses on the mistakes made by the previous learners. The key concept behind boosting is to iteratively improve the performance of the ensemble by emphasizing the instances that are difficult to classify or predict correctly. This is typically achieved by adjusting the weights of the training instances or the residuals of the previous models. By doing so, subsequent weak learners are forced to concentrate on the challenging instances, effectively reducing the overall error of the ensemble."
   ]
  },
  {
   "cell_type": "markdown",
   "id": "521f4b60",
   "metadata": {},
   "source": [
    "#### Bagging and random forest vs. Boosting\n",
    "\n",
    "- **Bagging and Random Forest:**\n",
    "  - complex and deep trees **overfit**\n",
    "  - thus **let's perform variance reduction on complex trees!**\n",
    "- **Boosting:** \n",
    "  - simple and shallow trees **underfit** \n",
    "  - thus **let's perform bias reduction of simple trees!**\n",
    "  - make the simple trees more expressive!\n",
    "  \n",
    "**Boosting** attempts to improve the predictive flexibility of simple models.\n",
    " - It trains a **large number of “weak” learners in sequence**.\n",
    " - A weak learner is a constrained model (limit the max depth of each decision tree).\n",
    " - Each one in the sequence focuses on **learning from the mistakes** of the one before it.\n",
    " - By more heavily weighting in the mistakes in the next tree, our next tree will learn from the mistakes.\n",
    " - Combining all the weak learners into a single strong learner = **a boosted tree**."
   ]
  },
  {
   "cell_type": "markdown",
   "id": "55f7aa0a",
   "metadata": {},
   "source": [
    "<img src=\"fig/gradient_boosting1.png?\" alt=\"tree_adj\" width=\"70%\"/>\n",
    "\n",
    "----------\n",
    "\n",
    "**Illustrative example** \n",
    "(from [source](https://towardsdatascience.com/underfitting-and-overfitting-in-machine-learning-and-how-to-deal-with-it-6fe4a8a49dbf))\n",
    "\n",
    "<img src=\"fig/boosting.png\" alt=\"tree_adj\" width=\"70%\"/>"
   ]
  },
  {
   "cell_type": "markdown",
   "id": "33d5d43b",
   "metadata": {},
   "source": [
    "**We build multiple trees consecutively: Tree 1 -> Tree 2 -> Tree 3 - > ...**\n",
    "\n",
    "**The size of the plus or minus signs indicates the weights of a data points for every Tree**. How do we determine these weights?\n",
    "\n",
    "For each consecutive tree and iteration we do the following:\n",
    " - The **wrongly classified data points (\"mistakes\" = red circles)** are identified and **more heavily weighted in the next tree (green arrow)**\n",
    " - Thus the size of the plus or minus changes in the next tree\n",
    " - This change in weights will influence and change the next simple decision tree\n",
    " - The **correct predictions are** identified and **less heavily weighted in the next tree**.\n",
    "\n",
    "We iterate this process for a certain number of times, stop and construct our final model: \n",
    "- The ensemble (**\"Final: Combination\"**) is a linear combination of the simple trees, and is more expressive!\n",
    "- The ensemble (**\"Final: Combination\"**) has indeed not just one simple decision boundary line, and fits the data better.\n",
    " \n",
    " \n",
    "<img src=\"data/boosting_2.png?\" alt=\"tree_adj\" width=\"70%\"/>"
   ]
  },
  {
   "cell_type": "markdown",
   "id": "4e9188cc",
   "metadata": {},
   "source": [
    "**Food for Thought :**\n",
    "- Are **boosted models independent of one another?** Do they need to wait for the previous model's residuals?\n",
    "- Are **bagging or random forest models independent of each other**, can they be trained in a parallel fashion?"
   ]
  },
  {
   "cell_type": "markdown",
   "id": "8d5d0eeb",
   "metadata": {},
   "source": [
    "#### What is Gradient Boosting and XGBoost?"
   ]
  },
  {
   "cell_type": "markdown",
   "id": "e5292be8",
   "metadata": {},
   "source": [
    "#### What is Gradient Boosting?\n",
    "\n",
    "To improve its predictions, **gradient boosting looks at the difference between its current approximation, and the known correct target vector, which is called the residual**.\n",
    "\n",
    "The mathematics:\n",
    "\n",
    "- It may be assumed that there is some imperfect model $F_{m}$ \n",
    "- The gradient boosting algorithm improves on $F_{m}$ constructing a new model that adds an estimator $h$ to provide a better model: \n",
    "$$F_{m+1}(x)=F_{m}(x)+h(x)$$\n",
    "\n",
    "- To find $h$, the gradient boosting solution starts with the observation that a perfect **h** would imply\n",
    "\n",
    "$$F_{m+1}(x)=F_{m}(x)+h(x)=y$$\n",
    "\n",
    "- or, equivalently solving for h,\n",
    "\n",
    "$$h(x)=y-F_{m}(x)$$\n",
    "\n",
    "- Therefore, gradient boosting will fit h to the residual $y-F_{m}(x)$"
   ]
  },
  {
   "cell_type": "markdown",
   "id": "3f804960",
   "metadata": {},
   "source": [
    "<img src=\"fig/gradient_boosting2.png\" alt=\"tree_adj\" width=\"80%\"/>"
   ]
  },
  {
   "cell_type": "markdown",
   "id": "a66e814b",
   "metadata": {},
   "source": [
    "\n",
    "-------\n",
    "\n",
    "#### XGBoost: [\"Long May She Reign!\"](https://towardsdatascience.com/https-medium-com-vishalmorde-xgboost-algorithm-long-she-may-rein-edd9f99be63d)\n",
    "\n",
    "<img src=\"fig/kaggle.png\" alt=\"tree_adj\" width=\"100%\"/>"
   ]
  },
  {
   "cell_type": "markdown",
   "id": "abf020d7",
   "metadata": {},
   "source": [
    "\n",
    "----------\n",
    "\n",
    "### What is XGBoost and why is it so good!?\n",
    " - **Based on Gradient Boosting**: XGBoost utilizes a more advanced and efficient approach to compute the gradient and update the ensemble's predictions. It employs second-order gradient information (Hessian) to further refine the learning process and handle more complex loss functions.\n",
    " - XGBoost = **eXtreme Gradient Boosting**; refers to the engineering goal to push the limit of computations resources for boosted tree algorithm.\n",
    " - **Handling of missing values**: XGBoost has built-in handling for missing values in input data. It automatically learns how to best handle missing values during training, without requiring manual imputation or preprocessing steps.\n",
    " \n",
    "**Accuracy:**\n",
    " - XGBoost however uses a **more regularized model formalizaiton to control overfitting** (= better performance) by both L1 and L2 regularization.\n",
    " - Tree Pruning methods: XGBoost employs tree pruning techniques to control model complexity and reduce overfitting\n",
    " - Improved convergence techniques (like early stopping when no improvement is made for X number of iterations)\n",
    " - Built-in Cross-Validation\n",
    " \n",
    "**Computing Speed:**\n",
    " - Special Vector and matrix type data structures for faster results.\n",
    " - Parallelized tree building: using all of your CPU cores during training.\n",
    " - Distributed Computing: for training very large models using a cluster of machines.\n",
    " - Cache Optimization of data structures and algorithm: to make best use of hardware.\n",
    "\n",
    "**XGBoost is building boosted trees in parallel? What? How?**\n",
    "- No: Xgboost doesn't run multiple trees in parallel, you need predictions after each tree to update gradients.\n",
    "- Rather it does the parallelization WITHIN a single tree my using openMP to create branches independently."
   ]
  },
  {
   "cell_type": "markdown",
   "id": "9a4e7f75",
   "metadata": {},
   "source": [
    "#### How to build XGBoost models in Python?\n",
    "In Python we build XGBoost model with the xgboost library as in the following example:"
   ]
  },
  {
   "cell_type": "code",
   "execution_count": 1,
   "id": "6a190bf4",
   "metadata": {},
   "outputs": [
    {
     "name": "stdout",
     "output_type": "stream",
     "text": [
      "[13:33:22] WARNING: C:/Users/Administrator/workspace/xgboost-win64_release_1.5.1/src/learner.cc:1115: Starting in XGBoost 1.3.0, the default evaluation metric used with the objective 'multi:softprob' was changed from 'merror' to 'mlogloss'. Explicitly set eval_metric if you'd like to restore the old behavior.\n"
     ]
    },
    {
     "name": "stderr",
     "output_type": "stream",
     "text": [
      "C:\\Users\\Ticio\\anaconda3\\lib\\site-packages\\xgboost\\sklearn.py:1224: UserWarning: The use of label encoder in XGBClassifier is deprecated and will be removed in a future release. To remove this warning, do the following: 1) Pass option use_label_encoder=False when constructing XGBClassifier object; and 2) Encode your labels (y) as integers starting with 0, i.e. 0, 1, 2, ..., [num_class - 1].\n",
      "  warnings.warn(label_encoder_deprecation_msg, UserWarning)\n"
     ]
    }
   ],
   "source": [
    "from xgboost import XGBClassifier\n",
    "# read data\n",
    "from sklearn.datasets import load_iris\n",
    "from sklearn.model_selection import train_test_split\n",
    "data = load_iris()\n",
    "X_train, X_test, y_train, y_test = train_test_split(data['data'], data['target'], test_size=.2)\n",
    "# create model instance\n",
    "bst = XGBClassifier(n_estimators=2, max_depth=2, learning_rate=1, objective='binary:logistic')\n",
    "# fit model\n",
    "bst.fit(X_train, y_train)\n",
    "# make predictions\n",
    "preds = bst.predict(X_test)"
   ]
  },
  {
   "cell_type": "markdown",
   "id": "ca0a6a29",
   "metadata": {},
   "source": [
    "Read the [official documentation](https://xgboost.readthedocs.io/en/latest/tutorials/param_tuning.html) for details on how to tune the xgboost hyperparameters"
   ]
  },
  {
   "cell_type": "markdown",
   "id": "b64833dd",
   "metadata": {},
   "source": [
    "## XGBoost with the Spam dataset"
   ]
  },
  {
   "cell_type": "code",
   "execution_count": null,
   "id": "7fc2d899",
   "metadata": {},
   "outputs": [],
   "source": [
    "# Let's install XGBoost\n",
    "#! pip install xgboost"
   ]
  },
  {
   "cell_type": "code",
   "execution_count": null,
   "id": "e45a6053",
   "metadata": {},
   "outputs": [
    {
     "name": "stdout",
     "output_type": "stream",
     "text": [
      "[13:29:39] WARNING: C:/Users/Administrator/workspace/xgboost-win64_release_1.5.1/src/learner.cc:576: \n",
      "Parameters: { \"silent\" } might not be used.\n",
      "\n",
      "  This could be a false alarm, with some parameters getting used by language bindings but\n",
      "  then being mistakenly passed down to XGBoost core, or some parameter actually being used\n",
      "  but getting flagged wrongly here. Please open an issue if you find any such cases.\n",
      "\n",
      "\n",
      "[13:29:39] WARNING: C:/Users/Administrator/workspace/xgboost-win64_release_1.5.1/src/learner.cc:1115: Starting in XGBoost 1.3.0, the default evaluation metric used with the objective 'multi:softprob' was changed from 'merror' to 'mlogloss'. Explicitly set eval_metric if you'd like to restore the old behavior.\n",
      "[0]\ttrain-mlogloss:0.49037\n",
      "[20]\ttrain-mlogloss:0.05306\n",
      "[40]\ttrain-mlogloss:0.02732\n",
      "[60]\ttrain-mlogloss:0.01627\n",
      "[80]\ttrain-mlogloss:0.01039\n",
      "[100]\ttrain-mlogloss:0.00747\n",
      "[120]\ttrain-mlogloss:0.00575\n",
      "[140]\ttrain-mlogloss:0.00471\n",
      "[160]\ttrain-mlogloss:0.00400\n",
      "[180]\ttrain-mlogloss:0.00356\n",
      "[199]\ttrain-mlogloss:0.00325\n",
      "XGBoost:\tAccuracy, Training Set \t: 99.94%\n",
      "XGBoost:\tAccuracy, Testing Set \t: 95.15%\n"
     ]
    }
   ],
   "source": [
    "import xgboost as xgb\n",
    "\n",
    "# Create the training and test data with DMatrix\n",
    "# DMatrix is the basic data storage for XGBoost\n",
    "dtrain = xgb.DMatrix(x_train, label=y_train)\n",
    "dtest = xgb.DMatrix(x_test, label=y_test)\n",
    "\n",
    "# Parameters\n",
    "param = {\n",
    "    'max_depth': best_depth,        # the maximum depth of each tree\n",
    "    'eta': 0.3,                     # the training step for each iteration (also called learning rate)\n",
    "    'silent': 1,                    # logging mode - quiet\n",
    "    'objective': 'multi:softprob',  # error evaluation for multiclass training (softmax objective)\n",
    "    'num_class': 2}                 # the number of classes that exist in this datset\n",
    "\n",
    "# Number of training iterations, that is, number of trees \n",
    "num_round = 200  \n",
    "\n",
    "# Start timer\n",
    "start = time.time()\n",
    "\n",
    "# Train XGBoost\n",
    "bst = xgb.train(param, \n",
    "                dtrain, \n",
    "                num_round, \n",
    "                evals= [(dtrain, 'train')], \n",
    "                early_stopping_rounds=20, # early stopping\n",
    "                verbose_eval=20)\n",
    "\n",
    "\n",
    "# Make prediction training set\n",
    "preds_train = bst.predict(dtrain)\n",
    "best_preds_train = np.asarray([np.argmax(line) for line in preds_train])\n",
    "\n",
    "# Make prediction test set\n",
    "preds_test = bst.predict(dtest)\n",
    "best_preds_test = np.asarray([np.argmax(line) for line in preds_test])\n",
    "\n",
    "# Performance Evaluation \n",
    "acc_XGBoost_training = accuracy_score(y_train, best_preds_train)*100\n",
    "acc_XGBoost_test = accuracy_score(y_test, best_preds_test)*100\n",
    "\n",
    "# Stop Timer\n",
    "end = time.time()\n",
    "elapsed_xgboost = end - start\n",
    "\n",
    "print(\"XGBoost:\\tAccuracy, Training Set \\t: {:0.2f}%\".format(acc_XGBoost_training))\n",
    "print(\"XGBoost:\\tAccuracy, Testing Set \\t: {:0.2f}%\".format(acc_XGBoost_test))"
   ]
  },
  {
   "cell_type": "markdown",
   "id": "17f45267",
   "metadata": {},
   "source": [
    "**What's the difference between XGBClassifier and xgb.train?**\n",
    "\n",
    "XGBClassifier is a scikit-learn compatible class which can be used in conjunction with other scikit-learn utilities. It's just a wrapper over the xgb.train, in which you don't need to supply advanced objects like Booster etc. "
   ]
  },
  {
   "cell_type": "markdown",
   "id": "c26777b1",
   "metadata": {},
   "source": [
    "----------\n",
    "#### The history of boosting algorithms\n",
    "\n",
    "The first implementation of a boosting algorithm dates back to 1995 when Yoav Freund and Robert Schapire proposed the AdaBoost algorithm, short for Adaptive Boosting. Later on, other boosting algorithms were developed, like Gradient Boosting. The key idea of Gradient Boosting algorithms is to iteratively add weak learners to the ensemble, with each weak learner fitting the negative gradient (pseudo-residuals) of the loss function. By continuously updating the ensemble's predictions, the algorithm gradually reduces the errors made by the previous weak learners. The learning rate controls the contribution of each weak learner, preventing overfitting and allowing the ensemble to generalize well.\n",
    "\n",
    "XGBoost (or eXtreme Gradient Boosting) is an optimized Boosting Algorithm. Since its introduction, this algorithm has not only been credited with winning numerous Kaggle competitions but also for being the driving force under the hood for several cutting-edge industry applications. Its combination of speed, accuracy, and flexibility makes it a powerful tool for solving regression, classification, and ranking problems. Moreover, XGBoost provides interfaces for multiple programming languages, including Python, R, Java, and Julia, making it easily accessible to a wide range of users. XGBoost extends the capabilities of traditional gradient boosting and introduces several techniques to improve model performance and efficiency."
   ]
  },
  {
   "cell_type": "markdown",
   "id": "ecda088b",
   "metadata": {},
   "source": [
    "**Overview of all the tree algorithms:** [Source](https://towardsdatascience.com/https-medium-com-vishalmorde-xgboost-algorithm-long-she-may-rein-edd9f99be63d)\n",
    "\n",
    "<img src=\"fig/trees.png\" alt=\"tree_adj\" width=\"100%\"/>\n",
    "\n",
    "----------"
   ]
  },
  {
   "cell_type": "markdown",
   "id": "85cf6e3e",
   "metadata": {},
   "source": [
    "## Recap of the Bias vs Variance tradeoff"
   ]
  },
  {
   "cell_type": "markdown",
   "id": "e3035f3e",
   "metadata": {},
   "source": [
    "A central notion underlying what we've been learning in lectures so far is the trade-off between bias and variance, overfitting and underfitting. Here is a recap of the main concepts:\n",
    "\n",
    "- The **bias** of a model quantifies how precise a model is across training sets. \n",
    "- The **variance** quantifies how sensitive the model is to small changes in the training set. \n",
    "- A **robust** model is not overly sensitive to small changes. \n",
    "- **The dilemma involves minimizing both bias and variance**; we want a precise and robust model. Simpler models tend to be less accurate but more robust. Complex models tend to be more accurate but less robust.\n",
    "\n",
    "**How to reduce bias:**\n",
    " - **Use more complex models, more features, less regularization,** ...\n",
    " - **Boosting:** attempts to improve the predictive flexibility of simple models. Boosting uses simple base models and tries to “boost” their aggregate complexity.\n",
    " \n",
    "**How to reduce variance:**\n",
    " - **Early Stopping:** Its rules provide us with guidance as to how many iterations can be run before the learner begins to over-fit.\n",
    " - **Pruning:** Pruning is extensively used while building related models. It simply removes the nodes which add little predictive power for the problem in hand.\n",
    " - **Regularization:** It introduces a cost term for bringing in more features with the objective function. Hence it tries to push the coefficients for many variables to zero and hence reduce cost term.\n",
    " - **Train with more data:** It won’t work every time, but training with more data can help algorithms detect the signal better.\n",
    " - **Ensembling:** Ensembles are machine learning methods for combining predictions from multiple separate models. For example:\n",
    "   - **Bagging** attempts to reduce the chance of overfitting complex models: Bagging uses complex base models and tries to “smooth out” their predictions."
   ]
  }
 ],
 "metadata": {
  "kernelspec": {
   "display_name": "Python 3 (ipykernel)",
   "language": "python",
   "name": "python3"
  },
  "language_info": {
   "codemirror_mode": {
    "name": "ipython",
    "version": 3
   },
   "file_extension": ".py",
   "mimetype": "text/x-python",
   "name": "python",
   "nbconvert_exporter": "python",
   "pygments_lexer": "ipython3",
   "version": "3.11.5"
  }
 },
 "nbformat": 4,
 "nbformat_minor": 5
}
